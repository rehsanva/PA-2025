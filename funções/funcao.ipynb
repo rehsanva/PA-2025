{
  "nbformat": 4,
  "nbformat_minor": 0,
  "metadata": {
    "colab": {
      "provenance": [],
      "authorship_tag": "ABX9TyMmN5hrAYYr6NcUwJEG82vb",
      "include_colab_link": true
    },
    "kernelspec": {
      "name": "python3",
      "display_name": "Python 3"
    },
    "language_info": {
      "name": "python"
    }
  },
  "cells": [
    {
      "cell_type": "markdown",
      "metadata": {
        "id": "view-in-github",
        "colab_type": "text"
      },
      "source": [
        "<a href=\"https://colab.research.google.com/github/rehsanva/PA-2025/blob/main/fun%C3%A7%C3%B5es/funcao.ipynb\" target=\"_parent\"><img src=\"https://colab.research.google.com/assets/colab-badge.svg\" alt=\"Open In Colab\"/></a>"
      ]
    },
    {
      "cell_type": "markdown",
      "source": [
        "# Definindo as funções sem retorno"
      ],
      "metadata": {
        "id": "IWIItCtCNiik"
      }
    },
    {
      "cell_type": "markdown",
      "source": [],
      "metadata": {
        "id": "TqSBd8MEid2N"
      }
    },
    {
      "cell_type": "code",
      "execution_count": null,
      "metadata": {
        "id": "n2jZMzuuMGqm"
      },
      "outputs": [],
      "source": [
        "total = 0\n",
        "def soma(x,y):\n",
        "  total = x + y\n",
        "  print(total)"
      ]
    },
    {
      "cell_type": "code",
      "source": [
        "subtrai = 0\n",
        "def diminuir(x,y):\n",
        "  subtrai = x - y\n",
        "  print(subtrai)"
      ],
      "metadata": {
        "id": "kOYtZ7O_NKt-"
      },
      "execution_count": null,
      "outputs": []
    },
    {
      "cell_type": "markdown",
      "source": [
        "## Agora vou chamar as funções"
      ],
      "metadata": {
        "id": "WUzm8lyuNn3O"
      }
    },
    {
      "cell_type": "code",
      "source": [
        "valor1 = float(input(\"Digite o primeiro valor\"))\n",
        "valor2 = float(input(\"Digite o segundo valor\"))\n",
        "\n",
        "soma(valor1,valor2)\n",
        "diminuir(valor1, valor2)"
      ],
      "metadata": {
        "id": "Rta2g_mmNsbq"
      },
      "execution_count": null,
      "outputs": []
    },
    {
      "cell_type": "code",
      "source": [
        "print(total)\n",
        "print(subtrai)"
      ],
      "metadata": {
        "id": "9okufnA7O1_l"
      },
      "execution_count": null,
      "outputs": []
    },
    {
      "cell_type": "markdown",
      "source": [
        "# Definindo as funções com retorno"
      ],
      "metadata": {
        "id": "OW-t4A1PQlVh"
      }
    },
    {
      "cell_type": "code",
      "source": [
        "def mult(x,y):\n",
        "  total = x * y\n",
        "  return total\n",
        "\n",
        "def divi(x,y):\n",
        "  total = x/y\n",
        "  return total"
      ],
      "metadata": {
        "id": "zYJttgCIQ79n"
      },
      "execution_count": null,
      "outputs": []
    },
    {
      "cell_type": "markdown",
      "source": [
        "## Chamando uma função com retorno"
      ],
      "metadata": {
        "id": "eVRYJc7iSPmu"
      }
    },
    {
      "cell_type": "code",
      "source": [
        "valor1 = float(input(\"Digite o primeiro valor\"))\n",
        "valor2 = float(input(\"Digite o segundo valor\"))\n",
        "\n",
        "multiplicacao = mult(valor1,valor2)\n",
        "divisao = divi(valor1,valor2)\n",
        "\n",
        "print(\"O resultado da multiplicação é:\", multiplicacao)\n",
        "print(\"O resultado da divisão é:\", divisao)"
      ],
      "metadata": {
        "id": "L9pDrsq6SLT6"
      },
      "execution_count": null,
      "outputs": []
    },
    {
      "cell_type": "markdown",
      "source": [
        "# Tipos de Funções"
      ],
      "metadata": {
        "id": "MPr9KmuwcGSf"
      }
    },
    {
      "cell_type": "markdown",
      "source": [
        "## Função sem Parâmetro e sem Retorno"
      ],
      "metadata": {
        "id": "x9sabxw5U0vl"
      }
    },
    {
      "cell_type": "code",
      "source": [
        "def saudacao():\n",
        "  print(\"Olá! Seja bem-vindo(a) ao curso de Python!\")"
      ],
      "metadata": {
        "id": "bqnmHss7U6NZ"
      },
      "execution_count": null,
      "outputs": []
    },
    {
      "cell_type": "code",
      "source": [
        "saudacao()"
      ],
      "metadata": {
        "id": "PLQxHJY4VCv8"
      },
      "execution_count": null,
      "outputs": []
    },
    {
      "cell_type": "code",
      "source": [
        "from datetime import date\n",
        "\n",
        "date.today()"
      ],
      "metadata": {
        "id": "uZ3dmHq9WgsT"
      },
      "execution_count": null,
      "outputs": []
    },
    {
      "cell_type": "code",
      "source": [
        "len('Cintia')"
      ],
      "metadata": {
        "id": "q0PQIxOMVbIS"
      },
      "execution_count": null,
      "outputs": []
    },
    {
      "cell_type": "code",
      "source": [
        "from datetime import datetime\n",
        "\n",
        "def mostrar_horario():\n",
        "    agora = datetime.now()\n",
        "    print(f\"Horário atual: {agora.strftime('%H:%M:%S')}\")"
      ],
      "metadata": {
        "id": "sNe-XNL3W6AN"
      },
      "execution_count": null,
      "outputs": []
    },
    {
      "cell_type": "code",
      "source": [
        "mostrar_horario()"
      ],
      "metadata": {
        "id": "WwY08zGIW9H7"
      },
      "execution_count": null,
      "outputs": []
    },
    {
      "cell_type": "markdown",
      "source": [
        "## Função com Parâmetro e sem Retorno"
      ],
      "metadata": {
        "id": "RpseFs4-YJBg"
      }
    },
    {
      "cell_type": "code",
      "source": [
        "nome = input( \"Digite o seu nome:\")\n",
        "def apresentar(nome):\n",
        "  print(f\"Olá, {nome}! Prazer em te conhecer.\")\n",
        "\n",
        "apresentar(nome)"
      ],
      "metadata": {
        "id": "E_ds3DJfYUEo"
      },
      "execution_count": null,
      "outputs": []
    },
    {
      "cell_type": "code",
      "source": [
        "total = 0\n",
        "def soma(x,y):\n",
        "  total = x + y\n",
        "  print(total)\n",
        "\n",
        "subtrai = 0\n",
        "def diminuir(x,y):\n",
        "  subtrai = x - y\n",
        "  print(subtrai)\n",
        "\n",
        "valor1 = float(input(\"Digite o primeiro valor\"))\n",
        "valor2 = float(input(\"Digite o segundo valor\"))\n",
        "\n",
        "soma(valor1, valor2)\n",
        "diminuir(valor1, valor2)"
      ],
      "metadata": {
        "id": "dNJKK3XtY1Pp"
      },
      "execution_count": null,
      "outputs": []
    },
    {
      "cell_type": "code",
      "source": [
        "numero = float(input(\"Digite um número:\"))\n",
        "\n",
        "def verificar_paridade(numero):\n",
        "  if numero % 2 == 0:\n",
        "    print(f\"O número {numero} é PAR.\")\n",
        "\n",
        "  else:\n",
        "    print(f\"O número {numero} é ÍMPAR.\")\n",
        "\n",
        "verificar_paridade(numero)"
      ],
      "metadata": {
        "id": "jkmNTVFLaRGe"
      },
      "execution_count": null,
      "outputs": []
    },
    {
      "cell_type": "code",
      "source": [
        "def verificar_paridade(numero):\n",
        "  if numero % 2 == 0:\n",
        "    print(f\"O número {numero} é PAR.\")\n",
        "\n",
        "  else:\n",
        "    print(f\"O número {numero} é ÍMPAR.\")\n",
        "\n",
        "verificar_paridade(7)\n",
        "verificar_paridade(12)"
      ],
      "metadata": {
        "id": "UvoUQccdajpa"
      },
      "execution_count": null,
      "outputs": []
    },
    {
      "cell_type": "markdown",
      "source": [
        "## Função sem Parâmetro e com Retorno"
      ],
      "metadata": {
        "id": "Jge-L5yVbiED"
      }
    },
    {
      "cell_type": "code",
      "source": [
        "def mensagem():\n",
        "  return \"Hoje é um ótimo dia para programar!\""
      ],
      "metadata": {
        "id": "SPR1AY7Hb4Vu"
      },
      "execution_count": null,
      "outputs": []
    },
    {
      "cell_type": "code",
      "source": [
        "usar = mensagem()\n",
        "print(\"É sexta!\", usar)"
      ],
      "metadata": {
        "id": "9g1ZZroocguI"
      },
      "execution_count": null,
      "outputs": []
    },
    {
      "cell_type": "code",
      "source": [
        "def somanotas():\n",
        "  nota1 = float(input(\"Digite a primeira nota\"))\n",
        "  nota2 = float(input(\"Digite a segunda nota\"))\n",
        "  nota3 = float(input(\"Digite a terceira nota\"))\n",
        "\n",
        "  total = nota1+ nota2 + nota3\n",
        "  return total"
      ],
      "metadata": {
        "id": "uhG_M-Csn5on"
      },
      "execution_count": null,
      "outputs": []
    },
    {
      "cell_type": "code",
      "source": [
        "somatresnotas = somanotas()"
      ],
      "metadata": {
        "id": "1O9kzr4sopVU"
      },
      "execution_count": null,
      "outputs": []
    },
    {
      "cell_type": "code",
      "source": [
        "def media(somatresnotas):\n",
        "  result = (somatresnotas/3)\n",
        "  return result"
      ],
      "metadata": {
        "id": "D8q1B5InoaIW"
      },
      "execution_count": null,
      "outputs": []
    },
    {
      "cell_type": "code",
      "source": [
        "print(f\"O resultado da soma das três notas é {somatresnotas}\")\n",
        "print(f\"O resultado da média das três notas é {media(somatresnotas)}\")"
      ],
      "metadata": {
        "id": "H_cKuOibo0Cl"
      },
      "execution_count": null,
      "outputs": []
    },
    {
      "cell_type": "markdown",
      "source": [
        "## Função com Parâmetro e com Retorno"
      ],
      "metadata": {
        "id": "x7lVhU0ucfke"
      }
    },
    {
      "cell_type": "code",
      "source": [
        "def soma(a, b):\n",
        "  resultado = a + b\n",
        "  return resultado\n",
        "\n",
        "\n",
        "print(soma(10, 5))"
      ],
      "metadata": {
        "id": "KTTNmicjjqAu"
      },
      "execution_count": null,
      "outputs": []
    },
    {
      "cell_type": "code",
      "source": [
        "def calcular_peso (peso,altura):\n",
        "  imc=peso/(altura**2)\n",
        "  return imc\n",
        "peso=float(input(\"Digite seu peso: \"))\n",
        "altura=float(input(\"Digite sua altura: \"))"
      ],
      "metadata": {
        "id": "cx28W4vkT1CA"
      },
      "execution_count": null,
      "outputs": []
    },
    {
      "cell_type": "code",
      "source": [
        "def calcular_total(preco_unitario,quantidade):\n",
        "  total=preco_unitario*quantidade\n",
        "  return total\n",
        "preco_unitario =float(input(\"Digite o preço do produto: \"))\n",
        "quantidade =float(input(\"Digite a quantidade: \"))\n",
        "valor= calcular_total(preco_unitario,quantidade)\n",
        "print(f\"O valor total da compra é de: {valor}\")"
      ],
      "metadata": {
        "colab": {
          "base_uri": "https://localhost:8080/",
          "height": 371
        },
        "id": "hNrjHV46T2dI",
        "outputId": "69420418-b641-4f65-e83e-de9b2869c310"
      },
      "execution_count": null,
      "outputs": [
        {
          "output_type": "error",
          "ename": "KeyboardInterrupt",
          "evalue": "Interrupted by user",
          "traceback": [
            "\u001b[0;31m---------------------------------------------------------------------------\u001b[0m",
            "\u001b[0;31mKeyboardInterrupt\u001b[0m                         Traceback (most recent call last)",
            "\u001b[0;32m/tmp/ipython-input-865347871.py\u001b[0m in \u001b[0;36m<cell line: 0>\u001b[0;34m()\u001b[0m\n\u001b[1;32m      2\u001b[0m   \u001b[0mtotal\u001b[0m\u001b[0;34m=\u001b[0m\u001b[0mpreco_unitario\u001b[0m\u001b[0;34m*\u001b[0m\u001b[0mquantidade\u001b[0m\u001b[0;34m\u001b[0m\u001b[0;34m\u001b[0m\u001b[0m\n\u001b[1;32m      3\u001b[0m   \u001b[0;32mreturn\u001b[0m \u001b[0mtotal\u001b[0m\u001b[0;34m\u001b[0m\u001b[0;34m\u001b[0m\u001b[0m\n\u001b[0;32m----> 4\u001b[0;31m \u001b[0mpreco_unitario\u001b[0m \u001b[0;34m=\u001b[0m\u001b[0mfloat\u001b[0m\u001b[0;34m(\u001b[0m\u001b[0minput\u001b[0m\u001b[0;34m(\u001b[0m\u001b[0;34m\"Digite o preço do produto: \"\u001b[0m\u001b[0;34m)\u001b[0m\u001b[0;34m)\u001b[0m\u001b[0;34m\u001b[0m\u001b[0;34m\u001b[0m\u001b[0m\n\u001b[0m\u001b[1;32m      5\u001b[0m \u001b[0mquantidade\u001b[0m \u001b[0;34m=\u001b[0m\u001b[0mfloat\u001b[0m\u001b[0;34m(\u001b[0m\u001b[0minput\u001b[0m\u001b[0;34m(\u001b[0m\u001b[0;34m\"Digite a quantidade: \"\u001b[0m\u001b[0;34m)\u001b[0m\u001b[0;34m)\u001b[0m\u001b[0;34m\u001b[0m\u001b[0;34m\u001b[0m\u001b[0m\n\u001b[1;32m      6\u001b[0m \u001b[0mvalor\u001b[0m\u001b[0;34m=\u001b[0m \u001b[0mcalcular_total\u001b[0m\u001b[0;34m(\u001b[0m\u001b[0mpreco_unitario\u001b[0m\u001b[0;34m,\u001b[0m\u001b[0mquantidade\u001b[0m\u001b[0;34m)\u001b[0m\u001b[0;34m\u001b[0m\u001b[0;34m\u001b[0m\u001b[0m\n",
            "\u001b[0;32m/usr/local/lib/python3.12/dist-packages/ipykernel/kernelbase.py\u001b[0m in \u001b[0;36mraw_input\u001b[0;34m(self, prompt)\u001b[0m\n\u001b[1;32m   1175\u001b[0m                 \u001b[0;34m\"raw_input was called, but this frontend does not support input requests.\"\u001b[0m\u001b[0;34m\u001b[0m\u001b[0;34m\u001b[0m\u001b[0m\n\u001b[1;32m   1176\u001b[0m             )\n\u001b[0;32m-> 1177\u001b[0;31m         return self._input_request(\n\u001b[0m\u001b[1;32m   1178\u001b[0m             \u001b[0mstr\u001b[0m\u001b[0;34m(\u001b[0m\u001b[0mprompt\u001b[0m\u001b[0;34m)\u001b[0m\u001b[0;34m,\u001b[0m\u001b[0;34m\u001b[0m\u001b[0;34m\u001b[0m\u001b[0m\n\u001b[1;32m   1179\u001b[0m             \u001b[0mself\u001b[0m\u001b[0;34m.\u001b[0m\u001b[0m_parent_ident\u001b[0m\u001b[0;34m[\u001b[0m\u001b[0;34m\"shell\"\u001b[0m\u001b[0;34m]\u001b[0m\u001b[0;34m,\u001b[0m\u001b[0;34m\u001b[0m\u001b[0;34m\u001b[0m\u001b[0m\n",
            "\u001b[0;32m/usr/local/lib/python3.12/dist-packages/ipykernel/kernelbase.py\u001b[0m in \u001b[0;36m_input_request\u001b[0;34m(self, prompt, ident, parent, password)\u001b[0m\n\u001b[1;32m   1217\u001b[0m             \u001b[0;32mexcept\u001b[0m \u001b[0mKeyboardInterrupt\u001b[0m\u001b[0;34m:\u001b[0m\u001b[0;34m\u001b[0m\u001b[0;34m\u001b[0m\u001b[0m\n\u001b[1;32m   1218\u001b[0m                 \u001b[0;31m# re-raise KeyboardInterrupt, to truncate traceback\u001b[0m\u001b[0;34m\u001b[0m\u001b[0;34m\u001b[0m\u001b[0m\n\u001b[0;32m-> 1219\u001b[0;31m                 \u001b[0;32mraise\u001b[0m \u001b[0mKeyboardInterrupt\u001b[0m\u001b[0;34m(\u001b[0m\u001b[0;34m\"Interrupted by user\"\u001b[0m\u001b[0;34m)\u001b[0m \u001b[0;32mfrom\u001b[0m \u001b[0;32mNone\u001b[0m\u001b[0;34m\u001b[0m\u001b[0;34m\u001b[0m\u001b[0m\n\u001b[0m\u001b[1;32m   1220\u001b[0m             \u001b[0;32mexcept\u001b[0m \u001b[0mException\u001b[0m\u001b[0;34m:\u001b[0m\u001b[0;34m\u001b[0m\u001b[0;34m\u001b[0m\u001b[0m\n\u001b[1;32m   1221\u001b[0m                 \u001b[0mself\u001b[0m\u001b[0;34m.\u001b[0m\u001b[0mlog\u001b[0m\u001b[0;34m.\u001b[0m\u001b[0mwarning\u001b[0m\u001b[0;34m(\u001b[0m\u001b[0;34m\"Invalid Message:\"\u001b[0m\u001b[0;34m,\u001b[0m \u001b[0mexc_info\u001b[0m\u001b[0;34m=\u001b[0m\u001b[0;32mTrue\u001b[0m\u001b[0;34m)\u001b[0m\u001b[0;34m\u001b[0m\u001b[0;34m\u001b[0m\u001b[0m\n",
            "\u001b[0;31mKeyboardInterrupt\u001b[0m: Interrupted by user"
          ]
        }
      ]
    },
    {
      "cell_type": "markdown",
      "source": [
        "# Exercícios Extras – Praticando Funções em Python"
      ],
      "metadata": {
        "id": "2PriqWllk7An"
      }
    },
    {
      "cell_type": "markdown",
      "source": [
        "## 1) Mensagem de Boas-vindas\n",
        "\n",
        "Crie uma função chamada saudacao que não recebe parâmetros e simplesmente imprime na tela a mensagem que você escolher.\n",
        "\n",
        "Nome da Função: boas_vindas(), escolha a saudação\n",
        "\n",
        " Esta é a forma mais simples: uma função que executa uma ação (impressão) sem precisar de dados externos ou retornar um resultado.\n",
        "\n",
        " Dica: esse tipo de função é “sem parâmetro e sem retorno”."
      ],
      "metadata": {
        "id": "h_ePT45dlG3_"
      }
    },
    {
      "cell_type": "code",
      "source": [
        "def boas_vindas():\n",
        "  print(\"Olá, Seja Bem-Vindo(a)!\")"
      ],
      "metadata": {
        "id": "ddp9OXLWseuR"
      },
      "execution_count": null,
      "outputs": []
    },
    {
      "cell_type": "code",
      "source": [
        "boas_vindas()"
      ],
      "metadata": {
        "id": "7oPbX9dLiwmp"
      },
      "execution_count": null,
      "outputs": []
    },
    {
      "cell_type": "markdown",
      "source": [
        "## 2) Conversor de Temperatura\n",
        "\n",
        "Crie uma função chamada celsius_para_fahrenheit que recebe uma temperatura em Celsius ($C$) e retorna a temperatura equivalente em Fahrenheit ($F$).\n",
        "\n",
        "$$\n",
        "F = C \\times \\frac{9}{5} + 32\n",
        "$$\n",
        "\n",
        " Lembre-se de converter a fração para decimal para garantir o cálculo correto e usar o return para devolver o valor.\n"
      ],
      "metadata": {
        "id": "7Ek1sd7mjfRL"
      }
    },
    {
      "cell_type": "code",
      "source": [
        "def celsius_para_fahrenheit():\n",
        "  celcius = float(input(\"Digite a temperatura em Celsius(C)\"))\n",
        "  fahrenheit = (celcius * 9/5) + 32\n",
        "  return fahrenheit\n"
      ],
      "metadata": {
        "id": "piwYfSmcjZit"
      },
      "execution_count": null,
      "outputs": []
    },
    {
      "cell_type": "code",
      "source": [
        "resultado = celsius_para_fahrenheit()\n",
        "print('A temperatura convertida de Celcius para Fahrenheit é:', resultado)"
      ],
      "metadata": {
        "id": "CU8jMgTDORs4"
      },
      "execution_count": null,
      "outputs": []
    },
    {
      "cell_type": "markdown",
      "source": [
        "## 3)  Mensagem Personalizada\n",
        "\n",
        "Crie uma função chamada boas_vindas_personalizada que recebe um parâmetro nome (string) e imprime uma mensagem de boas-vindas usando esse nome (Ex: \"Olá, [Nome]! Seja bem-vindo.\").\n",
        "\n",
        " Esta função recebe um parâmetro, mas não precisa de um retorno, pois sua finalidade é apenas a exibição na tela."
      ],
      "metadata": {
        "id": "9TPFcyaxOVDE"
      }
    },
    {
      "cell_type": "code",
      "source": [
        "def boas_vindas_personalizada():\n",
        "    nome = input(\"Digite o seu nome: \")\n",
        "    print(f\"Olá, {nome}! Seja bem-vindo.\")\n",
        "\n",
        "boas_vindas_personalizada()\n"
      ],
      "metadata": {
        "id": "5M5COUXmmo57"
      },
      "execution_count": null,
      "outputs": []
    },
    {
      "cell_type": "markdown",
      "source": [
        "## 4) Quadrado e Cubo\n",
        "\n",
        "Crie uma função chamada calcular_potencias que recebe um número n e retorna o quadrado e o cubo desse número em uma tupla.\n",
        "\n",
        " A função deve retornar dois valores. Lembre-se que em Python, você pode retornar múltiplos valores, que são automaticamente empacotados em uma tupla."
      ],
      "metadata": {
        "id": "2PICa-YMOWUS"
      }
    },
    {
      "cell_type": "code",
      "source": [
        "def calcular_potencias(n):\n",
        "  n = float(input(\"Digite o número:\"))\n",
        "  quadrado = n*n\n",
        "  cubo = n*n*n\n",
        "  return quadrado, cubo\n",
        "\n",
        "\n"
      ],
      "metadata": {
        "id": "der5M9Azobsp"
      },
      "execution_count": null,
      "outputs": []
    },
    {
      "cell_type": "code",
      "source": [
        "calcular_potencias(n)"
      ],
      "metadata": {
        "id": "BsFTVrZspzzh"
      },
      "execution_count": null,
      "outputs": []
    },
    {
      "cell_type": "markdown",
      "source": [
        "## 5) Contagem Regressiva\n",
        "\n",
        "Crie uma função chamada contagem_regressiva que recebe um número inteiro inicio e imprime todos os números de inicio até 1.\n",
        "\n",
        " Use um laço de repetição (for ou while) para iterar e imprimir os números sequencialmente. Não é necessário retornar nada."
      ],
      "metadata": {
        "id": "H9-OOFfaOZsd"
      }
    },
    {
      "cell_type": "code",
      "source": [
        "n = int(input('Digite um número:'))\n",
        "\n",
        "def contagem_regressiva(n):\n",
        "  while n >= 1:\n",
        "    print(n)\n",
        "    n = n - 1"
      ],
      "metadata": {
        "id": "ErdMQJktsdIF"
      },
      "execution_count": null,
      "outputs": []
    },
    {
      "cell_type": "code",
      "source": [
        "contagem_regressiva(n)"
      ],
      "metadata": {
        "id": "M5p6_VEFrjLH"
      },
      "execution_count": null,
      "outputs": []
    },
    {
      "cell_type": "markdown",
      "source": [
        "## 6) Cálculo de Desconto\n",
        "\n",
        "Desenvolva uma função chamada calcular_desconto que aceita valor_original e percentual_desconto como parâmetros e retorna o valor final após aplicar o desconto.\n",
        "\n",
        "$$\n",
        "\\text{Valor Final} = \\text{Valor Original} \\times (1 - \\frac{\\text{Percentual Desconto}}{100})\n",
        "$$\n",
        "\n",
        " Para calcular o percentual corretamente, divida o percentual_desconto por 100 antes de subtrair de 1."
      ],
      "metadata": {
        "id": "whFqeUtbt0_q"
      }
    },
    {
      "cell_type": "code",
      "source": [
        "valor_original = float(input('Digite o valor original do produto:'))\n",
        "percentual_desconto = float(input('Digite o percentual de desconto do produto:'))\n",
        "\n",
        "\n",
        "def calcular_desconto(valor_original, percentual_desconto):\n",
        "  percentual_desconto = percentual_desconto/100\n",
        "  vf = valor_original * (1- percentual_desconto)\n",
        "  print(f\"O valor final do produto é:{vf}\")\n",
        "\n",
        "calcular_desconto(valor_original, percentual_desconto)"
      ],
      "metadata": {
        "id": "ME1Wur5gtyQ0"
      },
      "execution_count": null,
      "outputs": []
    },
    {
      "cell_type": "markdown",
      "source": [
        "## 7) Maior e Menor\n",
        "\n",
        "Crie uma função chamada encontrar_extremos que recebe uma lista de números e retorna o maior e o menor número da lista.\n",
        "\n",
        " Você pode explorar as funções nativas do Python max() e min() para uma solução concisa, ou implementar a lógica de comparação manualmente."
      ],
      "metadata": {
        "id": "-Bu-HSUcOcr_"
      }
    },
    {
      "cell_type": "code",
      "source": [
        "lista = [0,10,20,30,40,522]\n",
        "\n",
        "def encontrar_extremos(lista):\n",
        "  maximo = max(lista)\n",
        "  minimo = min(lista)\n",
        "  return maximo, minimo\n",
        "\n",
        "  maximo, minimo = encontrar_extremos(lista)\n",
        "\n",
        "print(f\"O maior número da lista é {maximo}, e o menor: {minimo}\")\n",
        "\n",
        "\n"
      ],
      "metadata": {
        "id": "EfXENGEKyJA6"
      },
      "execution_count": null,
      "outputs": []
    },
    {
      "cell_type": "code",
      "source": [
        "encontrar_extremos(lista)"
      ],
      "metadata": {
        "id": "VwKMT0KWvoKD"
      },
      "execution_count": null,
      "outputs": []
    },
    {
      "cell_type": "markdown",
      "source": [
        "## 8) Calculadora Simples\n",
        "\n",
        "Crie uma função chamada calculadora que recebe dois números (a e b) e uma operacao (string: 'soma', 'subtracao', 'multiplicacao', 'divisao') e retorna o resultado da operação.\n",
        "\n",
        " Use estruturas condicionais (if/elif/else) para determinar qual cálculo realizar e adicione uma verificação para evitar divisão por zero."
      ],
      "metadata": {
        "id": "lnWd5CSJOjDG"
      }
    },
    {
      "cell_type": "code",
      "source": [
        "def calculadora():\n",
        "    a = float(input(\"Digite o primeiro valor: \"))\n",
        "    b = float(input(\"Digite o segundo valor: \"))\n",
        "    n = int(input('Digite:\\n1 para soma\\n2 para subtração\\n3 para multiplicação\\n4 para divisão\\n'))\n",
        "\n",
        "    if n == 1:\n",
        "        return a + b\n",
        "\n",
        "    elif n == 2:\n",
        "        return a - b\n",
        "\n",
        "    elif n == 3:\n",
        "        return a * b\n",
        "\n",
        "    elif n == 4:\n",
        "        if b == 0:\n",
        "            print('Digite um valor válido para o segundo número para executar a divisão!')\n",
        "        else:\n",
        "            return a / b\n",
        "\n",
        "    else:\n",
        "        print('Digite uma operação aceitável!')\n",
        "\n",
        "\n",
        "\n"
      ],
      "metadata": {
        "id": "IQvB_iuTOl3t"
      },
      "execution_count": null,
      "outputs": []
    },
    {
      "cell_type": "code",
      "source": [
        "calculadora()"
      ],
      "metadata": {
        "colab": {
          "base_uri": "https://localhost:8080/"
        },
        "id": "lXOgNHNy3BWX",
        "outputId": "3c8c3aff-1820-4d2a-ab74-a21f1265fcb2"
      },
      "execution_count": null,
      "outputs": [
        {
          "name": "stdout",
          "output_type": "stream",
          "text": [
            "Digite o primeiro valor: 5\n",
            "Digite o segundo valor: 5\n",
            "Digite:\n",
            "1 para soma\n",
            "2 para subtração\n",
            "3 para multiplicação\n",
            "4 para divisão\n",
            "1\n"
          ]
        },
        {
          "output_type": "execute_result",
          "data": {
            "text/plain": [
              "10.0"
            ]
          },
          "metadata": {},
          "execution_count": 36
        }
      ]
    },
    {
      "cell_type": "markdown",
      "source": [
        "## 9) Mensagem Automática\n",
        "\n",
        "Crie uma função chamada enviar_email que recebe destinatario e assunto, e opcionalmente um corpo da mensagem. Se o corpo não for fornecido, use um texto padrão como \"Este é um email automático.\"\n",
        "\n",
        " Defina o parâmetro corpo com um valor padrão (default value) na assinatura da função para torná-lo opcional."
      ],
      "metadata": {
        "id": "6WE_x68COmFf"
      }
    },
    {
      "cell_type": "code",
      "source": [
        "destinatario = input(\"Digite o destinátario do email:\")\n",
        "assunto = input(\"Digite o assunto do email:\")\n",
        "corpo = input(\"Digite o corpo do email:\")"
      ],
      "metadata": {
        "id": "MU1zJOH2Oo2I",
        "colab": {
          "base_uri": "https://localhost:8080/"
        },
        "outputId": "c575a8b1-bf7e-4a1c-c68f-125ce3e19945"
      },
      "execution_count": null,
      "outputs": [
        {
          "name": "stdout",
          "output_type": "stream",
          "text": [
            "Digite o destinátario do email:rebeca\n",
            "Digite o assunto do email:562\n",
            "Digite o corpo do email:\n"
          ]
        }
      ]
    },
    {
      "cell_type": "code",
      "source": [
        "def enviar_email(destinatario, assunto, corpo=\"Este é um email automático.\"):\n",
        "    print(f\"Enviando email para: {destinatario}\")\n",
        "    print(f\"Assunto: {assunto}\")\n",
        "    print(f\"Corpo: {corpo}\")\n"
      ],
      "metadata": {
        "id": "jNeX9OkxYD6-"
      },
      "execution_count": null,
      "outputs": []
    },
    {
      "cell_type": "code",
      "source": [
        "enviar_email(destinatario, assunto, corpo=\"Este é um email automático.\")"
      ],
      "metadata": {
        "colab": {
          "base_uri": "https://localhost:8080/"
        },
        "id": "2pcsaJYcYHq3",
        "outputId": "376ed839-abfc-4421-8e00-2972885e0b5e"
      },
      "execution_count": null,
      "outputs": [
        {
          "output_type": "stream",
          "name": "stdout",
          "text": [
            "Enviando email para: rebeca\n",
            "Assunto: 562\n",
            "Corpo: Este é um email automático.\n"
          ]
        }
      ]
    },
    {
      "cell_type": "markdown",
      "source": [
        "## 10) Sistema de Notas\n",
        "\n",
        "Desenvolva uma função chamada avaliar_aluno que recebe uma nota (número) e retorna uma string indicando a situação do aluno: \"Aprovado\" (nota $\\ge 7$), \"Recuperação\" ($\\ge 5$ e $< 7$) ou \"Reprovado\" ($< 5$).\n",
        "\n",
        " Lembre-se de usar operadores lógicos como and para definir os intervalos de notas de forma clara."
      ],
      "metadata": {
        "id": "buMdAUs4OpAc"
      }
    },
    {
      "cell_type": "code",
      "source": [
        "def avaliar_aluno (nota):\n",
        "  if nota >= 7:\n",
        "    return 'Aprovado!'\n",
        "\n",
        "  elif (nota >= 5) and (nota < 7):\n",
        "    return 'Recuperação!'\n",
        "\n",
        "  elif nota < 5:\n",
        "    return 'Reprovado!'\n",
        "\n",
        "\n",
        "nota= float(input(\"Digite a nota do aluno: \"))\n",
        "resultado = avaliar_aluno(nota)\n",
        "print(\"Situação do aluno:\", resultado)\n",
        "\n"
      ],
      "metadata": {
        "id": "bN8tOgkVOqk8",
        "colab": {
          "base_uri": "https://localhost:8080/"
        },
        "outputId": "4b29848c-c2e8-4fc2-bc08-67bc222e4acc"
      },
      "execution_count": null,
      "outputs": [
        {
          "output_type": "stream",
          "name": "stdout",
          "text": [
            "Digite a nota do aluno: 8\n",
            "Situação do aluno: Aprovado!\n"
          ]
        }
      ]
    }
  ]
}