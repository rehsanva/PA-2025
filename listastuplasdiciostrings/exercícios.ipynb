{
  "nbformat": 4,
  "nbformat_minor": 0,
  "metadata": {
    "colab": {
      "provenance": [],
      "authorship_tag": "ABX9TyMxR6XbtOSzsfuTPvoNRdA/",
      "include_colab_link": true
    },
    "kernelspec": {
      "name": "python3",
      "display_name": "Python 3"
    },
    "language_info": {
      "name": "python"
    }
  },
  "cells": [
    {
      "cell_type": "markdown",
      "metadata": {
        "id": "view-in-github",
        "colab_type": "text"
      },
      "source": [
        "<a href=\"https://colab.research.google.com/github/rehsanva/PA-2025/blob/main/listastuplasdiciostrings/exerc%C3%ADcios.ipynb\" target=\"_parent\"><img src=\"https://colab.research.google.com/assets/colab-badge.svg\" alt=\"Open In Colab\"/></a>"
      ]
    },
    {
      "cell_type": "markdown",
      "source": [
        "# Exercícios: Manipulação de Strings\n",
        "\n",
        "\n"
      ],
      "metadata": {
        "id": "AYzWLoUG2Kqv"
      }
    },
    {
      "cell_type": "code",
      "source": [
        "# 1 - Use o método len para imprimir o comprimento da string.\n",
        "x = \"Hello World\"\n",
        "print(len(x))"
      ],
      "metadata": {
        "colab": {
          "base_uri": "https://localhost:8080/"
        },
        "id": "5r5g8N_l2Par",
        "outputId": "51d96785-30d2-4070-bebc-5f01e834b110"
      },
      "execution_count": 10,
      "outputs": [
        {
          "output_type": "stream",
          "name": "stdout",
          "text": [
            "11\n"
          ]
        }
      ]
    },
    {
      "cell_type": "code",
      "source": [
        "# 2 - Obtenha o primeiro caractere da string txt.\n",
        "txt = \"Hello World\"\n",
        "x = txt[0]\n",
        "print(x)"
      ],
      "metadata": {
        "colab": {
          "base_uri": "https://localhost:8080/"
        },
        "id": "KOqCOZuo21hK",
        "outputId": "02fdc01d-517b-4631-a88f-94bc9632d0ec"
      },
      "execution_count": 11,
      "outputs": [
        {
          "output_type": "stream",
          "name": "stdout",
          "text": [
            "H\n"
          ]
        }
      ]
    },
    {
      "cell_type": "code",
      "source": [
        "# 3 - Obtenha os caracteres do índice 2 ao índice 4 ( llo).\n",
        "txt = \"Hello World\"\n",
        "x = txt[2:5:]\n",
        "print(x)"
      ],
      "metadata": {
        "colab": {
          "base_uri": "https://localhost:8080/"
        },
        "id": "de9snUkV23CH",
        "outputId": "1e271022-c640-490b-efe5-e92e526f13e7"
      },
      "execution_count": 12,
      "outputs": [
        {
          "output_type": "stream",
          "name": "stdout",
          "text": [
            "llo\n"
          ]
        }
      ]
    },
    {
      "cell_type": "code",
      "source": [
        "# 4 - Converta o valor de txt para maiúsculas.\n",
        "txt = \"Hello World\"\n",
        "txt = \"Hello World\"\n",
        "txt.upper()"
      ],
      "metadata": {
        "colab": {
          "base_uri": "https://localhost:8080/",
          "height": 35
        },
        "id": "McCmzYM824pi",
        "outputId": "ec440d75-02ba-4ea1-9511-d5c232a4b7be"
      },
      "execution_count": 13,
      "outputs": [
        {
          "output_type": "execute_result",
          "data": {
            "text/plain": [
              "'HELLO WORLD'"
            ],
            "application/vnd.google.colaboratory.intrinsic+json": {
              "type": "string"
            }
          },
          "metadata": {},
          "execution_count": 13
        }
      ]
    },
    {
      "cell_type": "code",
      "source": [
        "# 5 - Conte quantas vezes aparece a palavra \"de\" na string abaixo\n",
        "txt = \"Eu gosto de vijar, tomar vinho, de estudar estudar programação, de estudar Pyhon\"\n",
        "txt.split(\",\")"
      ],
      "metadata": {
        "colab": {
          "base_uri": "https://localhost:8080/"
        },
        "id": "uZm-8sWF265j",
        "outputId": "e5b0c8ea-88af-4e3e-fe54-c63ee90edd46"
      },
      "execution_count": 14,
      "outputs": [
        {
          "output_type": "execute_result",
          "data": {
            "text/plain": [
              "['Eu gosto de vijar',\n",
              " ' tomar vinho',\n",
              " ' de estudar estudar programação',\n",
              " ' de estudar Pyhon']"
            ]
          },
          "metadata": {},
          "execution_count": 14
        }
      ]
    },
    {
      "cell_type": "code",
      "source": [
        "# 6 - Separe a frase abaixo toda vez que encontrar um vírgula\n",
        "txt = \"Eu gosto de vijar, tomar vinho, de estudar estudar programação, de estudar Pyhon\"\n",
        "txt.count('de')"
      ],
      "metadata": {
        "colab": {
          "base_uri": "https://localhost:8080/"
        },
        "id": "iDGbpaK728vP",
        "outputId": "6d23f142-4f79-40b3-abb4-82e2ec1ac986"
      },
      "execution_count": 15,
      "outputs": [
        {
          "output_type": "execute_result",
          "data": {
            "text/plain": [
              "3"
            ]
          },
          "metadata": {},
          "execution_count": 15
        }
      ]
    },
    {
      "cell_type": "code",
      "source": [
        "#7 - Peça ao usuário uma frase e substitua todas as ocorrências de espaço por “#”.\n",
        "frase= input(\"Digite uma frase: \")\n",
        "frase = frase.replace(\" \", \"#\")\n",
        "print(frase)"
      ],
      "metadata": {
        "colab": {
          "base_uri": "https://localhost:8080/"
        },
        "id": "9nN055zp2-NW",
        "outputId": "c9c62cf6-a732-4bca-b870-e98b48308e99"
      },
      "execution_count": 16,
      "outputs": [
        {
          "output_type": "stream",
          "name": "stdout",
          "text": [
            "Digite uma frase: Bom Dia! Flor do Dia\n",
            "Bom#Dia!#Flor#do#Dia\n"
          ]
        }
      ]
    },
    {
      "cell_type": "code",
      "source": [
        "# 8 - Faça um programa que retorne True se duas strings lidas do teclado são palíndromas mútuas, ou seja, se uma é igual à outra quando lida de traz para frente ou False, se não forem.\n",
        "# Por exemplo: amor e roma\n",
        "palavra1 = input(\"Digite uma palavra: \").lower()\n",
        "palavra2 = input(\"Digite outra palavra: \").lower()\n",
        "\n",
        "mutua = palavra1 == palavra2[::-1]\n",
        "palindroma1 = palavra1 == palavra1[::-1]\n",
        "palindroma2 = palavra2 == palavra2[::-1]\n",
        "\n",
        "print(\"As palavras são palíndromas mútuas?\",mutua)\n",
        "print(\"A primeira palavra é palíndroma com ela mesma?\",palindroma1)\n",
        "print(\"A segunda palavra é palíndroma com ela mesma?\",palindroma2)"
      ],
      "metadata": {
        "colab": {
          "base_uri": "https://localhost:8080/"
        },
        "id": "C7tDIZFm3CuJ",
        "outputId": "f3bae1c4-3227-4329-c2e3-3750f94569dd"
      },
      "execution_count": 17,
      "outputs": [
        {
          "output_type": "stream",
          "name": "stdout",
          "text": [
            "Digite uma palavra: amor\n",
            "Digite outra palavra: roma\n",
            "As palavras são palíndromas mútuas? True\n",
            "A primeira palavra é palíndroma com ela mesma? False\n",
            "A segunda palavra é palíndroma com ela mesma? False\n"
          ]
        }
      ]
    },
    {
      "cell_type": "code",
      "source": [
        "# 9- Faça um programa que leia o nome do usuário e mostre o nome de traz para frente, utilizando somente letras maiúsculas.\n",
        "\n",
        "nome = input(\"Escreva o seu nome: \")\n",
        "\n",
        "nome = nome.upper()\n",
        "\n",
        "print(\"O seu nome invertido é:\",nome[::-1])"
      ],
      "metadata": {
        "colab": {
          "base_uri": "https://localhost:8080/"
        },
        "id": "GquHp6hM3ERH",
        "outputId": "65085f3e-cf29-43ba-8ebc-c84269d3deb2"
      },
      "execution_count": 18,
      "outputs": [
        {
          "output_type": "stream",
          "name": "stdout",
          "text": [
            "Escreva o seu nome: Rebeca\n",
            "O seu nome invertido é: ACEBER\n"
          ]
        }
      ]
    },
    {
      "cell_type": "markdown",
      "source": [
        "# Exercícios: Listas, Tuplas e Dicionarios"
      ],
      "metadata": {
        "id": "duJoBtTF3Gg9"
      }
    },
    {
      "cell_type": "markdown",
      "source": [
        "## Exercício 1: Manipulação de Listas\n",
        "\n",
        "- Defina uma lista com 5 nomes de cidades.\n",
        "- Adicione uma nova cidade ao final da lista.\n",
        "- Remova a segunda cidade da lista.\n",
        "- Imprima a lista resultante."
      ],
      "metadata": {
        "id": "Yln529lb4FQ5"
      }
    },
    {
      "cell_type": "code",
      "source": [
        "cidades = [\"Santo André\", \"São Bernardo\", \"São Caetano\", \"Mauá\", \"Ribeirão Pires\"]\n",
        "cidades.append(\"Rio Grande da Serra\")\n",
        "cidades.pop(1)\n",
        "print(cidades)"
      ],
      "metadata": {
        "colab": {
          "base_uri": "https://localhost:8080/"
        },
        "id": "VZJe9Zj3342C",
        "outputId": "89482557-9488-4104-c5b9-439f9138fbe3"
      },
      "execution_count": 19,
      "outputs": [
        {
          "output_type": "stream",
          "name": "stdout",
          "text": [
            "['Santo André', 'São Caetano', 'Mauá', 'Ribeirão Pires', 'Rio Grande da Serra']\n"
          ]
        }
      ]
    },
    {
      "cell_type": "markdown",
      "source": [
        "## Exercício 2: Operações com Tuplas\n",
        "- Defina uma tupla com 4 cores.\n",
        "- Crie uma nova tupla que seja a concatenação da tupla original com outra contendo mais 2 cores.\n",
        "= Imprima a nova tupla."
      ],
      "metadata": {
        "id": "thCOqP-g4Ibu"
      }
    },
    {
      "cell_type": "code",
      "source": [
        "cores = (\"azul\",\"rosa\",\"vermelho\",\"amarelo\")\n",
        "coresnovas = cores+(\"roxo\",\"dourado\")\n",
        "print(coresnovas)"
      ],
      "metadata": {
        "colab": {
          "base_uri": "https://localhost:8080/"
        },
        "id": "z4Lcr-pO37sN",
        "outputId": "6f5c9fca-748f-405c-ffbb-ad0e1b41a650"
      },
      "execution_count": 27,
      "outputs": [
        {
          "output_type": "stream",
          "name": "stdout",
          "text": [
            "('azul', 'rosa', 'vermelho', 'amarelo', 'roxo', 'dourado')\n"
          ]
        }
      ]
    },
    {
      "cell_type": "markdown",
      "source": [
        "##Exercício 3: Dicionários Simples\n",
        "\n",
        "Crie um dicionário para representar um aluno, contendo \"nome\", \"idade\" e \"curso\".\n",
        "- Atualize a idade do aluno.\n",
        "- Adicione uma nova chave \"nota\" com um valor.\n",
        "- Imprima o dicionário atualizado"
      ],
      "metadata": {
        "id": "MvV9R66S4kX1"
      }
    },
    {
      "cell_type": "code",
      "source": [
        "aluno = {\n",
        "    \"nome\": \"Igor\",\n",
        "    \"idade\": 24,\n",
        "    \"curso\": \"Fisíca\",\n",
        "\n",
        "}\n",
        "aluno [\"nota\"]= \"10\"\n",
        "print(aluno)"
      ],
      "metadata": {
        "colab": {
          "base_uri": "https://localhost:8080/"
        },
        "id": "4im97F9I4pg9",
        "outputId": "fccaae3e-56b8-4f04-dd29-3ee4c0780090"
      },
      "execution_count": 23,
      "outputs": [
        {
          "output_type": "stream",
          "name": "stdout",
          "text": [
            "{'nome': 'Igor', 'idade': 24, 'curso': 'Fisíca', 'nota': '10'}\n"
          ]
        }
      ]
    },
    {
      "cell_type": "markdown",
      "source": [
        "##Exercício 4: Listas e Dicionários\n",
        "\n",
        "- Crie uma lista de dicionários, onde cada dicionário representa um produto com as chaves \"nome\" e \"preço\".\n",
        "- Adicione um novo produto à lista.\n",
        "- Atualize o preço do primeiro produto na lista.\n",
        "- Imprima a lista resultante."
      ],
      "metadata": {
        "id": "I_58Liaw4rQL"
      }
    },
    {
      "cell_type": "code",
      "source": [
        "lista = [{\"Produto\": \"Morango do Amor\", \"Preço\": 20.00, \"Quantidade\": 5}]\n",
        "lista.append({\"Produto\": \"Brigadeiro\", \"Preço\": 12.00, \"Quantidade\": 9})\n",
        "print(lista)"
      ],
      "metadata": {
        "colab": {
          "base_uri": "https://localhost:8080/"
        },
        "id": "UEYEt6NP4vDY",
        "outputId": "a5ed817b-416f-48e3-d146-ccbd3d6555a1"
      },
      "execution_count": 24,
      "outputs": [
        {
          "output_type": "stream",
          "name": "stdout",
          "text": [
            "[{'Produto': 'Morango do Amor', 'Preço': 20.0, 'Quantidade': 5}, {'Produto': 'Brigadeiro', 'Preço': 12.0, 'Quantidade': 9}]\n"
          ]
        }
      ]
    },
    {
      "cell_type": "markdown",
      "source": [
        "##Exercício 5: Analisando uma Lista de Tuplas\n",
        "\n",
        "- Crie uma lista de tuplas, onde cada tupla contém um par (nome, idade).\n",
        "- Encontre e imprima o nome da pessoa mais velha.\n",
        "- Encontre e imprima a idade média das pessoas."
      ],
      "metadata": {
        "id": "-HAc-g_t4zZz"
      }
    },
    {
      "cell_type": "code",
      "source": [
        "lista = [(\"Ana\", 2), (\"Luan\",32), (\"Francisco\", 92), (\"Leandro\", 20) ]\n",
        "\n",
        "maisvelho = 0\n",
        "nomemaisvelho = \"\"\n",
        "\n",
        "if lista[0][1]> maisvelho:\n",
        "  maisvelho = lista[0][1]\n",
        "  nomemaisvelho = lista[0][0]\n",
        "\n",
        "if lista [1][1]> maisvelho:\n",
        "  maisvelho = lista [1][1]\n",
        "  nomemaisvelho = lista [1][0]\n",
        "\n",
        "if lista[2][1]> maisvelho:\n",
        "  maisvelho = lista[2][1]\n",
        "  nomemaisvelho = lista [2][0]\n",
        "\n",
        "if lista[3][1]> maisvelho:\n",
        "  maisvelho = lista[3][1]\n",
        "  nomemaisvelho = lista [3][0]\n",
        "\n",
        "\n",
        "print(\"A pessoa mais velha é:\", nomemaisvelho )\n",
        "\n",
        "mediaidade = (lista[0][1] + lista [1][1] + lista[2][1] + lista[3][1])/len(lista)\n",
        "print(\"A idade médias das pessoas é:\",mediaidade)"
      ],
      "metadata": {
        "colab": {
          "base_uri": "https://localhost:8080/"
        },
        "id": "lPZjEFad40C3",
        "outputId": "6592906f-c466-4a6d-96bd-d54bc1cabda1"
      },
      "execution_count": 25,
      "outputs": [
        {
          "output_type": "stream",
          "name": "stdout",
          "text": [
            "A pessoa mais velha é: Francisco\n",
            "A idade médias das pessoas é: 36.5\n"
          ]
        }
      ]
    }
  ]
}