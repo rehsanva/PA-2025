{
  "nbformat": 4,
  "nbformat_minor": 0,
  "metadata": {
    "colab": {
      "provenance": [],
      "authorship_tag": "ABX9TyMnNU6EWlmFGEDCcPOhL7iy",
      "include_colab_link": true
    },
    "kernelspec": {
      "name": "python3",
      "display_name": "Python 3"
    },
    "language_info": {
      "name": "python"
    }
  },
  "cells": [
    {
      "cell_type": "markdown",
      "metadata": {
        "id": "view-in-github",
        "colab_type": "text"
      },
      "source": [
        "<a href=\"https://colab.research.google.com/github/rehsanva/PA-2025/blob/main/variaveiseconstantes.ipynb\" target=\"_parent\"><img src=\"https://colab.research.google.com/assets/colab-badge.svg\" alt=\"Open In Colab\"/></a>"
      ]
    },
    {
      "cell_type": "markdown",
      "source": [],
      "metadata": {
        "id": "SVEhV7h80pxi"
      }
    },
    {
      "cell_type": "markdown",
      "source": [
        "#Variavéis e Constantes\n",
        "\n"
      ],
      "metadata": {
        "id": "xp2dpK7agRJO"
      }
    },
    {
      "cell_type": "code",
      "execution_count": null,
      "metadata": {
        "id": "ApNtEdlFf9TP"
      },
      "outputs": [],
      "source": [
        "idade= 15\n",
        "altura = 1.70\n",
        "nome = \"Rebeca Santos\"\n",
        "vai = True"
      ]
    },
    {
      "cell_type": "code",
      "source": [
        "nomes= [\"Rebeca Santos\",\"Priscila\",\"Ricardo\"]\n",
        "nomes2= (\"Rebeca Santos\",\"Priscila\",\"Ricardo\")\n",
        "tudo={nome:\"Rebeca Santos\",idade: 15,altura:1.70,vai:True}"
      ],
      "metadata": {
        "id": "z1WQIjp6iY6d"
      },
      "execution_count": null,
      "outputs": []
    },
    {
      "cell_type": "code",
      "source": [
        "print(nome)\n",
        "print(nomes)\n",
        "print(nomes2)"
      ],
      "metadata": {
        "id": "0ljyggpLjLvm",
        "colab": {
          "base_uri": "https://localhost:8080/"
        },
        "outputId": "3358b5f9-c009-46d2-9557-d4d356b1315e"
      },
      "execution_count": null,
      "outputs": [
        {
          "output_type": "stream",
          "name": "stdout",
          "text": [
            "Rebeca Santos\n",
            "['Rebeca Santos', 'Priscila', 'Ricardo']\n",
            "('Rebeca Santos', 'Priscila', 'Ricardo')\n"
          ]
        }
      ]
    },
    {
      "cell_type": "code",
      "source": [
        "print(type(idade))\n",
        "print(type(altura))\n",
        "print(type(vai))\n",
        "print(type(nome))\n",
        "print(type(nomes))\n",
        "print(type(nomes2))\n",
        "print(type(tudo))"
      ],
      "metadata": {
        "id": "pSWILtvXkKfp",
        "colab": {
          "base_uri": "https://localhost:8080/"
        },
        "outputId": "8a1170cd-63bc-405c-c29b-0839f35a58cd"
      },
      "execution_count": null,
      "outputs": [
        {
          "output_type": "stream",
          "name": "stdout",
          "text": [
            "<class 'int'>\n",
            "<class 'float'>\n",
            "<class 'bool'>\n",
            "<class 'str'>\n",
            "<class 'list'>\n",
            "<class 'tuple'>\n",
            "<class 'dict'>\n"
          ]
        }
      ]
    },
    {
      "cell_type": "code",
      "source": [
        "print(\"O nome dela é:\", nome, \"sua idade é:\", idade,\"anos\" \",e ele tem\", altura,\"metros.\")"
      ],
      "metadata": {
        "id": "CyZWitZ1pPK6",
        "colab": {
          "base_uri": "https://localhost:8080/"
        },
        "outputId": "a3850d5b-04e9-412c-b421-af2a592ae36b"
      },
      "execution_count": null,
      "outputs": [
        {
          "output_type": "stream",
          "name": "stdout",
          "text": [
            "O nome dela é: Rebeca Santos sua idade é: 15 anos,e ele tem 1.7 metros.\n"
          ]
        }
      ]
    },
    {
      "cell_type": "code",
      "source": [
        "print(f\"O nome dela é:{nome}. A altura é:{altura}\")\n"
      ],
      "metadata": {
        "id": "isoO9WRhtoKn",
        "colab": {
          "base_uri": "https://localhost:8080/"
        },
        "outputId": "0efb56f5-4a32-47fd-fdf3-a738d1b532d7"
      },
      "execution_count": null,
      "outputs": [
        {
          "output_type": "stream",
          "name": "stdout",
          "text": [
            "O nome dela é:Rebeca Santos. A altura é:1.7\n"
          ]
        }
      ]
    },
    {
      "cell_type": "markdown",
      "source": [
        "Área do Circulo"
      ],
      "metadata": {
        "id": "g1abelrTvbwr"
      }
    },
    {
      "cell_type": "code",
      "source": [
        "\n",
        "PI = 3.14159\n",
        "raio = float(input(\"Digite o valor do raio do circulo:\" ))\n"
      ],
      "metadata": {
        "id": "vl3xXTcLvsWE",
        "colab": {
          "base_uri": "https://localhost:8080/"
        },
        "outputId": "89db22fc-9350-4643-b4d7-a07857d676ed"
      },
      "execution_count": null,
      "outputs": [
        {
          "name": "stdout",
          "output_type": "stream",
          "text": [
            "Digite o valor do raio do circulo:15\n"
          ]
        }
      ]
    },
    {
      "cell_type": "code",
      "source": [
        "areacir = PI * (raio**2)"
      ],
      "metadata": {
        "id": "6LjqQk3QwYoo"
      },
      "execution_count": null,
      "outputs": []
    },
    {
      "cell_type": "code",
      "source": [
        "print(\"A área do circulo é:\", areacir)"
      ],
      "metadata": {
        "id": "OUDqOIvVyg3q",
        "colab": {
          "base_uri": "https://localhost:8080/"
        },
        "outputId": "599bea11-c3ec-4062-b47d-68069737cac7"
      },
      "execution_count": null,
      "outputs": [
        {
          "output_type": "stream",
          "name": "stdout",
          "text": [
            "A área do circulo é: 706.85775\n"
          ]
        }
      ]
    },
    {
      "cell_type": "markdown",
      "source": [
        "Área do Quadrado"
      ],
      "metadata": {
        "id": "y79FX5RKzrlU"
      }
    },
    {
      "cell_type": "code",
      "source": [
        "lado=float(input(\"Digite o valor do lado do quadrado em cm\"))"
      ],
      "metadata": {
        "id": "lsMtZxOtzv6f",
        "colab": {
          "base_uri": "https://localhost:8080/"
        },
        "outputId": "8d03887d-5781-4f27-f5b4-584df18c095a"
      },
      "execution_count": null,
      "outputs": [
        {
          "name": "stdout",
          "output_type": "stream",
          "text": [
            "Digite o valor do lado do quadrado em cm20\n"
          ]
        }
      ]
    },
    {
      "cell_type": "code",
      "source": [
        "areaqua= lado * lado"
      ],
      "metadata": {
        "id": "nApB_BUFz885"
      },
      "execution_count": null,
      "outputs": []
    },
    {
      "cell_type": "code",
      "source": [
        "print(\"A area do quadrado é:\", areaqua)"
      ],
      "metadata": {
        "id": "gmxncJN90I5B",
        "colab": {
          "base_uri": "https://localhost:8080/"
        },
        "outputId": "1a10d7eb-c244-4fb4-ca6c-a993887deb61"
      },
      "execution_count": null,
      "outputs": [
        {
          "output_type": "stream",
          "name": "stdout",
          "text": [
            "A area do quadrado é: 400.0\n"
          ]
        }
      ]
    },
    {
      "cell_type": "markdown",
      "source": [
        "#Exercícios: Variáveis e Tipos de Dados"
      ],
      "metadata": {
        "id": "HlfN9HKfo_fn"
      }
    },
    {
      "cell_type": "markdown",
      "source": [
        "##Exercício 1 - Área do Retângulo\n",
        "\n",
        "Crie um programa que calcule a área de um retângulo usando uma constante para representar a base.\n",
        "\n",
        " Fórmula: A = base × altura"
      ],
      "metadata": {
        "id": "Ajeg-Ofwp4Q-"
      }
    },
    {
      "cell_type": "code",
      "source": [
        "base = float(input(\"Digite o valor da base do retangulo:\"))"
      ],
      "metadata": {
        "id": "KxL9HN8rp8g4",
        "colab": {
          "base_uri": "https://localhost:8080/"
        },
        "outputId": "4eef3a70-ea3f-4d67-8f98-cc45eb7c2b02"
      },
      "execution_count": null,
      "outputs": [
        {
          "name": "stdout",
          "output_type": "stream",
          "text": [
            "Digite o valor da base do retangulo:12\n"
          ]
        }
      ]
    },
    {
      "cell_type": "code",
      "source": [
        "altura = float(input(\"Digite o valor da altura:\"))"
      ],
      "metadata": {
        "colab": {
          "base_uri": "https://localhost:8080/"
        },
        "id": "21O-R2FqqZtn",
        "outputId": "3988739c-b547-4506-fc0f-12709abc533e"
      },
      "execution_count": null,
      "outputs": [
        {
          "name": "stdout",
          "output_type": "stream",
          "text": [
            "Digite o valor da altura:8\n"
          ]
        }
      ]
    },
    {
      "cell_type": "code",
      "source": [
        "arearet = base * altura"
      ],
      "metadata": {
        "id": "95D5ZjveqmMI"
      },
      "execution_count": null,
      "outputs": []
    },
    {
      "cell_type": "code",
      "source": [
        "print(\"A área do retangulo é:\", arearet)"
      ],
      "metadata": {
        "colab": {
          "base_uri": "https://localhost:8080/"
        },
        "id": "vcOCxUJrq8DX",
        "outputId": "eef27fb1-21d7-437b-a703-135e300a88d0"
      },
      "execution_count": null,
      "outputs": [
        {
          "output_type": "stream",
          "name": "stdout",
          "text": [
            "A área do retangulo é: 96.0\n"
          ]
        }
      ]
    },
    {
      "cell_type": "markdown",
      "source": [
        "##Exercício 2 – Perímetro do Círculo\n",
        "\n",
        "Crie um programa que calcule o perímetro de um círculo usando a constante π.\n",
        "\n",
        " Fórmula: P = 2 × π × r"
      ],
      "metadata": {
        "id": "Niqq4ZcCrFTA"
      }
    },
    {
      "cell_type": "code",
      "source": [
        "raio = float(input(\"Digite o valor do raio do círculo:\"))"
      ],
      "metadata": {
        "colab": {
          "base_uri": "https://localhost:8080/"
        },
        "id": "Bl4dBhqlrKG3",
        "outputId": "09578f78-3189-45eb-82cd-20eba5caf24d"
      },
      "execution_count": 28,
      "outputs": [
        {
          "name": "stdout",
          "output_type": "stream",
          "text": [
            "Digite o valor do raio do círculo:10\n"
          ]
        }
      ]
    },
    {
      "cell_type": "code",
      "source": [
        "perímetro = 2 * 3.1416 * raio"
      ],
      "metadata": {
        "id": "iiDvlUAHriOA"
      },
      "execution_count": 29,
      "outputs": []
    },
    {
      "cell_type": "code",
      "source": [
        "print(f\"O valor do perímetro do circulo é:{perímetro:.2f}\")"
      ],
      "metadata": {
        "colab": {
          "base_uri": "https://localhost:8080/"
        },
        "id": "n9HknlQgrzCv",
        "outputId": "cb3d36ce-2aa2-4cae-d5dd-11235c56156b"
      },
      "execution_count": 30,
      "outputs": [
        {
          "output_type": "stream",
          "name": "stdout",
          "text": [
            "O valor do perímetro do circulo é:62.83\n"
          ]
        }
      ]
    },
    {
      "cell_type": "markdown",
      "source": [
        "##Exercício 3 – Conversão de Temperatura\n",
        "\n",
        "Crie um programa que converta uma temperatura de Fahrenheit para Celsius.\n",
        "\n",
        " Fórmula: C = (F - 32) × 5/9\n",
        "\n",
        " Desafio:\n",
        "\n",
        "Peça ao usuário para inserir a temperatura em Fahrenheit.\n",
        "\n",
        "Exiba o resultado formatado com duas casas decimais."
      ],
      "metadata": {
        "id": "kdJmTqGBsNKw"
      }
    },
    {
      "cell_type": "code",
      "source": [
        "Fahrenheit = float(input(\"Digite a temperatura atual dos EUA:\"))"
      ],
      "metadata": {
        "colab": {
          "base_uri": "https://localhost:8080/"
        },
        "id": "rYA3gU43sY5m",
        "outputId": "4ce4f7f0-5172-4e37-a5d4-bef61a1b999a"
      },
      "execution_count": 31,
      "outputs": [
        {
          "name": "stdout",
          "output_type": "stream",
          "text": [
            "Digite a temperatura atual dos EUA:38\n"
          ]
        }
      ]
    },
    {
      "cell_type": "code",
      "source": [
        "Celcius = ((Fahrenheit - 32) * 5/9)"
      ],
      "metadata": {
        "id": "BtEA0hiwtnRH"
      },
      "execution_count": 32,
      "outputs": []
    },
    {
      "cell_type": "code",
      "source": [
        "print(f\"O resultado da conversão de graus Fahrenheit para graus Celcius é:{Celcius:.2f}\")"
      ],
      "metadata": {
        "colab": {
          "base_uri": "https://localhost:8080/"
        },
        "id": "kpTQYFWTt5n-",
        "outputId": "95a56331-aaae-4d75-ec48-24c08f683c66"
      },
      "execution_count": 33,
      "outputs": [
        {
          "output_type": "stream",
          "name": "stdout",
          "text": [
            "O resultado da conversão de graus Fahrenheit para graus Celcius é:3.33\n"
          ]
        }
      ]
    },
    {
      "cell_type": "markdown",
      "source": [
        "##Exercício 4 – Cálculo do IMC\n",
        "\n",
        "Crie um programa que calcule o Índice de Massa Corporal (IMC) de uma pessoa.\n",
        "\n",
        " Fórmula: IMC = peso / altura²\n",
        "\n",
        " Desafio:\n",
        "\n",
        "Peça ao usuário para informar peso e altura.\n",
        "\n",
        "Exiba o IMC calculado."
      ],
      "metadata": {
        "id": "YTlHFMCJvTbH"
      }
    },
    {
      "cell_type": "code",
      "source": [
        "peso = float(input(\"Digite seu peso\"))"
      ],
      "metadata": {
        "colab": {
          "base_uri": "https://localhost:8080/"
        },
        "id": "u2nSh36QvsXG",
        "outputId": "becd17be-5be8-4291-e481-17e5c1f2caa7"
      },
      "execution_count": 23,
      "outputs": [
        {
          "name": "stdout",
          "output_type": "stream",
          "text": [
            "Digite seu peso45\n"
          ]
        }
      ]
    },
    {
      "cell_type": "code",
      "source": [
        "altura = float(input(\"Digite sua altura\"))"
      ],
      "metadata": {
        "id": "vzxTbbtnwF-G",
        "colab": {
          "base_uri": "https://localhost:8080/"
        },
        "outputId": "562b5c1a-a28e-4e25-e220-b8d1d655afb2"
      },
      "execution_count": 25,
      "outputs": [
        {
          "name": "stdout",
          "output_type": "stream",
          "text": [
            "Digite sua altura1.70\n"
          ]
        }
      ]
    },
    {
      "cell_type": "code",
      "source": [
        " IMC = peso / altura**2"
      ],
      "metadata": {
        "id": "kgCun5XqwnzF"
      },
      "execution_count": 26,
      "outputs": []
    },
    {
      "cell_type": "code",
      "source": [
        "print(f\"O seu IMC é:{IMC:.2f}\")"
      ],
      "metadata": {
        "id": "D1x60XKawxhv",
        "colab": {
          "base_uri": "https://localhost:8080/"
        },
        "outputId": "a1320351-c1b3-4ab1-aa2a-5976beb745a5"
      },
      "execution_count": 27,
      "outputs": [
        {
          "output_type": "stream",
          "name": "stdout",
          "text": [
            "O seu IMC é:15.57\n"
          ]
        }
      ]
    },
    {
      "cell_type": "markdown",
      "source": [
        "#Exercícios: Fluxogramas e Operadores Artiméticos"
      ],
      "metadata": {
        "id": "oZYtyyIFuoOc"
      }
    },
    {
      "cell_type": "markdown",
      "source": [
        "##Exercício 1:\n",
        "\n",
        "O custo ao consumidor de um carro novo é a soma do custo de fábrica com a percentagem do distribuidor e dos impostos (aplicados, primeiro os impostos sobre o custo de fábrica, e depois a percentagem do distribuidor sobre o resultado). Supondo que a percentagem do distribuidor seja de 28% e os impostos 45%. Escrever um algoritmo que leia o custo de fábrica de um carro e informe o custo ao consumidor do mesmo."
      ],
      "metadata": {
        "id": "JwldaV6cu4Ig"
      }
    },
    {
      "cell_type": "markdown",
      "source": [
        "![carro.drawio (1).png](data:image/png;base64,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)"
      ],
      "metadata": {
        "id": "YCoPjygvzVI5"
      }
    },
    {
      "cell_type": "code",
      "source": [
        "valorcar = float(input(\"Insira o custo de fabrica do carro:\"))"
      ],
      "metadata": {
        "id": "OOySkA8FwLJp",
        "colab": {
          "base_uri": "https://localhost:8080/"
        },
        "outputId": "811751c6-2b80-4e09-8e01-5c86bc60f08b"
      },
      "execution_count": 19,
      "outputs": [
        {
          "name": "stdout",
          "output_type": "stream",
          "text": [
            "Insira o custo de fabrica do carro:25000\n"
          ]
        }
      ]
    },
    {
      "cell_type": "code",
      "source": [
        "carroimp = (valorcar*45/100)+valorcar"
      ],
      "metadata": {
        "id": "sJ7jtGfgwUhl"
      },
      "execution_count": 20,
      "outputs": []
    },
    {
      "cell_type": "code",
      "source": [
        "valorfinal = (carroimp*28/100)+carroimp"
      ],
      "metadata": {
        "id": "Owvo9SLsw13-"
      },
      "execution_count": 21,
      "outputs": []
    },
    {
      "cell_type": "code",
      "source": [
        "print(f\"O carro custará ao consumidor final: {valorfinal}\")"
      ],
      "metadata": {
        "colab": {
          "base_uri": "https://localhost:8080/"
        },
        "id": "wCFUhSj46w7T",
        "outputId": "8e41eee3-8f59-4bf0-d089-4e70847c79db"
      },
      "execution_count": 22,
      "outputs": [
        {
          "output_type": "stream",
          "name": "stdout",
          "text": [
            "O carro custará ao consumidor final: 46400.0\n"
          ]
        }
      ]
    },
    {
      "cell_type": "markdown",
      "source": [
        "##Exercício 2:\n",
        "\n",
        " Faça um algoritmo que faça conversão de minutos e horas em segundos. Solicite ao usuário a hora e os minutos separado."
      ],
      "metadata": {
        "id": "OT3_23Wd8YX1"
      }
    },
    {
      "cell_type": "markdown",
      "source": [
        "![horasemin.drawio.png](data:image/png;base64,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)"
      ],
      "metadata": {
        "id": "Ka5LFfp76lvj"
      }
    },
    {
      "cell_type": "code",
      "source": [
        "horas = int(input(\"Digite a quantidade de horas\"))\n",
        "minutos = int(input(\"Digite a quantidade de minutos\"))"
      ],
      "metadata": {
        "colab": {
          "base_uri": "https://localhost:8080/"
        },
        "id": "O9EO7I4v9cBo",
        "outputId": "758457b0-760f-4f31-9a03-5c10c7879cac"
      },
      "execution_count": 56,
      "outputs": [
        {
          "name": "stdout",
          "output_type": "stream",
          "text": [
            "Digite a quantidade de horas3\n",
            "Digite a quantidade de minutos40\n"
          ]
        }
      ]
    },
    {
      "cell_type": "code",
      "source": [
        "hrsconvert = horas*3600"
      ],
      "metadata": {
        "id": "ieLU_3b2FzoM"
      },
      "execution_count": 57,
      "outputs": []
    },
    {
      "cell_type": "code",
      "source": [
        "minsconvert = minutos*60"
      ],
      "metadata": {
        "id": "0tj_-rCoGRLd"
      },
      "execution_count": 58,
      "outputs": []
    },
    {
      "cell_type": "code",
      "source": [
        "totalsegundos = hrsconvert+minsconvert"
      ],
      "metadata": {
        "id": "jZ5H1Fz2GXtM"
      },
      "execution_count": 59,
      "outputs": []
    },
    {
      "cell_type": "code",
      "source": [
        "print(f\"O total de segundos é: {totalsegundos}\")"
      ],
      "metadata": {
        "colab": {
          "base_uri": "https://localhost:8080/"
        },
        "id": "Pj-MoXyKGfR1",
        "outputId": "75f6e5d2-1cf9-4d15-8990-0702f9e1a460"
      },
      "execution_count": 101,
      "outputs": [
        {
          "output_type": "stream",
          "name": "stdout",
          "text": [
            "O total de segundos é: 13200\n"
          ]
        }
      ]
    },
    {
      "cell_type": "markdown",
      "source": [
        "##Exercício 3:\n",
        "  Continuando do exercício anterior, um funcionário trabalha em determinada empresa e quer saber quanto irá ganhar de hora extra. Você deverá fazer um algoritmo que solicite quantas horas e quantos minutos ele trabalhou, solicite horas e minutos de forma separada. Depois pergunte quanto ele ganha por hora e informe quanto ele irá ganhar. Sabendo que nessa empresa o funcionário ganha 70% a mais pelas horas trabalhadas."
      ],
      "metadata": {
        "id": "C3EdVG-JGq6X"
      }
    },
    {
      "cell_type": "markdown",
      "source": [
        "![conversão.drawio (1).png](data:image/png;base64,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)"
      ],
      "metadata": {
        "id": "ep1fP_SY9Kkb"
      }
    },
    {
      "cell_type": "code",
      "source": [
        "hrstrab = int(input(\"Digite a quantidade de horas trabalhalhadas:\"))\n",
        "mintrab = int(input(\"Digite a quantidade de minutos trabalhados:\"))\n",
        "valorhora = float(input(\"Digite o quanto você recebe por hora:\"))"
      ],
      "metadata": {
        "id": "BdKgoxwlG-pe",
        "colab": {
          "base_uri": "https://localhost:8080/"
        },
        "outputId": "d894ee25-acb2-4acf-ac23-8f58df8ed875"
      },
      "execution_count": 114,
      "outputs": [
        {
          "name": "stdout",
          "output_type": "stream",
          "text": [
            "Digite a quantidade de horas trabalhalhadas:20\n",
            "Digite a quantidade de minutos trabalhados:0\n",
            "Digite o quanto você recebe por hora:25\n"
          ]
        }
      ]
    },
    {
      "cell_type": "code",
      "source": [
        "conv = hrstrab + (mintrab/60)\n",
        "salario = (conv*valorhora)\n",
        "salario2 = (salario*70/100)+salario"
      ],
      "metadata": {
        "id": "wpZO0zjoI8l6"
      },
      "execution_count": 115,
      "outputs": []
    },
    {
      "cell_type": "code",
      "source": [
        "print(f\"Você ganhará R${salario2:.2f} pelas horas extras trabalhadas.\")"
      ],
      "metadata": {
        "colab": {
          "base_uri": "https://localhost:8080/"
        },
        "id": "GGqLKpHFKIyF",
        "outputId": "e7fb09f3-d5de-4b0d-a913-ca1846ab9dae"
      },
      "execution_count": 116,
      "outputs": [
        {
          "output_type": "stream",
          "name": "stdout",
          "text": [
            "Você ganhará R$850.00 pelas horas extras trabalhadas.\n"
          ]
        }
      ]
    },
    {
      "cell_type": "markdown",
      "source": [
        "##4) Simulação de Investimento em CDB com Juros Compostos\n",
        "\n",
        "Uma pessoa deseja investir um valor em um CDB que rende uma taxa fixa de X% ao ano. Escreva um algoritmo que solicite o valor inicial do investimento, a taxa de juros anual (em %) e o período em anos. Depois, calcule o montante final considerando juros compostos."
      ],
      "metadata": {
        "id": "G7o4a8TeHifF"
      }
    },
    {
      "cell_type": "markdown",
      "source": [
        "![juroscompostos.drawio.png](data:image/png;base64,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)"
      ],
      "metadata": {
        "id": "SiYdlL5SJVDY"
      }
    },
    {
      "cell_type": "code",
      "source": [
        " capital_inicial = float(input(\"Digite o valor investido:\"))\n",
        " juros = float(input(\"Digite o taxa de juros anual em números decimais, ex:5% = 0.05:\"))\n",
        " tempo = float(input(\"Digite o tempo em anos que o investimento durará:\"))"
      ],
      "metadata": {
        "colab": {
          "base_uri": "https://localhost:8080/"
        },
        "id": "WKY6WZ2wIJp3",
        "outputId": "e4fcb8f7-e4c0-4e21-cc54-f49ae93973ac"
      },
      "execution_count": 93,
      "outputs": [
        {
          "name": "stdout",
          "output_type": "stream",
          "text": [
            "Digite o valor investido:1000\n",
            "Digite o taxa de juros anual em numeros decimais, ex:5% = 0.05:0.06\n",
            "Digite o tempo em anos que o investimento durará:5\n"
          ]
        }
      ]
    },
    {
      "cell_type": "code",
      "source": [
        "montantef = capital_inicial*(1+juros)**tempo"
      ],
      "metadata": {
        "id": "WnNJLuMFJSud"
      },
      "execution_count": 97,
      "outputs": []
    },
    {
      "cell_type": "code",
      "source": [
        "print(f\"O valor final após {tempo} anos será de: R${montantef:.2f}\")"
      ],
      "metadata": {
        "colab": {
          "base_uri": "https://localhost:8080/"
        },
        "id": "UBjaE_EzSV3s",
        "outputId": "1f6691f1-79ef-4790-ba66-f999efbc5b31"
      },
      "execution_count": 100,
      "outputs": [
        {
          "output_type": "stream",
          "name": "stdout",
          "text": [
            "O valor final após 5.0 anos será de: R$1338.23\n"
          ]
        }
      ]
    },
    {
      "cell_type": "markdown",
      "source": [
        "##5) Divisão de Conta em um Restaurante com Gorjeta\n",
        "\n",
        "Um grupo de amigos foi a um restaurante e deseja dividir a conta igualmente entre eles. Além disso, o restaurante cobra uma taxa de serviço de 10% sobre o valor total da conta mais uma gorjeta.\n",
        "\n",
        "Escreva um algoritmo que solicite o valor da conta e o número de pessoas no grupo. Depois, calcule o valor total com a taxa de serviço e quanto cada pessoa deve pagar."
      ],
      "metadata": {
        "id": "v1elsG7QV0U1"
      }
    },
    {
      "cell_type": "markdown",
      "source": [
        "![contarestaurante.drawio.png](data:image/png;base64,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)"
      ],
      "metadata": {
        "id": "Tof86IdnZnU3"
      }
    },
    {
      "cell_type": "code",
      "source": [
        "valorconta = float(input(\"Digite qual foi o valor total da conta:\"))\n",
        "pessoas = int(input(\"Digite qual foi o número total de pessoas:\"))\n",
        "gorjeta = int(input(\"Digite qual foi o valor total da gorjeta\"))"
      ],
      "metadata": {
        "id": "lE5GfpwqWBIR",
        "outputId": "9bbbd30b-91bf-4039-fdcd-63df3c206244",
        "colab": {
          "base_uri": "https://localhost:8080/"
        }
      },
      "execution_count": 104,
      "outputs": [
        {
          "name": "stdout",
          "output_type": "stream",
          "text": [
            "Digite qual foi o valor total da conta:200\n",
            "Digite qual foi o número total de pessoas:4\n",
            "Digite qual foi o valor total da gorjeta50\n"
          ]
        }
      ]
    },
    {
      "cell_type": "code",
      "source": [
        "valortotal = (valorconta*10/100+valorconta+gorjeta)/pessoas"
      ],
      "metadata": {
        "id": "SH6FAgjEXX_f"
      },
      "execution_count": 111,
      "outputs": []
    },
    {
      "cell_type": "code",
      "source": [
        "print(f\"O valor total que cada pessoa deverá pagar é de: R$ {valortotal}\")"
      ],
      "metadata": {
        "id": "BE9kNZN7X4vU",
        "outputId": "d35c1942-b606-4611-e9e8-503d6acceb9a",
        "colab": {
          "base_uri": "https://localhost:8080/"
        }
      },
      "execution_count": 112,
      "outputs": [
        {
          "output_type": "stream",
          "name": "stdout",
          "text": [
            "O valor total que cada pessoa deverá pagar é de: R$ 67.5\n"
          ]
        }
      ]
    }
  ]
}