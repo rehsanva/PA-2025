{
  "nbformat": 4,
  "nbformat_minor": 0,
  "metadata": {
    "colab": {
      "provenance": [],
      "authorship_tag": "ABX9TyNhCFWOsW18qXTjMKZaPvsq",
      "include_colab_link": true
    },
    "kernelspec": {
      "name": "python3",
      "display_name": "Python 3"
    },
    "language_info": {
      "name": "python"
    }
  },
  "cells": [
    {
      "cell_type": "markdown",
      "metadata": {
        "id": "view-in-github",
        "colab_type": "text"
      },
      "source": [
        "<a href=\"https://colab.research.google.com/github/rehsanva/PA-2025/blob/main/condicionais/condicionais.ipynb\" target=\"_parent\"><img src=\"https://colab.research.google.com/assets/colab-badge.svg\" alt=\"Open In Colab\"/></a>"
      ]
    },
    {
      "cell_type": "markdown",
      "source": [
        "# Tipos de Condicionais\n",
        "\n",
        "Condicionais Simples: Possuem apenas duas possibilidades (True or False)"
      ],
      "metadata": {
        "id": "wzYnp67VDNJc"
      }
    },
    {
      "cell_type": "code",
      "source": [
        "nota = float(input(\"Digite sua Nota 1:\"))\n",
        "if(nota>=0 and nota<=10):\n",
        "  print(\"Nota Computada\")\n",
        "  nota1 =nota\n",
        "else:\n",
        "  print(\"Nota não computada pois não não está entre 0 e 10\\n Execute novamente o programa\")\n",
        "\n",
        "nota = float(input(\"Digite sua Nota 2:\"))\n",
        "if(nota>=0 and nota<=10):\n",
        "  print(\"Nota Computada\")\n",
        "  nota2 =nota\n",
        "else:\n",
        "  print(\"Nota não computada pois não não está entre 0 e 10\\n Execute novamente o programa\")\n",
        "\n",
        "nota = float(input(\"Digite sua Nota 3:\"))\n",
        "if(nota>=0 and nota<=10):\n",
        "  print(\"Nota Computada\")\n",
        "  nota3 =nota\n",
        "else:\n",
        "  print(\"Nota não computada pois não não está entre 0 e 10\\n Execute novamente o programa\")\n",
        "\n",
        "\n",
        "\n",
        "media =(nota1+nota2+nota3)/3\n",
        "\n",
        "print(f\"Sua média final é: {media:.2f}\")\n",
        "if (media>=7):\n",
        " print(\"Aprovado\")\n",
        "\n",
        "else:\n",
        "  print(\"Reprovado\")"
      ],
      "metadata": {
        "colab": {
          "base_uri": "https://localhost:8080/"
        },
        "id": "uX924a9HD-ob",
        "outputId": "75f357ce-83a0-4cab-e400-0d71560aaf36"
      },
      "execution_count": null,
      "outputs": [
        {
          "output_type": "stream",
          "name": "stdout",
          "text": [
            "Digite sua Nota 1:5\n",
            "Nota Computada\n",
            "Digite sua Nota 2:0\n",
            "Nota Computada\n",
            "Digite sua Nota 3:2\n",
            "Nota Computada\n",
            "Sua média final é: 2.33\n",
            "Reprovado\n"
          ]
        }
      ]
    },
    {
      "cell_type": "markdown",
      "source": [
        "Condicionais Compostos: Possuem mais de duas possibilidades de decisão."
      ],
      "metadata": {
        "id": "cxDZz9k2M9Bw"
      }
    },
    {
      "cell_type": "code",
      "source": [
        "nota = float(input(\"Digite sua Nota 1:\"))\n",
        "if(nota>=0 and nota<=10):\n",
        "  print(\"Nota Computada\")\n",
        "  nota1 =nota\n",
        "else:\n",
        "  print(\"Nota não computada pois não não está entre 0 e 10\\n Execute novamente o programa\")\n",
        "\n",
        "nota = float(input(\"Digite sua Nota 1:\"))\n",
        "if(nota>=0 and nota<=10):\n",
        "  print(\"Nota Computada\")\n",
        "  nota2 =nota\n",
        "else:\n",
        "  print(\"Nota não computada pois não não está entre 0 e 10\\n Execute novamente o programa\")\n",
        "\n",
        "nota = float(input(\"Digite sua Nota 1:\"))\n",
        "if(nota>=0 and nota<=10):\n",
        "  print(\"Nota Computada\")\n",
        "  nota3 =nota\n",
        "else:\n",
        "  print(\"Nota não computada pois não não está entre 0 e 10\\n Execute novamente o programa\")\n",
        "\n",
        "\n",
        "media =(nota1+nota2+nota3)/3\n",
        "print(f\"Sua média final é de: {media:.2f}\")\n"
      ],
      "metadata": {
        "colab": {
          "base_uri": "https://localhost:8080/"
        },
        "id": "ue1A2mU4OMv_",
        "outputId": "0d621a89-e6ae-4f30-c1b9-8bb86ef8d797"
      },
      "execution_count": null,
      "outputs": [
        {
          "output_type": "stream",
          "name": "stdout",
          "text": [
            "Digite sua Nota 1:5\n",
            "Nota Computada\n",
            "Digite sua Nota 1:0\n",
            "Nota Computada\n",
            "Digite sua Nota 1:2\n",
            "Nota Computada\n",
            "Sua média final é de: 2.33\n"
          ]
        }
      ]
    },
    {
      "cell_type": "code",
      "source": [
        "if media<5:\n",
        "  print(\"Sua menção final é I\")\n",
        "\n",
        "elif media>=5 and media<6.5:\n",
        "  print(\"Sua menção final é R\")\n",
        "\n",
        "elif media>=6.5 and media<8.5:\n",
        "  print(\"Sua menção é B\")\n",
        "\n",
        "else:\n",
        "  print(\"Sua menção final é MB\")\n"
      ],
      "metadata": {
        "colab": {
          "base_uri": "https://localhost:8080/"
        },
        "id": "gG-1mSXlOqa8",
        "outputId": "698e41c7-ee74-41fc-b338-045d0fd7fc7d"
      },
      "execution_count": null,
      "outputs": [
        {
          "output_type": "stream",
          "name": "stdout",
          "text": [
            "Sua menção final é I\n"
          ]
        }
      ]
    },
    {
      "cell_type": "markdown",
      "source": [
        "## Condicionais Aninhadas:\n",
        "Quando o segundo if só é executado se o primeiro for true"
      ],
      "metadata": {
        "id": "SbzuKV8-R7OP"
      }
    },
    {
      "cell_type": "code",
      "source": [
        "usuariocorreto = \"cintia\"\n",
        "senhacorreta = \"123456\"\n",
        "\n",
        "usuario = input(\"Digite seu Usuário\")\n",
        "senha = input(\"Digite sua Senha\")\n",
        "\n",
        "if(usuario==usuariocorreto):\n",
        "  if(senha==senhacorreta):\n",
        "    print(\"Usuário Logado!\")\n",
        "  else:\n",
        "    print(\"Senha Inválida\")\n",
        "else:\n",
        "    print(\"Usuario Inválido!\")"
      ],
      "metadata": {
        "colab": {
          "base_uri": "https://localhost:8080/"
        },
        "id": "Xk7879TeSRQF",
        "outputId": "cbb78dd0-2a4c-4fef-f239-5abf39c6c8bc"
      },
      "execution_count": null,
      "outputs": [
        {
          "output_type": "stream",
          "name": "stdout",
          "text": [
            "Digite seu Usuáriocintia\n",
            "Digite sua Senharebecao\n",
            "Senha Inválida\n"
          ]
        }
      ]
    },
    {
      "cell_type": "markdown",
      "source": [
        "#Lista de Exercícios\n",
        "\n",
        "Resolva essa lista de Exercícios usando o Condicional SE (IF)"
      ],
      "metadata": {
        "id": "AjnqykDdXcwu"
      }
    },
    {
      "cell_type": "markdown",
      "source": [
        "## 01) Faça um programa que solicite ao usuário três valores (lados de um triangulo), verifique se é um triangulo e informe se ele é isóceles, equilatero ou escaleno."
      ],
      "metadata": {
        "id": "bjmd9unEXzWm"
      }
    },
    {
      "cell_type": "code",
      "source": [
        "lado1 = float(input(\"Digite o valor do lado 1 do triângulo\"))\n",
        "lado2 = float(input(\"Digite o valor do lado 2 do triângulo\"))\n",
        "lado3 = float(input(\"Digite o valor do lado 3 do triângulo\"))\n",
        "\n",
        "if (lado1+lado2>lado3) and (lado1+lado3>lado2) and (lado2+lado3>lado1):\n",
        "  if(lado1==lado2) and (lado1==lado3) and (lado3==lado2):\n",
        "    print(\"Os lados informados formam um triângulo equilátero\")\n",
        "  elif (lado1!=lado2) and (lado1!=lado3) and (lado3!=lado2):\n",
        "    print(\"Os lados informados formam um triângulo escaleno\")\n",
        "  else:\n",
        "    print(\"Os lados informados formam um triângulo isósceles\")\n",
        "else:\n",
        "  print(\"Os números informados não formam um triângulo\")"
      ],
      "metadata": {
        "id": "V6-V8TAsX8Yx",
        "colab": {
          "base_uri": "https://localhost:8080/"
        },
        "outputId": "c1149c0e-bbad-440d-d0af-3463cfcbde90"
      },
      "execution_count": null,
      "outputs": [
        {
          "output_type": "stream",
          "name": "stdout",
          "text": [
            "Digite o valor do lado 1 do triângulo5\n",
            "Digite o valor do lado 2 do triângulo5\n",
            "Digite o valor do lado 3 do triângulo5\n",
            "Os lados informados formam um triângulo equilátero\n"
          ]
        }
      ]
    },
    {
      "cell_type": "markdown",
      "source": [
        "## 02) Peça para o usuário digitar um valor informe se ele é par ou impar"
      ],
      "metadata": {
        "id": "qBvzGeZ4ZibQ"
      }
    },
    {
      "cell_type": "code",
      "source": [
        "valor = int(input(\"Digite um número:\"))\n",
        "\n",
        "valor = valor%2\n",
        "\n",
        "if valor==0:\n",
        "  print(\"O número é par\")\n",
        "\n",
        "else:\n",
        "  print(\"O número é impar\")"
      ],
      "metadata": {
        "id": "DFGVWg3UZlzR",
        "colab": {
          "base_uri": "https://localhost:8080/"
        },
        "outputId": "bb045d7e-d873-493c-9438-b0567a0b6697"
      },
      "execution_count": 13,
      "outputs": [
        {
          "output_type": "stream",
          "name": "stdout",
          "text": [
            "Digite um número:1\n",
            "O número é impar\n"
          ]
        }
      ]
    },
    {
      "cell_type": "markdown",
      "source": [
        "## 03) Faça um programa que solicite peso e altura, informe seu IMC. Ao final informe se ele está, abaixo do peso,peso ideal ou acima do peso. fórmula do IMC: (peso/altura^2), siga a tabela abaixo:\n",
        "\n",
        "* Menos do que 18,5 ==> Abaixo do Peso\n",
        "* Entre 18,5 e 24,9  ==>Peso normal\n",
        "* Entre 25 e 29,9  ==> \tSobrepeso\n",
        "* Entre 30 e 34,9  ==> \tObesidade grau 1\n",
        "* Entre 35 e 39,9  ==> \tObesidade grau 2\n",
        "* Mais do que 40 \t  ==> Obesidade grau 3"
      ],
      "metadata": {
        "id": "b45Phv28ZmXn"
      }
    },
    {
      "cell_type": "code",
      "source": [
        ",peso = float(input(\"Digite o seu atual peso:\"))\n",
        "altura = float(input(\"Digite sua atual altura:\"))\n",
        "\n",
        "if (peso <= 0) or (altura <= 0):\n",
        "    print(\"Valor inválido: O peso e a altura devem ser maiores que zero.\")\n",
        "else:\n",
        "    print(\"Valores Computados\")\n",
        "    imc = peso / altura**2\n",
        "\n",
        "    if imc < 18.5:\n",
        "        print(\"Você está abaixo do peso\")\n",
        "    elif 18.5 <= imc <= 24.9:\n",
        "        print(\"Você está com o seu peso normal\")\n",
        "    elif 25 <= imc <= 29.9:\n",
        "        print(\"Você está em sobrepeso\")\n",
        "    elif 30 <= imc <= 34.9:\n",
        "        print(\"Você está com Obesidade Grau 1\")\n",
        "    elif 35 <= imc <= 39.9:\n",
        "        print(\"Você está com Obesidade Grau 2\")\n",
        "    else:\n",
        "        print(\"Você está com Obesidade Grau 3\")\n"
      ],
      "metadata": {
        "colab": {
          "base_uri": "https://localhost:8080/"
        },
        "id": "HiNI9zzq1tqA",
        "outputId": "ca34d19e-c7ce-4836-dae6-685d3ba0e3b2"
      },
      "execution_count": 1,
      "outputs": [
        {
          "output_type": "stream",
          "name": "stdout",
          "text": [
            "Digite o seu atual peso:49\n",
            "Digite sua atual altura:1.70\n",
            "Valores Computados\n",
            "Você está abaixo do peso\n"
          ]
        }
      ]
    },
    {
      "cell_type": "markdown",
      "source": [
        "## 04) Caixa Eletrônico com Login e Operações Bancárias\n",
        "\n",
        "Crie um programa que simule um caixa eletrônico. O programa deve:\n",
        "\n",
        "Solicitar ao usuário nome de usuário e senha para acessar a conta bancária (use valores fictícios para usuário e senha, por exemplo, \"cliente\" e \"1234\").\n",
        "\n",
        "Se o usuário ou a senha estiver incorreto, o programa deve bloquear o acesso e exibir a mensagem: \"Usuário ou senha incorretos. Tente novamente.\""
      ],
      "metadata": {
        "id": "UdddcGgOZ5Cn"
      }
    },
    {
      "cell_type": "code",
      "source": [
        "usercorreto =  \"Lia\"\n",
        "senhacorreta = \"123456\"\n",
        "\n",
        "userinserido = input(\"Digite o seu Usuário\")\n",
        "senhainserida = input(\"Digite a sua senha\")\n",
        "\n",
        "if userinserido== \"Lia\":\n",
        "  if(senhainserida==senhacorreta):\n",
        "    print(\"Usuário Logado!\")\n",
        "  else:\n",
        "    print(\"Senha Inválida\")\n",
        "else:\n",
        "    print(\"Usuario Inválido!\")"
      ],
      "metadata": {
        "colab": {
          "base_uri": "https://localhost:8080/"
        },
        "id": "abej2qNZJCBA",
        "outputId": "80decaba-1f3d-4bf7-f31d-baa64fa04d50"
      },
      "execution_count": null,
      "outputs": [
        {
          "output_type": "stream",
          "name": "stdout",
          "text": [
            "Digite o seu UsuárioLia\n",
            "Digite a sua senha12345\n",
            "Senha Inválida\n"
          ]
        }
      ]
    },
    {
      "cell_type": "markdown",
      "source": [
        "## 5) Exercício – Simulador de Saque e Depósito com Limite\n",
        "\n",
        "Sequência do exercício anterior\n",
        "\n",
        "Deverá ter os valores fixos de\n",
        "\n",
        "Exemplo:\n",
        "\n",
        "limite = 3000\n",
        "\n",
        "saldo = - 50.00\n",
        "\n",
        "Se o login for bem-sucedido, o programa deve exibir as opções de escolha para o usuário de saque, depósito ou ver saldo, e o usuário poderá escolher qual operação deseja realizar.\n",
        "\n",
        "Exemplo:\n",
        "\n",
        "Digite 1 para sacar\n",
        "\n",
        "Digite 2 para depositar\n",
        "\n",
        "Digite 3 para ver o saldo\n",
        "\n",
        "Porém ao final de cada operação de saque ou depósito, mostre como ficou o saldo do cliente no banco. Sempre mostranto saldo e o restante do limite do banco.\n",
        "\n",
        "Caso o usuário escolha sacar:\n",
        "\n",
        "Solicitar o valor que deseja sacar.\n",
        "\n",
        "Verificar se o saque pode ser realizado, considerando o saldo mais o limite disponível.\n",
        "\n",
        "Informar se o saque foi autorizado ou negado.\n",
        "\n",
        "Se autorizado, informar o saldo final e se ele é positivo ou negativo.\n",
        "\n",
        "Não esqueça de atualizar o saldo\n",
        "\n",
        "Informar qual o valor negativo que ele está caso esteja usando o limite do Banco.\n",
        "\n",
        "Caso o usuário escolha depositar:\n",
        "\n",
        "Solicitar o valor do depósito.\n",
        "\n",
        "Atualizar o saldo e informar o novo saldo final.\n",
        "\n",
        "Dica: Lembre-se de que o limite funciona como um \"empréstimo automático\", permitindo que o cliente saque além do saldo disponível."
      ],
      "metadata": {
        "id": "iIHgLvZHaFnf"
      }
    },
    {
      "cell_type": "code",
      "source": [
        "limite = 5000\n",
        "saldo = 1850\n",
        "\n",
        "usercorreto =  \"Lia\"\n",
        "senhacorreta = \"123456\"\n",
        "\n",
        "userinserido = input(\"Digite o seu Usuário\")\n",
        "senhainserida = input(\"Digite a sua senha\")\n",
        "\n",
        "if userinserido== \"Lia\":\n",
        "  if(senhainserida==senhacorreta):\n",
        "    print(\"Usuário Logado!\")\n",
        "\n",
        "    tarefa = int(input(\"Digite 1 para sacar\\nDigite 2 para depositar\\nDigite 3 para ver o saldo\"))\n",
        "\n",
        "    if (tarefa>=1)and (tarefa<=3):\n",
        "\n",
        "      if tarefa == 1:\n",
        "        valorsaque = int(input(\"Digite o valor que você deseja sacar\"))\n",
        "        if valorsaque<=(limite+saldo):\n",
        "          print(\"Saque Autorizado!\")\n",
        "          saldoatual = (saldo-valorsaque)\n",
        "          if saldoatual >=0:\n",
        "            print(f\"Valor atual do saldo é: R$ {saldoatual:.2f}\")\n",
        "          else:\n",
        "            print(\"Você está devendo: R$\", saldoatual,\"no limite\")\n",
        "\n",
        "        else:\n",
        "          print(\"Saque não Autorizado\")\n",
        "\n",
        "      elif tarefa == 2:\n",
        "        valordeposito = int(input(\"Digite o valor que você deseja depositar\"))\n",
        "        saldoatual = saldo+valordeposito\n",
        "        print(f\"Valor atual do saldo é: R$ {saldoatual:.2f}\")\n",
        "\n",
        "      else:\n",
        "        print(\"Seu saldo é de: R$\", saldo)\n",
        "    else:\n",
        "      print(\"Digite um número válido\")\n",
        "  else:\n",
        "    print(\"Senha Inválida\")\n",
        "else:\n",
        "    print(\"Usuario Inválido!\")\n"
      ],
      "metadata": {
        "id": "sUKbUig78p4q",
        "colab": {
          "base_uri": "https://localhost:8080/"
        },
        "outputId": "1e617973-00d9-4e7f-abb6-1fced774faa0"
      },
      "execution_count": 2,
      "outputs": [
        {
          "output_type": "stream",
          "name": "stdout",
          "text": [
            "Digite o seu UsuárioLia\n",
            "Digite a sua senha123456\n",
            "Usuário Logado!\n",
            "Digite 1 para sacar\n",
            "Digite 2 para depositar\n",
            "Digite 3 para ver o saldo1\n",
            "Digite o valor que você deseja sacar2850\n",
            "Saque Autorizado!\n",
            "Você está devendo: R$ -1000 no limite\n"
          ]
        }
      ]
    },
    {
      "cell_type": "markdown",
      "source": [
        "## 6) Faça um programa que solicite altura e idade do usuário, informe se ele pode ou nao competir.\n",
        "\n",
        "Regras: Para competir no campeonato de vôlei o usuário de ter pelo menos 1.75 de altura e 18 anos."
      ],
      "metadata": {
        "id": "6sNKtq45aILR"
      }
    },
    {
      "cell_type": "code",
      "source": [
        "altura = float(input(\"Digite sua altura:\"))\n",
        "idade = float(input(\"Digite sua idade:\"))\n",
        "\n",
        "if altura>=1.75 and idade>=18:\n",
        "  print(\"O usuário pode competir!\")\n",
        "\n",
        "else:\n",
        "  print(\"O usúario não pode competir\")"
      ],
      "metadata": {
        "id": "-shnQ30HaLcY",
        "colab": {
          "base_uri": "https://localhost:8080/"
        },
        "outputId": "a7bf9ab7-f87e-4909-9a4d-fe46aa436b88"
      },
      "execution_count": null,
      "outputs": [
        {
          "output_type": "stream",
          "name": "stdout",
          "text": [
            "Digite sua altura:1.80\n",
            "Digite sua idade:12\n",
            "O usúario não pode competir\n"
          ]
        }
      ]
    },
    {
      "cell_type": "markdown",
      "source": [
        "## 7. Faça um programa que solicite o peso do lutador de Boxe. Informe em que categoria de boxe o usuário está, segundo os critérios abaixos:\n",
        "![7.png](data:image/png;base64,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)"
      ],
      "metadata": {
        "id": "qtwj1jbbaLgv"
      }
    },
    {
      "cell_type": "code",
      "source": [
        "peso = float(input(\"Digite o seu atual peso:\"))\n",
        "\n",
        "if (peso <= 0):\n",
        "    print(\"Valor inválido: O peso deve ser maior que zero.\")\n",
        "else:\n",
        "    print(\"Valores Computados\")\n",
        "\n",
        "    if peso <= 46.27:\n",
        "      print(\"Categoria: Palha Ligeiro\")\n",
        "    elif peso <= 47.63:\n",
        "      print(\"Categoria: Palha\")\n",
        "    elif peso <= 48.99:\n",
        "      print(\"Categoria: Mosca Leve\")\n",
        "    elif peso <= 50.35:\n",
        "      print(\"Categoria: Mosca\")\n",
        "    elif peso <= 51.71:\n",
        "      print(\"Categoria: Super Mosca\")\n",
        "    elif peso <= 53.52:\n",
        "      print(\"Categoria: Galo\")\n",
        "    elif peso <= 55.34:\n",
        "      print(\"Categoria: Super Galo\")\n",
        "    elif peso <= 57.15:\n",
        "      print(\"Categoria: Pena\")\n",
        "    elif peso <= 58.97:\n",
        "      print(\"Categoria: Super Pena\")\n",
        "    elif peso <= 61.23:\n",
        "      print(\"Categoria: Leve\")\n",
        "    elif peso <= 63.5:\n",
        "      print(\"Categoria: Super Leve\")\n",
        "    elif peso <= 66.68:\n",
        "      print(\"Categoria: Meio-Médio\")\n",
        "    elif peso <= 69.85:\n",
        "      print(\"Categoria: Super Meio-Médio\")\n",
        "    elif peso <= 73.03:\n",
        "      print(\"Categoria: Médio\")\n",
        "    elif peso <= 76.2:\n",
        "      print(\"Categoria: Super Médio\")\n",
        "    elif peso <= 79.38:\n",
        "      print(\"Categoria: Meio-Pesado\")\n",
        "    elif peso <= 90.72:\n",
        "      print(\"Categoria: Cruzador\")\n",
        "    else:\n",
        "      print(\"Categoria: Pesado\")\n",
        "\n",
        "\n",
        "\n"
      ],
      "metadata": {
        "id": "FaYZHgf9aPdG",
        "colab": {
          "base_uri": "https://localhost:8080/"
        },
        "outputId": "3937aae0-a0b2-43bd-88f7-a48f502647f6"
      },
      "execution_count": null,
      "outputs": [
        {
          "output_type": "stream",
          "name": "stdout",
          "text": [
            "Digite o seu atual peso:85\n",
            "Valores Computados\n",
            "Categoria: Cruzador\n"
          ]
        }
      ]
    },
    {
      "cell_type": "markdown",
      "source": [
        "##8)Faça um programa que solicite\n",
        "\n",
        "O salário do usuário;\n",
        "\n",
        "Informe quanto esse usuário irá pagar de imposto de Renda seguindo a tabela abaixo:\n",
        "\n",
        "![8.png](data:image/png;base64,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)"
      ],
      "metadata": {
        "id": "Xk5BQfjZr78N"
      }
    },
    {
      "cell_type": "code",
      "source": [
        "salariodouser = float(input(\"Digite o valor do seu salário\"))\n",
        "\n",
        "if (salariodouser<=0):\n",
        "  print(\"Digite um valor válido\")\n",
        "\n",
        "else:\n",
        "  if (salariodouser<=1903.98):\n",
        "    print(\"Você está isento de pagar o imposto de renda\")\n",
        "\n",
        "  elif (salariodouser>=1903.99) and (salariodouser<=2826.65):\n",
        "    imposto = (salariodouser*7.5)/100\n",
        "    print(\"Você irá pagar: R$\",imposto,\"de Imposto de Renda\")\n",
        "\n",
        "  elif (salariodouser>=2826.65) and (salariodouser<=3751.05):\n",
        "    imposto = (salariodouser*22.5)/100\n",
        "    print(\"Você irá pagar: R$\",imposto,\"de Imposto de Renda\")\n",
        "\n",
        "  else:\n",
        "    imposto = (salariodouser*27.5)/100\n",
        "    print(\"Você irá pagar:R$\",imposto,\"de Imposto de Renda\")\n"
      ],
      "metadata": {
        "id": "ENFE1Bb47IRq",
        "colab": {
          "base_uri": "https://localhost:8080/"
        },
        "outputId": "d9276498-b4f2-49e2-a15e-5031cb65ee2c"
      },
      "execution_count": 4,
      "outputs": [
        {
          "output_type": "stream",
          "name": "stdout",
          "text": [
            "Digite o valor do seu salário4950\n",
            "Você irá pagar:R$ 1361.25 de Imposto de Renda\n"
          ]
        }
      ]
    },
    {
      "cell_type": "markdown",
      "source": [
        "## 9) Uma empresa dará aumento para seus funcionários, faça um programa que faça esses cálculos, solicite o salário do funcionário e informe o aumento que o mesmo terá, seguindo os seguintes critérios:\n",
        "\n",
        "![9.png](data:image/png;base64,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)"
      ],
      "metadata": {
        "id": "l_Bz53XavqH6"
      }
    },
    {
      "cell_type": "code",
      "source": [
        "salario = float(input(\"Digite o valor do seu salário\"))\n",
        "\n",
        "if (salario<=0):\n",
        "  print(\"Digite um valor válido\")\n",
        "\n",
        "else:\n",
        "\n",
        "  if (salario<=1500):\n",
        "    salariofinal = ((salario*20)/100)+salario\n",
        "    print(\"O seu aumento será de 20%. Seu salário passará a ser de:\", salariofinal)\n",
        "\n",
        "  elif (salario>1500) and (salario<=3000):\n",
        "    salariofinal =((salario*15)/100)+salario\n",
        "    print(\"O seu aumento será de 15%. Seu salário passará a ser de:\", salariofinal)\n",
        "\n",
        "  else:\n",
        "    salariofinal = ((salario*10)/100)+salario\n",
        "    print(\"O seu aumento será de 10%. Seu salário passará a ser de:\", salariofinal)"
      ],
      "metadata": {
        "colab": {
          "base_uri": "https://localhost:8080/"
        },
        "id": "-PSW8j-4r9yJ",
        "outputId": "1e31324f-3f7e-4e00-f811-a6c989489f5c"
      },
      "execution_count": 8,
      "outputs": [
        {
          "output_type": "stream",
          "name": "stdout",
          "text": [
            "Digite o valor do seu salário3100\n",
            "O seu aumento será de 10%. Seu salário passará a ser de: 3410.0\n"
          ]
        }
      ]
    },
    {
      "cell_type": "markdown",
      "source": [
        "## 10) Simulador de frete inteligente\n",
        "\n",
        "Peça o peso do pacote (em kg) e a distância (em km) de sua cidade até o local de entrega.Calcule o frete com base em regras:\n",
        "\n",
        "Até 2kg → R$5 por 100km\n",
        "\n",
        "De 2kg a 5kg → R$8 por 100km\n",
        "\n",
        "Acima de 5kg → R$10 por 100km\n",
        "\n",
        "Exemplo de saída:\n",
        "\n",
        "\"Para um pacote de 3kg viajando 350km, o valor do frete será R$28,00\""
      ],
      "metadata": {
        "id": "WN34fVFAr-ba"
      }
    },
    {
      "cell_type": "code",
      "source": [
        "pesopacote=  float(input(\"Digite o peso do pacote\"))\n",
        "distancia = float(input(\"Digite distância (em km) de sua cidade até o local de entrega\"))\n",
        "\n",
        "if (pesopacote<=0) or (distancia<=0):\n",
        "  print(\"Digite um valor válido\")\n",
        "\n",
        "else:\n",
        "    if pesopacote<=2:\n",
        "      frete = (distancia/100)*5\n",
        "      print(\"O valor do frete será: R$\",frete)\n",
        "\n",
        "    elif pesopacote <= 5:\n",
        "      frete = (distancia/100)*8\n",
        "      print(\"O valor do frete será: R$\",frete)\n",
        "\n",
        "    else:\n",
        "      frete = (distancia*10)/100\n",
        "      print(\"O valor do frete será: R$\",frete)"
      ],
      "metadata": {
        "id": "yEueucDW8srq",
        "colab": {
          "base_uri": "https://localhost:8080/"
        },
        "outputId": "072b3e40-bd71-4e37-cd21-9fdb07edff42"
      },
      "execution_count": 12,
      "outputs": [
        {
          "output_type": "stream",
          "name": "stdout",
          "text": [
            "Digite o peso do pacote2\n",
            "Digite distância (em km) de sua cidade até o local de entrega200\n",
            "O valor do frete será: R$ 10.0\n"
          ]
        }
      ]
    }
  ]
}