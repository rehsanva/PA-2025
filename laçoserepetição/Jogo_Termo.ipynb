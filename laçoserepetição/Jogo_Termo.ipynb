{
  "nbformat": 4,
  "nbformat_minor": 0,
  "metadata": {
    "colab": {
      "provenance": [],
      "authorship_tag": "ABX9TyMNBohXhzQmW/FABWWti/E7",
      "include_colab_link": true
    },
    "kernelspec": {
      "name": "python3",
      "display_name": "Python 3"
    },
    "language_info": {
      "name": "python"
    }
  },
  "cells": [
    {
      "cell_type": "markdown",
      "metadata": {
        "id": "view-in-github",
        "colab_type": "text"
      },
      "source": [
        "<a href=\"https://colab.research.google.com/github/rehsanva/PA-2025/blob/main/la%C3%A7oserepeti%C3%A7%C3%A3o/Jogo_Termo.ipynb\" target=\"_parent\"><img src=\"https://colab.research.google.com/assets/colab-badge.svg\" alt=\"Open In Colab\"/></a>"
      ]
    },
    {
      "cell_type": "markdown",
      "source": [
        "Jogo de Adivinhação - Termo\n",
        "\n",
        "Objetivo:\n",
        "Adivinhar uma palavra secreta de 5 letras em até 6 tentativas.\n",
        "\n",
        "Regras:\n",
        "\n",
        "O jogo escolhe uma palavra secreta de 5 letras.\n",
        "\n",
        "A cada tentativa, o jogador escolhe uma palavra de 5 letras.\n",
        "\n",
        "O jogo dá dicas:\n",
        "\n",
        "Maiúscula: Letra correta e na posição certa.\n",
        "\n",
        "Minúscula: Letra correta, mas na posição errada.\n",
        "\n",
        "_: Letra incorreta.\n",
        "\n",
        "O jogo termina quando o jogador acerta a palavra ou esgota as tentativas.\n",
        "\n",
        "Exemplo:\n",
        "\n",
        "Palavra secreta: flor\n",
        "\n",
        "Tentativa 1: casa → _ _ _ _\n",
        "\n",
        "Tentativa 2: flor → F L O R (Você acertou!)\n",
        "\n"
      ],
      "metadata": {
        "id": "e2rD-jwkC6J1"
      }
    },
    {
      "cell_type": "code",
      "execution_count": 7,
      "metadata": {
        "colab": {
          "base_uri": "https://localhost:8080/"
        },
        "id": "0si6kWtxC189",
        "outputId": "327855ee-bc5e-435c-f776-b1ec0a552cb1"
      },
      "outputs": [
        {
          "output_type": "stream",
          "name": "stdout",
          "text": [
            "\n",
            "Você tem 6 tentativas. Digite um nome com 5 letras: justo\n",
            "Resultado:  J U S T O\n",
            "Parabéns! Você acertou a palavra!\n"
          ]
        }
      ],
      "source": [
        "import random\n",
        "\n",
        "tentativas = 6\n",
        "\n",
        "palavras = ['justo', 'pedro', 'ideia', 'sonho']\n",
        "\n",
        "palavra = random.choice(palavras)\n",
        "\n",
        "letras = []\n",
        "for letra in palavra:\n",
        "    letras.append(letra)\n",
        "\n",
        "qtd_letras = len(letras)\n",
        "\n",
        "print(f'Tente adivinhar uma palavra com {qtd_letras} letras!')\n",
        "\n",
        "\n",
        "while tentativas > 0 :\n",
        "    chute = input(f'\\nVocê tem {tentativas} tentativas. Digite um nome com {qtd_letras} letras: ').lower()\n",
        "\n",
        "    qtd_chute = len(chute)\n",
        "\n",
        "    while qtd_chute != qtd_letras:\n",
        "        chute = input(f'\\nVocê tem {tentativas} tentativas. Digite um nome com {qtd_letras} letras: ').lower()\n",
        "        qtd_chute = len(chute)\n",
        "\n",
        "\n",
        "    resultado = []\n",
        "\n",
        "\n",
        "    for i in range(qtd_letras):\n",
        "        if chute[i] == letras[i]:\n",
        "\n",
        "            resultado.append(chute[i].upper())\n",
        "\n",
        "        elif chute[i] in letras:\n",
        "\n",
        "            resultado.append(chute[i])\n",
        "        else:\n",
        "\n",
        "            resultado.append('_')\n",
        "    tentativas -=1\n",
        "\n",
        "    print('Resultado: ', ' '.join(resultado))\n",
        "\n",
        "    if chute == palavra:\n",
        "        print('Parabéns! Você acertou a palavra!')\n",
        "\n",
        "        break\n",
        "\n",
        "    if tentativas == 0:\n",
        "        print(f'Você perdeu! A palavra correta era: {palavra}')"
      ]
    }
  ]
}