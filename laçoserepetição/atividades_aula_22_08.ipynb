{
  "nbformat": 4,
  "nbformat_minor": 0,
  "metadata": {
    "colab": {
      "provenance": [],
      "include_colab_link": true
    },
    "kernelspec": {
      "name": "python3",
      "display_name": "Python 3"
    },
    "language_info": {
      "name": "python"
    }
  },
  "cells": [
    {
      "cell_type": "markdown",
      "metadata": {
        "id": "view-in-github",
        "colab_type": "text"
      },
      "source": [
        "<a href=\"https://colab.research.google.com/github/rehsanva/PA-2025/blob/main/la%C3%A7oserepeti%C3%A7%C3%A3o/atividades_aula_22_08.ipynb\" target=\"_parent\"><img src=\"https://colab.research.google.com/assets/colab-badge.svg\" alt=\"Open In Colab\"/></a>"
      ]
    },
    {
      "cell_type": "markdown",
      "source": [
        "**Exercícios com for, while, listas, strings e dicionários**"
      ],
      "metadata": {
        "id": "5KtSL9tuj-zo"
      }
    },
    {
      "cell_type": "markdown",
      "source": [
        "1) Soma dos números de uma lista\n",
        "\n",
        "Dada a lista numeros = [3, 7, 2, 8, 10], use um for para calcular a soma de todos os elementos."
      ],
      "metadata": {
        "id": "ZZZicFxfkEEg"
      }
    },
    {
      "cell_type": "code",
      "source": [
        "soma=0\n",
        "lista=[3,7,2,8,10]\n",
        "for i in lista:\n",
        "  soma= soma+ i\n",
        "print(soma)\n"
      ],
      "metadata": {
        "id": "DIfDNiASugCB"
      },
      "execution_count": null,
      "outputs": []
    },
    {
      "cell_type": "markdown",
      "source": [
        "2) Contagem de vogais em uma string\n",
        "\n",
        "Peça uma palavra ao usuário e use um for para contar quantas vogais (a, e, i, o, u) existem."
      ],
      "metadata": {
        "id": "Xw8gph7LkL6R"
      }
    },
    {
      "cell_type": "code",
      "source": [
        "soma=0\n",
        "palavra= input(\"Digite uma palavra: \")\n",
        "vogal = [\"a\", \"e\", \"i\", \"o\", \"u\"]\n",
        "\n",
        "for i in palavra:\n",
        "  if i in vogal:\n",
        "    soma = soma + 1\n",
        "\n",
        "print(\"a palavra tem:\", soma, \"vogais\")"
      ],
      "metadata": {
        "id": "pw-dKNLYuX56"
      },
      "execution_count": null,
      "outputs": []
    },
    {
      "cell_type": "markdown",
      "source": [
        "3) Inverter lista usando while\n",
        "\n",
        "Dada a lista nomes = [\"Ana\", \"João\", \"Carlos\", \"Maria\"], use um while para inverter a ordem dos elementos (sem usar reverse() ou slicing)."
      ],
      "metadata": {
        "id": "YfW4Aw8ckZw-"
      }
    },
    {
      "cell_type": "markdown",
      "source": [
        "4) Maior número em uma lista\n",
        "\n",
        "Escreva um programa que percorra uma lista de inteiros e encontre o maior valor."
      ],
      "metadata": {
        "id": "cvRuv0PxkkYi"
      }
    },
    {
      "cell_type": "code",
      "source": [
        "lista = [10,22,58,46,98,99,15,7,101]\n",
        "numero = 0\n",
        "\n",
        "for i in lista:\n",
        "  if i > numero:\n",
        "    numero = i\n",
        "\n",
        "print(\"O maior valor é:\", numero)\n"
      ],
      "metadata": {
        "id": "wZUSriS3u6y6",
        "colab": {
          "base_uri": "https://localhost:8080/"
        },
        "outputId": "9af380f7-d969-435f-d08c-462d53a38126"
      },
      "execution_count": 36,
      "outputs": [
        {
          "output_type": "stream",
          "name": "stdout",
          "text": [
            "O maior valor é: 101\n"
          ]
        }
      ]
    },
    {
      "cell_type": "markdown",
      "source": [
        "5) Remover elementos repetidos de uma lista\n",
        "\n",
        "Usando um for, percorra a lista valores = [1, 2, 2, 3, 4, 4, 5] e crie uma nova lista apenas com elementos únicos."
      ],
      "metadata": {
        "id": "xV6pmOVCkuCm"
      }
    },
    {
      "cell_type": "code",
      "source": [
        "valores = [1, 2, 2, 3, 4, 4, 5]\n",
        "lista = []\n",
        "for i in valores:\n",
        "  if i not in lista:\n",
        "    lista.append(i)\n",
        "\n",
        "print(lista)"
      ],
      "metadata": {
        "id": "UNmMlTpbu7Om",
        "colab": {
          "base_uri": "https://localhost:8080/"
        },
        "outputId": "8edd0940-8ac0-4c4e-e4ad-1dab86dfad74"
      },
      "execution_count": 58,
      "outputs": [
        {
          "output_type": "stream",
          "name": "stdout",
          "text": [
            "[1, 2, 3, 4, 5]\n"
          ]
        }
      ]
    },
    {
      "cell_type": "markdown",
      "source": [
        "6) Verificar se palavra é palíndromo\n",
        "\n",
        "Peça uma palavra ao usuário e use while ou for para verificar se ela é igual de frente para trás (ex.: \"arara\")."
      ],
      "metadata": {
        "id": "_bHj-pkzk2TX"
      }
    },
    {
      "cell_type": "code",
      "source": [],
      "metadata": {
        "id": "OU9onkSK4uMV"
      },
      "execution_count": null,
      "outputs": []
    },
    {
      "cell_type": "markdown",
      "source": [
        "7 Contagem regressiva com while\n",
        "\n",
        "Peça ao usuário um número e faça uma contagem regressiva até 0."
      ],
      "metadata": {
        "id": "1PeOPJ3ClC0c"
      }
    },
    {
      "cell_type": "code",
      "source": [
        "number = int(input(\"Digite um número\"))\n",
        "print(number)\n",
        "\n",
        "while (number> 0 and number != 0):\n",
        "  number = number - 1\n",
        "  print(number)\n",
        "  if number == 0:\n",
        "    break"
      ],
      "metadata": {
        "id": "SiiiJG1Zu9k4",
        "colab": {
          "base_uri": "https://localhost:8080/"
        },
        "outputId": "e80ea454-8725-4126-cb8e-a727e9731419"
      },
      "execution_count": 74,
      "outputs": [
        {
          "output_type": "stream",
          "name": "stdout",
          "text": [
            "Digite um número10\n",
            "10\n",
            "9\n",
            "8\n",
            "7\n",
            "6\n",
            "5\n",
            "4\n",
            "3\n",
            "2\n",
            "1\n",
            "0\n"
          ]
        }
      ]
    },
    {
      "cell_type": "markdown",
      "source": [
        "8) Percorrendo um dicionário de notas\n",
        "\n",
        "Dado o dicionário notas = {\"Ana\": 8, \"Carlos\": 7, \"Maria\": 10}, use um for para exibir cada aluno com sua nota."
      ],
      "metadata": {
        "id": "wKkDTzwelK_f"
      }
    },
    {
      "cell_type": "code",
      "source": [
        "notas = {\"Ana\": 8, \"Carlos\": 7, \"Maria\": 10}\n",
        "nota = []\n",
        "\n",
        "for i in notas:\n",
        "  print(i, notas[i] )"
      ],
      "metadata": {
        "id": "vINo9-JUu9Fp",
        "colab": {
          "base_uri": "https://localhost:8080/"
        },
        "outputId": "90a929d2-3436-4358-e251-644cf917856d"
      },
      "execution_count": 41,
      "outputs": [
        {
          "output_type": "stream",
          "name": "stdout",
          "text": [
            "Ana 8\n",
            "Carlos 7\n",
            "Maria 10\n"
          ]
        }
      ]
    },
    {
      "cell_type": "markdown",
      "source": [
        "9)Filtrar números pares de uma lista\n",
        "\n",
        "Dada a lista numeros = [10, 21, 32, 43, 54], use um for para criar uma nova lista contendo apenas os pares."
      ],
      "metadata": {
        "id": "xrXKbCl7lUQg"
      }
    },
    {
      "cell_type": "code",
      "source": [
        "lista = [10, 21, 32, 43, 54]\n",
        "nova = []\n",
        "\n",
        "for i in lista:\n",
        "  resto = i%2\n",
        "  if resto == 0:\n",
        "    nova.append(i)\n",
        "\n",
        "print(nova)"
      ],
      "metadata": {
        "id": "q0LKpcHHu8gB",
        "colab": {
          "base_uri": "https://localhost:8080/"
        },
        "outputId": "7b042030-e3bf-472f-b8f2-766f10e99037"
      },
      "execution_count": 10,
      "outputs": [
        {
          "output_type": "stream",
          "name": "stdout",
          "text": [
            "[10, 32, 54]\n"
          ]
        }
      ]
    },
    {
      "cell_type": "markdown",
      "source": [
        "10) Contador de palavras em uma frase\n",
        "\n",
        "Peça ao usuário uma frase, divida em palavras (split()) e use um dicionário para contar quantas vezes cada palavra aparece."
      ],
      "metadata": {
        "id": "9pzoi0GxlcO8"
      }
    },
    {
      "cell_type": "code",
      "source": [],
      "metadata": {
        "id": "muRm-6H0u_VX"
      },
      "execution_count": 74,
      "outputs": []
    }
  ]
}