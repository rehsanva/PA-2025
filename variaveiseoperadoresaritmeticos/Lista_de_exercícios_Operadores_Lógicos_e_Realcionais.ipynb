{
  "nbformat": 4,
  "nbformat_minor": 0,
  "metadata": {
    "colab": {
      "provenance": [],
      "include_colab_link": true
    },
    "kernelspec": {
      "name": "python3",
      "display_name": "Python 3"
    },
    "language_info": {
      "name": "python"
    }
  },
  "cells": [
    {
      "cell_type": "markdown",
      "metadata": {
        "id": "view-in-github",
        "colab_type": "text"
      },
      "source": [
        "<a href=\"https://colab.research.google.com/github/rehsanva/PA-2025/blob/main/variaveiseoperadoresaritmeticos/Lista_de_exerc%C3%ADcios_Operadores_L%C3%B3gicos_e_Realcionais.ipynb\" target=\"_parent\"><img src=\"https://colab.research.google.com/assets/colab-badge.svg\" alt=\"Open In Colab\"/></a>"
      ]
    },
    {
      "cell_type": "markdown",
      "source": [
        "#Lista de exercícios - Operadores Lógicos e Relacionais\n",
        "\n"
      ],
      "metadata": {
        "id": "IfPXF-sV3xLF"
      }
    },
    {
      "cell_type": "markdown",
      "source": [
        "Em Python, usamos operadores relacionais e lógicos para fazer comparações e tomar decisões com base em condições. Eles são fundamentais na construção de estruturas de controle como if, while e outras."
      ],
      "metadata": {
        "id": "eIwxJUSq3I9d"
      }
    },
    {
      "cell_type": "markdown",
      "source": [
        "✅ Operadores Relacionais\n",
        "\n",
        "Os operadores relacionais comparam dois valores e retornam um resultado booleano (ou seja, True ou False).\n",
        "\n",
        "**Veja os principais:**\n",
        "\n",
        "\"==\" → verifica se dois valores são iguais\n",
        "\n",
        "\"!=\" → verifica se dois valores são diferentes\n",
        "\n",
        "\">\" → verifica se o valor da esquerda é maior\n",
        "\n",
        "\"<\" → verifica se o valor da esquerda é menor\n",
        "\n",
        "\">=\" → verifica se é maior ou igual\n",
        "\n",
        "\"<=\" → verifica se é menor ou igual\n",
        "\n",
        "✅ Operadores Lógicos\n",
        "\n",
        "Os operadores lógicos são usados para combinar condições. Eles também retornam valores booleanos e são muito úteis quando precisamos verificar mais de uma condição ao mesmo tempo.\n",
        "\n",
        "and (E): Retorna True somente se todas as condições forem verdadeiras\n",
        "\n",
        "or (OU): Retorna True se pelo menos uma das condições for verdadeira\n",
        "\n",
        "not (NÃO): Inverte o valor lógico de uma expressão"
      ],
      "metadata": {
        "id": "wZu_EmmK318x"
      }
    },
    {
      "cell_type": "markdown",
      "source": [
        "## Veja os exemplos abaixo - Execute os códigos um a um para entender, troque os valores para ficar mais fácil o entendimento"
      ],
      "metadata": {
        "id": "8vX8RQvs4dsQ"
      }
    },
    {
      "cell_type": "code",
      "source": [
        "# Operadores Relacionais\n",
        "#  1. Igualdade (==) e Diferença (!=)\n",
        "a = 10\n",
        "b = 5\n",
        "\n",
        "print(a == b)\n",
        "print(a != b)"
      ],
      "metadata": {
        "id": "xNVmeRUMU3OU"
      },
      "execution_count": null,
      "outputs": []
    },
    {
      "cell_type": "markdown",
      "source": [
        "## Aplicação em senhas"
      ],
      "metadata": {
        "id": "5CIZb32GBgh3"
      }
    },
    {
      "cell_type": "code",
      "source": [
        "#entrada\n",
        "senhacerta=\"gostopython\"\n",
        "senha = input(\"Digite a senha: \")\n",
        "#processamento\n",
        "logado = senhacerta == senha\n",
        "#saída\n",
        "print(\"Está logado? \", logado)\n"
      ],
      "metadata": {
        "id": "ihCaXz_WBRNX"
      },
      "execution_count": null,
      "outputs": []
    },
    {
      "cell_type": "code",
      "source": [
        "# 2. Comparações (> , < , >= , <=)\n",
        "x = 8\n",
        "y = 12\n",
        "\n",
        "print(\"X é maior que Y?\", x > y)\n",
        "print(\"X é menor que Y?\",x < y)\n",
        "print(\"X é maior ou igual e Y?\",x >= 8)\n",
        "print(\"X é menor ou igual a Y?\",y <= 10)"
      ],
      "metadata": {
        "id": "fLAmvGGTVhPm"
      },
      "execution_count": null,
      "outputs": []
    },
    {
      "cell_type": "markdown",
      "source": [
        "## aplicação do exemplo anterior mais operador lógico"
      ],
      "metadata": {
        "id": "Vy3Q7wF8Cl40"
      }
    },
    {
      "cell_type": "code",
      "source": [
        "# 3. Operador \"AND\" (E) - Ambos precisam ser verdadeiros\n",
        "idade = 11\n",
        "tem_autorizacao = True\n",
        "\n",
        "podentrar = (idade >= 12 and tem_autorizacao)\n",
        "\n",
        "print(\"Pode entrar no evento?\", podentrar)\n"
      ],
      "metadata": {
        "id": "9dj-xWQ1WOe4"
      },
      "execution_count": null,
      "outputs": []
    },
    {
      "cell_type": "markdown",
      "source": [
        "## Com entrada de dados pelo Teclado"
      ],
      "metadata": {
        "id": "MNGl1vEvCSPN"
      }
    },
    {
      "cell_type": "code",
      "source": [
        "idade = int(input(\"Qual sua idade?\"))\n",
        "autorizacao = input(\"Trouxe autorização do seus responsáveis?\") #resposta tem que ser True ou False\n",
        "\n",
        "podentrar = (idade >= 12 and tem_autorizacao)\n",
        "\n",
        "print(\"Pode entrar no evento?\", podentrar)\n"
      ],
      "metadata": {
        "id": "nSqIDj2u-Rpw"
      },
      "execution_count": null,
      "outputs": []
    },
    {
      "cell_type": "markdown",
      "source": [
        "## outra forma de fazer o mesmo exercício, usando outra entrada de dados\n"
      ],
      "metadata": {
        "id": "uNuVUBkrCXpK"
      }
    },
    {
      "cell_type": "code",
      "source": [
        "idade = int(input(\"Qual sua idade? \"))\n",
        "autorizacao = int(input(\"Trouxe autorização do seus responsáveis?\\nDigite 1 para sim \\nDigite 2 para não: \"))\n",
        "\n",
        "verificacao = autorizacao==1\n",
        "\n",
        "podentrar = (idade >= 12 and verificacao)\n",
        "\n",
        "print(\"Pode entrar no evento?\", podentrar)"
      ],
      "metadata": {
        "id": "711Kvx27-4fm"
      },
      "execution_count": null,
      "outputs": []
    },
    {
      "cell_type": "code",
      "source": [
        "# 4. Operador \"OR\" (OU) - Basta um ser verdadeiro\n",
        "tem_ingresso = False\n",
        "nome_na_lista = False\n",
        "\n",
        "podeentrar = tem_ingresso or nome_na_lista\n",
        "\n",
        "print(\"Pode entrar na festa? \", podeentrar )"
      ],
      "metadata": {
        "id": "pR0TrqcMWx1f"
      },
      "execution_count": null,
      "outputs": []
    },
    {
      "cell_type": "code",
      "source": [
        "# 5. Operador \"NOT\" (NÃO) - Inverte o valor\n",
        "chovendo = True\n",
        "\n",
        "print(not chovendo)"
      ],
      "metadata": {
        "id": "g5C5xYyMW_rZ"
      },
      "execution_count": null,
      "outputs": []
    },
    {
      "cell_type": "code",
      "source": [
        "# 6. Misturando Relacionais + Lógicos\n",
        "nota = 7\n",
        "presenca = 65\n",
        "\n",
        "print(nota >= 6 and presenca >= 75)\n"
      ],
      "metadata": {
        "id": "MCpdGwU1XETi"
      },
      "execution_count": null,
      "outputs": []
    },
    {
      "cell_type": "markdown",
      "source": [
        "##Exemplo: Soma de 3 valores com desconto automático (sem if)\n",
        "\n",
        "O usuário terá desconto se a soma dos valores for maior que R$ 1000,00"
      ],
      "metadata": {
        "id": "t0n3Ajr-Ebfw"
      }
    },
    {
      "cell_type": "code",
      "source": [
        "# 7. com cálculos no meio.\n",
        "\n",
        "# Solicita três valores ao usuário\n",
        "v1 = float(input(\"Digite o valor do primeiro produto: \"))\n",
        "v2 = float(input(\"Digite o valor do segundo produto:  \"))\n",
        "v3 = float(input(\"Digite o valor do terceiro produto:  \"))\n",
        "\n",
        "# Soma total\n",
        "total = v1 + v2 + v3\n",
        "\n",
        "desconto =(total >= 1000)\n",
        "\n",
        "print(\"Vai ter desconto? \", desconto)"
      ],
      "metadata": {
        "id": "GpzpYjATEH_1"
      },
      "execution_count": null,
      "outputs": []
    },
    {
      "cell_type": "markdown",
      "source": [
        "##Seguindo os exemplos anteriores.  Faça os outros em seguida:\n",
        "\n",
        "# Importante: NÃO USE O CONDICIONAL IF. É obrigatório o uso apenas de operadores lógicos, relacioais e variáveis."
      ],
      "metadata": {
        "id": "MIudH-lZ4g35"
      }
    },
    {
      "cell_type": "markdown",
      "source": [
        "1- Solicite ao usuário a idade; Pergunte se está com responsável;\n",
        "\n",
        "Regra: A entrada para o cinema é permitida se a pessoa tiver 14 anos ou mais ou estiver acompanhada de um responsável.\n",
        "\n",
        "Na Saída informa se é True ou False, a possivel entrada no Cinema.\n",
        "\n",
        "Exemplo: Pode entrar no Cinema?....\n",
        "\n",
        "A Resposta esperada sera True ou False"
      ],
      "metadata": {
        "id": "A847ArYB4zIG"
      }
    },
    {
      "cell_type": "code",
      "source": [
        "idade = int(input(\"Digite sua idade:\"))\n",
        "responsavel = int(input(\"Está com responsável? \\n Digite 1 para sim \\n Digite 2 para não\"))\n",
        "\n",
        "entrada = idade>=14 or responsavel==1\n",
        "\n",
        "print(\"Pode entrar no cinema?\", entrada)"
      ],
      "metadata": {
        "id": "RWkY0IusDp1F",
        "colab": {
          "base_uri": "https://localhost:8080/"
        },
        "outputId": "7a690895-1a46-46ce-c3d3-433a0cadaf36"
      },
      "execution_count": 1,
      "outputs": [
        {
          "output_type": "stream",
          "name": "stdout",
          "text": [
            "Digite sua idade:15\n",
            "Está com responsável? \n",
            " Digite 1 para sim \n",
            " Digite 2 para não2\n",
            "Pode entrar no cinema? True\n"
          ]
        }
      ]
    },
    {
      "cell_type": "markdown",
      "source": [
        "2- Um jogador só recebe promoção se: tiver mais de 1000 pontos OU for assinante premium.\n",
        "* Solicite os pontos na primeira entrada;\n",
        "* Solicite que tipo de assinante ele é;\n",
        "* Na saída informa se é Verdadeiro ou Falso a promoção;"
      ],
      "metadata": {
        "id": "1Z7RsUTF44M5"
      }
    },
    {
      "cell_type": "code",
      "source": [
        "pontos = float(input(\"Digite quantos pontos você tem:\"))\n",
        "assinatura = int(input(\"Você é assinante premium?\\n Digite 1 para sim \\n Digite 2 para não:\"))\n",
        "\n",
        "promocao = pontos>1000 or assinatura==1\n",
        "\n",
        "print(\"O jogador tem direito a promoção:\", promocao)"
      ],
      "metadata": {
        "id": "QRHx7-KtDqVZ",
        "colab": {
          "base_uri": "https://localhost:8080/"
        },
        "outputId": "adf0db6f-510f-4eb5-df68-cbe8f87bd93d"
      },
      "execution_count": 2,
      "outputs": [
        {
          "output_type": "stream",
          "name": "stdout",
          "text": [
            "Digite quantos pontos você tem:200\n",
            "Você é assinante premium?\n",
            " Digite 1 para sim \n",
            " Digite 2 para não:2\n",
            "O jogador tem direito a promoção: False\n"
          ]
        }
      ]
    },
    {
      "cell_type": "markdown",
      "source": [
        "3- Solicite um valor ao usuário.\n",
        "* Verifique se o número que o usuário digitou está entre 10 e 20\n",
        "* Na saída infome se é verdadeiro ou falso. }Exemplo saída. \"O número está entre 10 e 20\". A resposta será True ou False."
      ],
      "metadata": {
        "id": "tAFfmQ8u459E"
      }
    },
    {
      "cell_type": "code",
      "source": [
        "numero = float(input(\"Digite um número:\"))\n",
        "\n",
        "valor = 9<=numero<=21\n",
        "\n",
        "print(\"O número está entre 10 e 20?\", valor)"
      ],
      "metadata": {
        "id": "6WjvOAV_DqsF",
        "colab": {
          "base_uri": "https://localhost:8080/"
        },
        "outputId": "84b2ae50-e887-492d-db8f-5321fff06283"
      },
      "execution_count": 3,
      "outputs": [
        {
          "output_type": "stream",
          "name": "stdout",
          "text": [
            "Digite um número:60\n",
            "O número está entre 10 e 20? False\n"
          ]
        }
      ]
    },
    {
      "cell_type": "markdown",
      "source": [
        "4- Solicite a idade da pessoa, e pergunte quanto ela tem em dinheiro.\n",
        "\n",
        "* A pessoa pode fazer uma viagem se: tiver mais de 18 anos E tiver mais de R$ 2000,00\n",
        "\n",
        "* Na Saída informe se é Verdeiro ou falso A possibilidade da Viagem. Exemplo: Vai viajar? - O retorno será True or False"
      ],
      "metadata": {
        "id": "gx_l2c025hNr"
      }
    },
    {
      "cell_type": "code",
      "source": [
        "idade1 = int(input(\"Digite a sua idade\"))\n",
        "dinheiro = float(input(\"Digite quando você tem de dinheiro:\"))\n",
        "\n",
        "viagem = idade1>18 and dinheiro>2000\n",
        "\n",
        "print(\"Vai viajar?\", viagem)"
      ],
      "metadata": {
        "id": "__EsZX4nDrF8",
        "colab": {
          "base_uri": "https://localhost:8080/"
        },
        "outputId": "77d68398-3e54-46c4-f6b2-9a8c092eddbf"
      },
      "execution_count": null,
      "outputs": [
        {
          "output_type": "stream",
          "name": "stdout",
          "text": [
            "Digite a sua idade15\n",
            "Digite quando você tem de dinheiro:6000\n",
            "Vai viajar? False\n"
          ]
        }
      ]
    },
    {
      "cell_type": "markdown",
      "source": [
        "5- Solicite a idade da pessoa, e pergunte quanto ela tem em dinheiro e agora pergunte se ela vai viajar com os pais.\n",
        "\n",
        "* A pessoa pode fazer uma viagem se: (tiver mais de 18 anos E tiver mais de R$ 2000,00) ou se ela estiver com os pais.\n",
        "\n",
        "* Na Saída informe se é Verdeiro ou falso A possibilidade da Viagem. Exemplo: Vai viajar? - O retorno será True or False\n"
      ],
      "metadata": {
        "id": "e4zE89vu6AsO"
      }
    },
    {
      "cell_type": "code",
      "source": [
        "idade2 = int(input(\"Digite sua idade\"))\n",
        "dinheiro1 = float(input(\"Digite seu saldo\"))\n",
        "pais = int(input(\"Vai viajar com os pais? \\n Digite 1 para sim \\n Digite 2 para não\"))\n",
        "\n",
        "viagem1 = (idade2>18 and dinheiro1>2000)or pais==1\n",
        "\n",
        "print(\"Vai viajar?\", viagem1)"
      ],
      "metadata": {
        "id": "FIj0zQUXDrif",
        "colab": {
          "base_uri": "https://localhost:8080/"
        },
        "outputId": "6dea8e3d-0356-4397-abc4-2426daf31455"
      },
      "execution_count": null,
      "outputs": [
        {
          "output_type": "stream",
          "name": "stdout",
          "text": [
            "Digite sua idade18\n",
            "Digite seu saldo2000\n",
            "Vai viajar com os pais? \n",
            " Digite 1 para sim \n",
            " Digite 2 para não2\n",
            "Vai viajar? False\n"
          ]
        }
      ]
    },
    {
      "cell_type": "markdown",
      "source": [
        "6-Solicite três notas ao usuário e calcule a média e também solicite quantos dias letivos tem no ano e quantas faltas ele teve.\n",
        "\n",
        "* Calcule a média (somando as notas e dividindo por 3)\n",
        "* Calcule o percentual de faltas (Divida a quantidade de faltas pela quantidade de dias letivos e multiplique por 100).\n",
        "* Depois subtraia de 100 esse valor e obterá o percentual de presença\n",
        "\n",
        "Exemplo se o aluno faltou 5 vezes em 100 dias letivos:\n",
        "\n",
        "faltas = 5/100, obterá: 0,05, que multiplicando por 100 será 5.\n",
        "result = faltas * 100. Ou seja, 5% de faltas.\n",
        "\n",
        "percentual = 100 - result. Valor obtido nesse caso será 95, que representa 95% de presença.\n",
        "\n",
        "\n",
        "* Para passar de ano, o aluno precisa de nota maior ou igual a 6 E presença maior ou igual a 75%\n",
        "\n",
        "* Na saída informe se é verdadeiro ou falso que ele irá passar de ano. Exemplo: Vai passar de Ano? Ira ter como resposta: True or False\n"
      ],
      "metadata": {
        "id": "YwP3YbWN41v1"
      }
    },
    {
      "cell_type": "code",
      "source": [
        "nota1 = int(input(\"Digite a sua nota 1\"))\n",
        "nota2 = int(input(\"Digite a sua nota 2\"))\n",
        "nota3 = int(input(\"Digite a sua nota 3\"))\n",
        "letivos = int(input(\"Digite quantos dias letivos tem no ano:\"))\n",
        "faltas = int(input(\"Digite quantas faltas você teve:\"))\n",
        "\n",
        "media = (nota1+nota2+nota3)/3\n",
        "percentual = 100-((faltas/letivos)*100)\n",
        "\n",
        "aprovado = media>=6 and percentual>=75\n",
        "\n",
        "print(\"Vai passar de ano?\", aprovado)\n",
        "\n"
      ],
      "metadata": {
        "colab": {
          "base_uri": "https://localhost:8080/"
        },
        "id": "99df3yg_GfTD",
        "outputId": "88aa56c6-529c-4db8-eb9f-7665d365f015"
      },
      "execution_count": null,
      "outputs": [
        {
          "output_type": "stream",
          "name": "stdout",
          "text": [
            "Digite a sua nota 110\n",
            "Digite a sua nota 210\n",
            "Digite a sua nota 310\n",
            "Digite quantos dias letivos tem no ano:100\n",
            "Digite quantas faltas você teve:50\n",
            "Vai passar de ano? False\n"
          ]
        }
      ]
    },
    {
      "cell_type": "markdown",
      "source": [
        "7) Peça para o usuário digitar um valor informe se ele é par ou impar"
      ],
      "metadata": {
        "id": "IOXzmuPgzrUz"
      }
    },
    {
      "cell_type": "code",
      "source": [
        "valor1 = int(input(\"Digite um número:\"))\n",
        "\n",
        "resto = valor1%2\n",
        "\n",
        "final = (resto== 1)\n",
        "final2 = (resto==0)\n",
        "\n",
        "print(\"O número é impar:\", final,\"\\n O número é par:\", final2)"
      ],
      "metadata": {
        "id": "W3s-pjSNzuxj",
        "colab": {
          "base_uri": "https://localhost:8080/"
        },
        "outputId": "bc623a19-afe5-4faa-ed0a-f1ce58638763"
      },
      "execution_count": null,
      "outputs": [
        {
          "output_type": "stream",
          "name": "stdout",
          "text": [
            "Digite um número:10\n",
            "O número é impar: False \n",
            " O número é par: True\n"
          ]
        }
      ]
    },
    {
      "cell_type": "markdown",
      "source": [
        "8 ) Faça um algoritmo em Python que receba o valor de três lados de um possível triângulo (l1, l2 e l3) e utilize operadores relacionais e lógicos para:\n",
        "\n",
        "1.\tVerificar se os valores informados podem formar um triângulo.\n",
        "2.\tIdentificar se o triângulo é equilátero, escaleno ou isósceles.\n",
        "\n",
        "O programa deve atribuir True ou False para cada uma das seguintes variáveis:\n",
        "* triangulo: True se os lados puderem formar um triângulo.\n",
        "* equilatero: True se o triângulo for equilátero.\n",
        "* escaleno: True se o triângulo for escaleno.\n",
        "* isosceles: True se o triângulo for isósceles.\n",
        "\n",
        "Dica: Um triângulo só é possível se a soma de dois lados for maior que o terceiro, para os três pares possíveis.\n",
        "\n",
        "Lógica necessária\n",
        "\n",
        "Para ser um triângulo:\n",
        "\n",
        "* l1+l2>l3 e\n",
        "* l1+l3>l2l e\n",
        "* l2+l3>l1\n",
        "\n",
        "Tipos de triângulo:\n",
        "* Equilátero: todos os lados iguais.\n",
        "* Escaleno: todos os lados diferentes.\n",
        "* Isósceles: dois lados iguais."
      ],
      "metadata": {
        "id": "fDwuVk9JzvWr"
      }
    },
    {
      "cell_type": "code",
      "source": [
        "lado1 = float(input(\"Digite o valor do lado 1 do triângulo\"))\n",
        "lado2 = float(input(\"Digite o valor do lado 2 do triângulo\"))\n",
        "lado3 = float(input(\"Digite o valor do lado 3 do triângulo\"))\n",
        "\n",
        "triangulo = (lado1+lado2>lado3) and (lado1+lado3>lado2) and (lado2+lado3>lado1)\n",
        "equilatero = triangulo and (lado1==lado2) and (lado1==lado3) and (lado3==lado2)\n",
        "escaleno = triangulo and (lado1!=lado2) and (lado1!=lado3) and (lado3!=lado2)\n",
        "isosceles = triangulo and ( (lado1 == lado2) or (lado1 == lado3) or (lado2 == lado3) ) and (not equilatero)\n",
        "\n",
        "print(\"Os lados informados podem formar um triângulo?\", triangulo)\n",
        "print(\"O triângulo é equilatero?\", equilatero)\n",
        "print(\"O triângulo é escaleno?\", escaleno)\n",
        "print(\"O triângulo é isosceles?\", isosceles)\n"
      ],
      "metadata": {
        "colab": {
          "base_uri": "https://localhost:8080/"
        },
        "id": "DDnMwmm2fgqc",
        "outputId": "3a7ba7f2-b031-4a7b-82da-40a923165258"
      },
      "execution_count": 4,
      "outputs": [
        {
          "output_type": "stream",
          "name": "stdout",
          "text": [
            "Digite o valor do lado 1 do triângulo1\n",
            "Digite o valor do lado 2 do triângulo70\n",
            "Digite o valor do lado 3 do triângulo2\n",
            "Os lados informados podem formar um triângulo? False\n",
            "O triângulo é equilatero? False\n",
            "O triângulo é escaleno? False\n",
            "O triângulo é isosceles? False\n"
          ]
        }
      ]
    },
    {
      "cell_type": "markdown",
      "source": [
        "9) Faça um programa que solicite peso e altura, informe seu IMC. Ao final informe se ele está, abaixo do peso,peso ideal ou acima do peso. fórmula do IMC: (peso/altura^2), siga a tabela abaixo:\n",
        "\n",
        "IMC \t                    \n",
        "* Menos do que 18,5 ==> Abaixo do Peso\n",
        "* Entre 18,5 e 24,9  ==>Peso normal\n",
        "* Entre 25 e 29,9  ==> \tSobrepeso\n",
        "* Entre 30 e 34,9  ==> \tObesidade grau 1\n",
        "* Entre 35 e 39,9  ==> \tObesidade grau 2\n",
        "* Mais do que 40 \t  ==> Obesidade grau 3"
      ],
      "metadata": {
        "id": "ymt6F0gqz2E7"
      }
    },
    {
      "cell_type": "code",
      "source": [
        "peso = float(input(\"Digite o seu atual peso:\"))\n",
        "altura = float(input(\"Digite sua atual altura:\"))\n",
        "\n",
        "imc = (peso/altura**2)\n",
        "print(f\"O seu IMC é {imc:.2f}\")\n",
        "\n",
        "\n",
        "abaixopeso = imc<18.5\n",
        "pesonormal = 18.5 <= imc <= 24.9\n",
        "sobrepeso = 25 <= imc <= 29.9\n",
        "obesidadegrau1 = 30 <= imc <= 34.9\n",
        "obesidadegrau2 = 35 <= imc <= 39.9\n",
        "obesidadegrau3 = imc >= 40\n",
        "\n",
        "print(\"Está abaixo do peso?\", abaixopeso)\n",
        "print(\"Está no peso normal?\", pesonormal)\n",
        "print(\"Está em sobrepeso?\", sobrepeso)\n",
        "print(\"Está em obesidade grau 1?\", obesidadegrau1)\n",
        "print(\"Está em obesidade grau 2\", obesidadegrau2)\n",
        "print(\"Está em obesidade grau 3\", obesidadegrau3)"
      ],
      "metadata": {
        "id": "RDkZYCOVz50b",
        "colab": {
          "base_uri": "https://localhost:8080/"
        },
        "outputId": "bc7d5734-a5b5-4584-8b59-f9fd682d3725"
      },
      "execution_count": 5,
      "outputs": [
        {
          "output_type": "stream",
          "name": "stdout",
          "text": [
            "Digite o seu atual peso:70\n",
            "Digite sua atual altura:1.5\n",
            "O seu IMC é 31.11\n",
            "Está abaixo do peso? False\n",
            "Está no peso normal? False\n",
            "Está em sobrepeso? False\n",
            "Está em obesidade grau 1? True\n",
            "Está em obesidade grau 2 False\n",
            "Está em obesidade grau 3 False\n"
          ]
        }
      ]
    },
    {
      "cell_type": "markdown",
      "source": [
        "10) Faça um programa que solicite altura e idade do usuário, informe se ele pode ou nao competir. Regras: Para competir no campeonato de vôlei o usuário de ter pelo menos 1.75 de altura e 18 anos."
      ],
      "metadata": {
        "id": "29dWEOf3z9hj"
      }
    },
    {
      "cell_type": "code",
      "source": [
        "altura1 = float(input(\"Digite sua altura:\"))\n",
        "idade3 = float(input(\"Digite sua idade:\"))\n",
        "                                           0000000000000000000000000000\n",
        "competição = altura1>=1.75 and idade3>=18\n",
        "\n",
        "print(\"O usuario pode participar da competição?\", competição)\n"
      ],
      "metadata": {
        "id": "GmDaYiUvz_TZ",
        "colab": {
          "base_uri": "https://localhost:8080/"
        },
        "outputId": "2b25f5a3-d1ec-404a-f7f2-f209cfabecec"
      },
      "execution_count": null,
      "outputs": [
        {
          "output_type": "stream",
          "name": "stdout",
          "text": [
            "Digite sua altura:1.70\n",
            "Digite sua idade:15\n",
            "O usuario pode participar da competição? False\n"
          ]
        }
      ]
    }
  ]
}