{
  "nbformat": 4,
  "nbformat_minor": 0,
  "metadata": {
    "colab": {
      "provenance": [],
      "authorship_tag": "ABX9TyOkt+qvtJdKjGYbHiVcVrCg",
      "include_colab_link": true
    },
    "kernelspec": {
      "name": "python3",
      "display_name": "Python 3"
    },
    "language_info": {
      "name": "python"
    }
  },
  "cells": [
    {
      "cell_type": "markdown",
      "metadata": {
        "id": "view-in-github",
        "colab_type": "text"
      },
      "source": [
        "<a href=\"https://colab.research.google.com/github/rehsanva/PA-2025/blob/main/variaveiseoperadoresaritmeticos/variaveiseconstantes.ipynb\" target=\"_parent\"><img src=\"https://colab.research.google.com/assets/colab-badge.svg\" alt=\"Open In Colab\"/></a>"
      ]
    },
    {
      "cell_type": "markdown",
      "source": [
        "#Variavéis e Constantes\n",
        "\n"
      ],
      "metadata": {
        "id": "xp2dpK7agRJO"
      }
    },
    {
      "cell_type": "code",
      "execution_count": 8,
      "metadata": {
        "id": "ApNtEdlFf9TP"
      },
      "outputs": [],
      "source": [
        "idade= 15\n",
        "altura = 1.70\n",
        "nome = \"Rebeca Santos\"\n",
        "vai = True"
      ]
    },
    {
      "cell_type": "code",
      "source": [
        "nomes= [\"Rebeca Santos\",\"Priscila\",\"Ricardo\"]\n",
        "nomes2= (\"Rebeca Santos\",\"Priscila\",\"Ricardo\")\n",
        "tudo={nome:\"Rebeca Santos\",idade: 15,altura:1.70,vai:True}"
      ],
      "metadata": {
        "id": "z1WQIjp6iY6d"
      },
      "execution_count": 10,
      "outputs": []
    },
    {
      "cell_type": "code",
      "source": [
        "print(nome)\n",
        "print(nomes)\n",
        "print(nomes2)"
      ],
      "metadata": {
        "id": "0ljyggpLjLvm",
        "colab": {
          "base_uri": "https://localhost:8080/"
        },
        "outputId": "9cad8c3b-fdd9-4b97-bfef-c16d1a99ec40"
      },
      "execution_count": 11,
      "outputs": [
        {
          "output_type": "stream",
          "name": "stdout",
          "text": [
            "Rebeca Santos\n",
            "['Rebeca Santos', 'Priscila', 'Ricardo']\n",
            "('Rebeca Santos', 'Priscila', 'Ricardo')\n"
          ]
        }
      ]
    },
    {
      "cell_type": "code",
      "source": [
        "print(type(idade))\n",
        "print(type(altura))\n",
        "print(type(vai))\n",
        "print(type(nome))\n",
        "print(type(nomes))\n",
        "print(type(nomes2))\n",
        "print(type(tudo))"
      ],
      "metadata": {
        "id": "pSWILtvXkKfp",
        "colab": {
          "base_uri": "https://localhost:8080/"
        },
        "outputId": "5ac70784-d20e-44dc-a78b-191c19dd22b4"
      },
      "execution_count": 12,
      "outputs": [
        {
          "output_type": "stream",
          "name": "stdout",
          "text": [
            "<class 'int'>\n",
            "<class 'float'>\n",
            "<class 'bool'>\n",
            "<class 'str'>\n",
            "<class 'list'>\n",
            "<class 'tuple'>\n",
            "<class 'dict'>\n"
          ]
        }
      ]
    },
    {
      "cell_type": "code",
      "source": [
        "print(\"O nome dela é:\", nome, \"sua idade é:\", idade,\"anos\" \",e ele tem\", altura,\"metros.\")"
      ],
      "metadata": {
        "id": "CyZWitZ1pPK6",
        "colab": {
          "base_uri": "https://localhost:8080/"
        },
        "outputId": "1927d1f3-3c1d-4050-e18d-bb6201c69061"
      },
      "execution_count": 13,
      "outputs": [
        {
          "output_type": "stream",
          "name": "stdout",
          "text": [
            "O nome dela é: Rebeca Santos sua idade é: 15 anos,e ele tem 1.7 metros.\n"
          ]
        }
      ]
    },
    {
      "cell_type": "code",
      "source": [
        "print(f\"O nome dela é:{nome}. A altura é:{altura}\")\n"
      ],
      "metadata": {
        "id": "isoO9WRhtoKn",
        "colab": {
          "base_uri": "https://localhost:8080/"
        },
        "outputId": "85239bc3-ec84-4e4e-db11-71843f3d0c4a"
      },
      "execution_count": 14,
      "outputs": [
        {
          "output_type": "stream",
          "name": "stdout",
          "text": [
            "O nome dela é:Rebeca Santos. A altura é:1.7\n"
          ]
        }
      ]
    },
    {
      "cell_type": "markdown",
      "source": [
        "Área do Circulo"
      ],
      "metadata": {
        "id": "g1abelrTvbwr"
      }
    },
    {
      "cell_type": "code",
      "source": [
        "\n",
        "PI = 3.14159\n",
        "raio = float(input(\"Digite o valor do raio do circulo:\" ))\n"
      ],
      "metadata": {
        "id": "vl3xXTcLvsWE",
        "colab": {
          "base_uri": "https://localhost:8080/"
        },
        "outputId": "766f4840-78e6-44f3-ca68-bd551e1e1b3a"
      },
      "execution_count": 15,
      "outputs": [
        {
          "name": "stdout",
          "output_type": "stream",
          "text": [
            "Digite o valor do raio do circulo:5\n"
          ]
        }
      ]
    },
    {
      "cell_type": "code",
      "source": [
        "areacir = PI * (raio**2)"
      ],
      "metadata": {
        "id": "6LjqQk3QwYoo"
      },
      "execution_count": 16,
      "outputs": []
    },
    {
      "cell_type": "code",
      "source": [
        "print(\"A área do circulo é:\", areacir)"
      ],
      "metadata": {
        "id": "OUDqOIvVyg3q",
        "colab": {
          "base_uri": "https://localhost:8080/"
        },
        "outputId": "a39f0f53-c3f2-4b70-eac8-56f5c33e2ca7"
      },
      "execution_count": 17,
      "outputs": [
        {
          "output_type": "stream",
          "name": "stdout",
          "text": [
            "A área do circulo é: 78.53975\n"
          ]
        }
      ]
    },
    {
      "cell_type": "markdown",
      "source": [
        "Área do Quadrado"
      ],
      "metadata": {
        "id": "y79FX5RKzrlU"
      }
    },
    {
      "cell_type": "code",
      "source": [
        "lado=float(input(\"Digite o valor do lado do quadrado\"))"
      ],
      "metadata": {
        "id": "lsMtZxOtzv6f",
        "colab": {
          "base_uri": "https://localhost:8080/"
        },
        "outputId": "9dc1fc2c-6605-48c3-f9b1-59f0cbe0e0db"
      },
      "execution_count": 18,
      "outputs": [
        {
          "name": "stdout",
          "output_type": "stream",
          "text": [
            "Digite o valor do lado do quadrado8\n"
          ]
        }
      ]
    },
    {
      "cell_type": "code",
      "source": [
        "areaqua= lado * lado"
      ],
      "metadata": {
        "id": "nApB_BUFz885"
      },
      "execution_count": 19,
      "outputs": []
    },
    {
      "cell_type": "code",
      "source": [
        "print(\"A area do quadradao é:\", areaqua)"
      ],
      "metadata": {
        "colab": {
          "base_uri": "https://localhost:8080/"
        },
        "id": "gmxncJN90I5B",
        "outputId": "301422e2-84d6-46ae-f5c6-d066ed6ea66d"
      },
      "execution_count": 20,
      "outputs": [
        {
          "output_type": "stream",
          "name": "stdout",
          "text": [
            "A area do quadradao é: 64.0\n"
          ]
        }
      ]
    }
  ]
}