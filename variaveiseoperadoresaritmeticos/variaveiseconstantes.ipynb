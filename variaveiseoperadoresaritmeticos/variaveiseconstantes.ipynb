{
  "cells": [
    {
      "cell_type": "markdown",
      "metadata": {
        "id": "view-in-github",
        "colab_type": "text"
      },
      "source": [
        "<a href=\"https://colab.research.google.com/github/rehsanva/PA-2025/blob/main/variaveiseoperadoresaritmeticos/variaveiseconstantes.ipynb\" target=\"_parent\"><img src=\"https://colab.research.google.com/assets/colab-badge.svg\" alt=\"Open In Colab\"/></a>"
      ]
    },
    {
      "cell_type": "markdown",
      "metadata": {
        "id": "xp2dpK7agRJO"
      },
      "source": [
        "#Variavéis e Constantes\n",
        "\n"
      ]
    },
    {
      "cell_type": "code",
      "execution_count": null,
      "metadata": {
        "colab": {
          "background_save": true
        },
        "id": "ApNtEdlFf9TP"
      },
      "outputs": [],
      "source": [
        "idade= 15\n",
        "altura = 1.70\n",
        "nome = \"Rebeca Santos\"\n",
        "vai = True"
      ]
    },
    {
      "cell_type": "code",
      "execution_count": null,
      "metadata": {
        "colab": {
          "background_save": true
        },
        "id": "z1WQIjp6iY6d"
      },
      "outputs": [],
      "source": [
        "nomes= [\"Rebeca Santos\",\"Priscila\",\"Ricardo\"]\n",
        "nomes2= (\"Rebeca Santos\",\"Priscila\",\"Ricardo\")\n",
        "tudo={nome:\"Rebeca Santos\",idade: 15,altura:1.70,vai:True}"
      ]
    },
    {
      "cell_type": "code",
      "execution_count": null,
      "metadata": {
        "colab": {
          "background_save": true,
          "base_uri": "https://localhost:8080/"
        },
        "id": "0ljyggpLjLvm",
        "outputId": "4b31e997-27de-4566-f90a-9192aac3c68e"
      },
      "outputs": [
        {
          "name": "stdout",
          "output_type": "stream",
          "text": [
            "Rebeca Santos\n",
            "['Rebeca Santos', 'Priscila', 'Ricardo']\n",
            "('Rebeca Santos', 'Priscila', 'Ricardo')\n"
          ]
        }
      ],
      "source": [
        "print(nome)\n",
        "print(nomes)\n",
        "print(nomes2)"
      ]
    },
    {
      "cell_type": "code",
      "execution_count": null,
      "metadata": {
        "colab": {
          "background_save": true,
          "base_uri": "https://localhost:8080/"
        },
        "id": "pSWILtvXkKfp",
        "outputId": "fe86925c-ee76-48e8-f090-1fc738cc1dc1"
      },
      "outputs": [
        {
          "name": "stdout",
          "output_type": "stream",
          "text": [
            "<class 'int'>\n",
            "<class 'float'>\n",
            "<class 'bool'>\n",
            "<class 'str'>\n",
            "<class 'list'>\n",
            "<class 'tuple'>\n",
            "<class 'dict'>\n"
          ]
        }
      ],
      "source": [
        "print(type(idade))\n",
        "print(type(altura))\n",
        "print(type(vai))\n",
        "print(type(nome))\n",
        "print(type(nomes))\n",
        "print(type(nomes2))\n",
        "print(type(tudo))"
      ]
    },
    {
      "cell_type": "code",
      "execution_count": null,
      "metadata": {
        "colab": {
          "background_save": true,
          "base_uri": "https://localhost:8080/"
        },
        "id": "CyZWitZ1pPK6",
        "outputId": "b465b153-96f1-45dd-afbb-04a41cb7ed04"
      },
      "outputs": [
        {
          "name": "stdout",
          "output_type": "stream",
          "text": [
            "O nome dela é: Rebeca Santos sua idade é: 15 anos,e ele tem 1.7 metros.\n"
          ]
        }
      ],
      "source": [
        "print(\"O nome dela é:\", nome, \"sua idade é:\", idade,\"anos\" \",e ele tem\", altura,\"metros.\")"
      ]
    },
    {
      "cell_type": "code",
      "execution_count": null,
      "metadata": {
        "colab": {
          "background_save": true,
          "base_uri": "https://localhost:8080/"
        },
        "id": "isoO9WRhtoKn",
        "outputId": "bb02e00f-2644-4fd4-e22b-9140b80eacbd"
      },
      "outputs": [
        {
          "name": "stdout",
          "output_type": "stream",
          "text": [
            "O nome dela é:Rebeca Santos. A altura é:1.7\n"
          ]
        }
      ],
      "source": [
        "print(f\"O nome dela é:{nome}. A altura é:{altura}\")\n"
      ]
    },
    {
      "cell_type": "markdown",
      "metadata": {
        "id": "g1abelrTvbwr"
      },
      "source": [
        "Área do Circulo"
      ]
    },
    {
      "cell_type": "code",
      "execution_count": null,
      "metadata": {
        "colab": {
          "base_uri": "https://localhost:8080/"
        },
        "id": "vl3xXTcLvsWE",
        "outputId": "e13f4fd0-7e79-402d-edb1-155a8d0c5d8d"
      },
      "outputs": [
        {
          "name": "stdout",
          "output_type": "stream",
          "text": [
            "Digite o valor do raio do circulo:20\n"
          ]
        }
      ],
      "source": [
        "\n",
        "PI = 3.14159\n",
        "raio = float(input(\"Digite o valor do raio do circulo:\" ))\n"
      ]
    },
    {
      "cell_type": "code",
      "execution_count": null,
      "metadata": {
        "id": "6LjqQk3QwYoo"
      },
      "outputs": [],
      "source": [
        "areacir = PI * (raio**2)"
      ]
    },
    {
      "cell_type": "code",
      "execution_count": null,
      "metadata": {
        "colab": {
          "base_uri": "https://localhost:8080/"
        },
        "id": "OUDqOIvVyg3q",
        "outputId": "3db9ed65-e55f-4d11-cb21-a2ea0771ce80"
      },
      "outputs": [
        {
          "name": "stdout",
          "output_type": "stream",
          "text": [
            "A área do circulo é: 1256.636\n"
          ]
        }
      ],
      "source": [
        "print(\"A área do circulo é:\", areacir)"
      ]
    },
    {
      "cell_type": "markdown",
      "metadata": {
        "id": "y79FX5RKzrlU"
      },
      "source": [
        "Área do Quadrado"
      ]
    },
    {
      "cell_type": "code",
      "execution_count": null,
      "metadata": {
        "colab": {
          "base_uri": "https://localhost:8080/"
        },
        "id": "lsMtZxOtzv6f",
        "outputId": "9f0a89a3-a745-4d8c-f1d4-973704346ed1"
      },
      "outputs": [
        {
          "name": "stdout",
          "output_type": "stream",
          "text": [
            "Digite o valor do lado do quadrado em cm15\n"
          ]
        }
      ],
      "source": [
        "lado=float(input(\"Digite o valor do lado do quadrado em cm\"))"
      ]
    },
    {
      "cell_type": "code",
      "execution_count": null,
      "metadata": {
        "id": "nApB_BUFz885"
      },
      "outputs": [],
      "source": [
        "areaqua= lado * lado"
      ]
    },
    {
      "cell_type": "code",
      "execution_count": null,
      "metadata": {
        "colab": {
          "base_uri": "https://localhost:8080/"
        },
        "id": "gmxncJN90I5B",
        "outputId": "074522fc-2226-44de-c53b-d62360ed3d4d"
      },
      "outputs": [
        {
          "name": "stdout",
          "output_type": "stream",
          "text": [
            "A area do quadrado é: 225.0\n"
          ]
        }
      ],
      "source": [
        "print(\"A area do quadrado é:\", areaqua)"
      ]
    },
    {
      "cell_type": "markdown",
      "metadata": {
        "id": "HlfN9HKfo_fn"
      },
      "source": [
        "#Exercícios: Variáveis e Tipos de Dados"
      ]
    },
    {
      "cell_type": "markdown",
      "metadata": {
        "id": "Ajeg-Ofwp4Q-"
      },
      "source": [
        "##Exercício 1 - Área do Retângulo\n",
        "\n",
        "Crie um programa que calcule a área de um retângulo usando uma constante para representar a base.\n",
        "\n",
        " Fórmula: A = base × altura"
      ]
    },
    {
      "cell_type": "code",
      "execution_count": null,
      "metadata": {
        "colab": {
          "base_uri": "https://localhost:8080/"
        },
        "id": "KxL9HN8rp8g4",
        "outputId": "7af21938-f28f-4a48-dd65-74e5dd6c5562"
      },
      "outputs": [
        {
          "name": "stdout",
          "output_type": "stream",
          "text": [
            "Digite o valor da base do retangulo:5\n"
          ]
        }
      ],
      "source": [
        "base = float(input(\"Digite o valor da base do retangulo:\"))"
      ]
    },
    {
      "cell_type": "code",
      "execution_count": null,
      "metadata": {
        "colab": {
          "base_uri": "https://localhost:8080/"
        },
        "id": "21O-R2FqqZtn",
        "outputId": "9c948ea1-5ea3-401e-c111-85ceea067c4f"
      },
      "outputs": [
        {
          "name": "stdout",
          "output_type": "stream",
          "text": [
            "Digite o valor da altura:2\n"
          ]
        }
      ],
      "source": [
        "altura = float(input(\"Digite o valor da altura:\"))"
      ]
    },
    {
      "cell_type": "code",
      "execution_count": null,
      "metadata": {
        "id": "95D5ZjveqmMI"
      },
      "outputs": [],
      "source": [
        "arearet = base * altura"
      ]
    },
    {
      "cell_type": "code",
      "execution_count": null,
      "metadata": {
        "colab": {
          "base_uri": "https://localhost:8080/"
        },
        "id": "vcOCxUJrq8DX",
        "outputId": "83135670-9bbc-4d77-e950-23bebfa97d89"
      },
      "outputs": [
        {
          "name": "stdout",
          "output_type": "stream",
          "text": [
            "A área do retangulo é: 10.0\n"
          ]
        }
      ],
      "source": [
        "print(\"A área do retangulo é:\", arearet)"
      ]
    },
    {
      "cell_type": "markdown",
      "metadata": {
        "id": "Niqq4ZcCrFTA"
      },
      "source": [
        "##Exercício 2 – Perímetro do Círculo\n",
        "\n",
        "Crie um programa que calcule o perímetro de um círculo usando a constante π.\n",
        "\n",
        " Fórmula: P = 2 × π × r"
      ]
    },
    {
      "cell_type": "code",
      "execution_count": null,
      "metadata": {
        "colab": {
          "base_uri": "https://localhost:8080/"
        },
        "id": "Bl4dBhqlrKG3",
        "outputId": "cbe86595-1a9e-4088-f442-237b49925e01"
      },
      "outputs": [
        {
          "name": "stdout",
          "output_type": "stream",
          "text": [
            "Digite o valor do raio do círculo:7\n"
          ]
        }
      ],
      "source": [
        "raio = float(input(\"Digite o valor do raio do círculo:\"))"
      ]
    },
    {
      "cell_type": "code",
      "execution_count": null,
      "metadata": {
        "id": "iiDvlUAHriOA"
      },
      "outputs": [],
      "source": [
        "perímetro = 2 * 3.1416 * raio"
      ]
    },
    {
      "cell_type": "code",
      "execution_count": null,
      "metadata": {
        "colab": {
          "base_uri": "https://localhost:8080/"
        },
        "id": "n9HknlQgrzCv",
        "outputId": "897ad454-79b5-4828-c21a-36d9f2858824"
      },
      "outputs": [
        {
          "name": "stdout",
          "output_type": "stream",
          "text": [
            "O valor do perímetro do circulo é:43.98\n"
          ]
        }
      ],
      "source": [
        "print(f\"O valor do perímetro do circulo é:{perímetro:.2f}\")"
      ]
    },
    {
      "cell_type": "markdown",
      "metadata": {
        "id": "kdJmTqGBsNKw"
      },
      "source": [
        "##Exercício 3 – Conversão de Temperatura\n",
        "\n",
        "Crie um programa que converta uma temperatura de Fahrenheit para Celsius.\n",
        "\n",
        " Fórmula: C = (F - 32) × 5/9\n",
        "\n",
        " Desafio:\n",
        "\n",
        "Peça ao usuário para inserir a temperatura em Fahrenheit.\n",
        "\n",
        "Exiba o resultado formatado com duas casas decimais."
      ]
    },
    {
      "cell_type": "code",
      "execution_count": null,
      "metadata": {
        "colab": {
          "base_uri": "https://localhost:8080/"
        },
        "id": "rYA3gU43sY5m",
        "outputId": "9c46dc5c-f33f-46cc-9828-e5c9ab9869b2"
      },
      "outputs": [
        {
          "name": "stdout",
          "output_type": "stream",
          "text": [
            "Digite a temperatura atual dos EUA:35\n"
          ]
        }
      ],
      "source": [
        "Fahrenheit = float(input(\"Digite a temperatura atual dos EUA:\"))"
      ]
    },
    {
      "cell_type": "code",
      "execution_count": null,
      "metadata": {
        "id": "BtEA0hiwtnRH"
      },
      "outputs": [],
      "source": [
        "Celcius = ((Fahrenheit - 32) * 5/9)"
      ]
    },
    {
      "cell_type": "code",
      "execution_count": null,
      "metadata": {
        "colab": {
          "base_uri": "https://localhost:8080/"
        },
        "id": "kpTQYFWTt5n-",
        "outputId": "7a0f37f4-0ed8-4607-d3e1-d1f7b2c6ade8"
      },
      "outputs": [
        {
          "name": "stdout",
          "output_type": "stream",
          "text": [
            "O resultado da conversão de graus Fahrenheit para graus Celcius é:1.67\n"
          ]
        }
      ],
      "source": [
        "print(f\"O resultado da conversão de graus Fahrenheit para graus Celcius é:{Celcius:.2f}\")"
      ]
    },
    {
      "cell_type": "markdown",
      "metadata": {
        "id": "YTlHFMCJvTbH"
      },
      "source": [
        "##Exercício 4 – Cálculo do IMC\n",
        "\n",
        "Crie um programa que calcule o Índice de Massa Corporal (IMC) de uma pessoa.\n",
        "\n",
        " Fórmula: IMC = peso / altura²\n",
        "\n",
        " Desafio:\n",
        "\n",
        "Peça ao usuário para informar peso e altura.\n",
        "\n",
        "Exiba o IMC calculado."
      ]
    },
    {
      "cell_type": "code",
      "execution_count": null,
      "metadata": {
        "colab": {
          "base_uri": "https://localhost:8080/"
        },
        "id": "u2nSh36QvsXG",
        "outputId": "02f0f266-b374-442f-8991-a9531d96fe84"
      },
      "outputs": [
        {
          "name": "stdout",
          "output_type": "stream",
          "text": [
            "Digite seu peso78\n"
          ]
        }
      ],
      "source": [
        "peso = float(input(\"Digite seu peso\"))"
      ]
    },
    {
      "cell_type": "code",
      "execution_count": null,
      "metadata": {
        "colab": {
          "base_uri": "https://localhost:8080/"
        },
        "id": "vzxTbbtnwF-G",
        "outputId": "da6848ff-887d-4c48-f9c5-d4d8b592670f"
      },
      "outputs": [
        {
          "name": "stdout",
          "output_type": "stream",
          "text": [
            "Digite sua altura1.72\n"
          ]
        }
      ],
      "source": [
        "altura = float(input(\"Digite sua altura\"))"
      ]
    },
    {
      "cell_type": "code",
      "execution_count": null,
      "metadata": {
        "id": "kgCun5XqwnzF"
      },
      "outputs": [],
      "source": [
        " IMC = peso / altura**2"
      ]
    },
    {
      "cell_type": "code",
      "execution_count": null,
      "metadata": {
        "colab": {
          "base_uri": "https://localhost:8080/"
        },
        "id": "D1x60XKawxhv",
        "outputId": "414fad03-7a65-4c87-a6e4-f73a2b0061f6"
      },
      "outputs": [
        {
          "name": "stdout",
          "output_type": "stream",
          "text": [
            "O seu IMC é:26.37\n"
          ]
        }
      ],
      "source": [
        "print(f\"O seu IMC é:{IMC:.2f}\")"
      ]
    },
    {
      "cell_type": "markdown",
      "metadata": {
        "id": "oZYtyyIFuoOc"
      },
      "source": [
        "#Exercícios: Fluxogramas e Operadores Artiméticos"
      ]
    },
    {
      "cell_type": "markdown",
      "metadata": {
        "id": "JwldaV6cu4Ig"
      },
      "source": [
        "##Exercício 1:\n",
        "\n",
        "O custo ao consumidor de um carro novo é a soma do custo de fábrica com a percentagem do distribuidor e dos impostos (aplicados, primeiro os impostos sobre o custo de fábrica, e depois a percentagem do distribuidor sobre o resultado). Supondo que a percentagem do distribuidor seja de 28% e os impostos 45%. Escrever um algoritmo que leia o custo de fábrica de um carro e informe o custo ao consumidor do mesmo."
      ]
    },
    {
      "cell_type": "markdown",
      "metadata": {
        "id": "YCoPjygvzVI5"
      },
      "source": [
        "![carro.drawio (1).png](data:image/png;base64,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)"
      ]
    },
    {
      "cell_type": "code",
      "execution_count": null,
      "metadata": {
        "colab": {
          "background_save": true
        },
        "id": "OOySkA8FwLJp"
      },
      "outputs": [],
      "source": [
        "valorcar = float(input(\"Insira o custo de fabrica do carro:\"))"
      ]
    },
    {
      "cell_type": "code",
      "execution_count": null,
      "metadata": {
        "id": "sJ7jtGfgwUhl"
      },
      "outputs": [],
      "source": [
        "carroimp = (valorcar*45/100)+valorcar"
      ]
    },
    {
      "cell_type": "code",
      "execution_count": null,
      "metadata": {
        "id": "Owvo9SLsw13-"
      },
      "outputs": [],
      "source": [
        "valorfinal = (carroimp*28/100)+carroimp"
      ]
    },
    {
      "cell_type": "code",
      "execution_count": null,
      "metadata": {
        "colab": {
          "base_uri": "https://localhost:8080/"
        },
        "id": "wCFUhSj46w7T",
        "outputId": "e12d2124-f354-4268-9410-c9e7c4b55757"
      },
      "outputs": [
        {
          "name": "stdout",
          "output_type": "stream",
          "text": [
            "O carro custará ao consumidor final: 46400.0\n"
          ]
        }
      ],
      "source": [
        "print(f\"O carro custará ao consumidor final: {valorfinal}\")"
      ]
    },
    {
      "cell_type": "markdown",
      "metadata": {
        "id": "OT3_23Wd8YX1"
      },
      "source": [
        "##Exercício 2:\n",
        "\n",
        " Faça um algoritmo que faça conversão de minutos e horas em segundos. Solicite ao usuário a hora e os minutos separado."
      ]
    },
    {
      "cell_type": "markdown",
      "metadata": {
        "id": "Ka5LFfp76lvj"
      },
      "source": [
        "![horasemin.drawio.png](data:image/png;base64,iVBORw0KGgoAAAANSUhEUgAAALUAAAOPCAYAAACNWoD/AAAAAXNSR0IArs4c6QAAG5d0RVh0bXhmaWxlACUzQ214ZmlsZSUyMGhvc3QlM0QlMjJhcHAuZGlhZ3JhbXMubmV0JTIyJTIwYWdlbnQlM0QlMjJNb3ppbGxhJTJGNS4wJTIwKFdpbmRvd3MlMjBOVCUyMDEwLjAlM0IlMjBXaW42NCUzQiUyMHg2NCklMjBBcHBsZVdlYktpdCUyRjUzNy4zNiUyMChLSFRNTCUyQyUyMGxpa2UlMjBHZWNrbyklMjBDaHJvbWUlMkYxMzQuMC4wLjAlMjBTYWZhcmklMkY1MzcuMzYlMjIlMjB2ZXJzaW9uJTNEJTIyMjYuMS4xJTIyJTIwc2NhbGUlM0QlMjIxJTIyJTIwYm9yZGVyJTNEJTIyMCUyMiUzRSUwQSUyMCUyMCUzQ2RpYWdyYW0lMjBuYW1lJTNEJTIyUCVDMyVBMWdpbmEtMSUyMiUyMGlkJTNEJTIyc29FMXVic0xudXgyVGdnNGRsWE0lMjIlM0UlMEElMjAlMjAlMjAlMjAlM0NteEdyYXBoTW9kZWwlMjBkeCUzRCUyMjEyMjElMjIlMjBkeSUzRCUyMjYxOCUyMiUyMGdyaWQlM0QlMjIxJTIyJTIwZ3JpZFNpemUlM0QlMjIxMCUyMiUyMGd1aWRlcyUzRCUyMjElMjIlMjB0b29sdGlwcyUzRCUyMjElMjIlMjBjb25uZWN0JTNEJTIyMSUyMiUyMGFycm93cyUzRCUyMjElMjIlMjBmb2xkJTNEJTIyMSUyMiUyMHBhZ2UlM0QlMjIxJTIyJTIwcGFnZVNjYWxlJTNEJTIyMSUyMiUyMHBhZ2VXaWR0aCUzRCUyMjgyNyUyMiUyMHBhZ2VIZWlnaHQlM0QlMjIxMTY5JTIyJTIwbWF0aCUzRCUyMjAlMjIlMjBzaGFkb3clM0QlMjIwJTIyJTNFJTBBJTIwJTIwJTIwJTIwJTIwJTIwJTNDcm9vdCUzRSUwQSUyMCUyMCUyMCUyMCUyMCUyMCUyMCUyMCUzQ214Q2VsbCUyMGlkJTNEJTIyMCUyMiUyMCUyRiUzRSUwQSUyMCUyMCUyMCUyMCUyMCUyMCUyMCUyMCUzQ214Q2VsbCUyMGlkJTNEJTIyMSUyMiUyMHBhcmVudCUzRCUyMjAlMjIlMjAlMkYlM0UlMEElMjAlMjAlMjAlMjAlMjAlMjAlMjAlMjAlM0NteENlbGwlMjBpZCUzRCUyMkZhQzhWVE0wbXgzcVBiS1BPMWQ2LTMlMjIlMjB2YWx1ZSUzRCUyMiUyMiUyMHN0eWxlJTNEJTIyZWRnZVN0eWxlJTNEb3J0aG9nb25hbEVkZ2VTdHlsZSUzQnJvdW5kZWQlM0QwJTNCb3J0aG9nb25hbExvb3AlM0QxJTNCamV0dHlTaXplJTNEYXV0byUzQmh0bWwlM0QxJTNCJTIyJTIwZWRnZSUzRCUyMjElMjIlMjBwYXJlbnQlM0QlMjIxJTIyJTIwc291cmNlJTNEJTIyRmFDOFZUTTBteDNxUGJLUE8xZDYtMSUyMiUyMHRhcmdldCUzRCUyMkZhQzhWVE0wbXgzcVBiS1BPMWQ2LTIlMjIlM0UlMEElMjAlMjAlMjAlMjAlMjAlMjAlMjAlMjAlMjAlMjAlM0NteEdlb21ldHJ5JTIwcmVsYXRpdmUlM0QlMjIxJTIyJTIwYXMlM0QlMjJnZW9tZXRyeSUyMiUyMCUyRiUzRSUwQSUyMCUyMCUyMCUyMCUyMCUyMCUyMCUyMCUzQyUyRm14Q2VsbCUzRSUwQSUyMCUyMCUyMCUyMCUyMCUyMCUyMCUyMCUzQ214Q2VsbCUyMGlkJTNEJTIyRmFDOFZUTTBteDNxUGJLUE8xZDYtMSUyMiUyMHZhbHVlJTNEJTIySW4lQzMlQURjaW8lMjIlMjBzdHlsZSUzRCUyMmVsbGlwc2UlM0J3aGl0ZVNwYWNlJTNEd3JhcCUzQmh0bWwlM0QxJTNCZmlsbENvbG9yJTNEJTIzZDVlOGQ0JTNCc3Ryb2tlQ29sb3IlM0QlMjM4MmIzNjYlM0IlMjIlMjB2ZXJ0ZXglM0QlMjIxJTIyJTIwcGFyZW50JTNEJTIyMSUyMiUzRSUwQSUyMCUyMCUyMCUyMCUyMCUyMCUyMCUyMCUyMCUyMCUzQ214R2VvbWV0cnklMjB4JTNEJTIyMTcwJTIyJTIweSUzRCUyMjQwJTIyJTIwd2lkdGglM0QlMjIxMjAlMjIlMjBoZWlnaHQlM0QlMjI4MCUyMiUyMGFzJTNEJTIyZ2VvbWV0cnklMjIlMjAlMkYlM0UlMEElMjAlMjAlMjAlMjAlMjAlMjAlMjAlMjAlM0MlMkZteENlbGwlM0UlMEElMjAlMjAlMjAlMjAlMjAlMjAlMjAlMjAlM0NteENlbGwlMjBpZCUzRCUyMkZhQzhWVE0wbXgzcVBiS1BPMWQ2LTUlMjIlMjB2YWx1ZSUzRCUyMiUyMiUyMHN0eWxlJTNEJTIyZWRnZVN0eWxlJTNEb3J0aG9nb25hbEVkZ2VTdHlsZSUzQnJvdW5kZWQlM0QwJTNCb3J0aG9nb25hbExvb3AlM0QxJTNCamV0dHlTaXplJTNEYXV0byUzQmh0bWwlM0QxJTNCJTIyJTIwZWRnZSUzRCUyMjElMjIlMjBwYXJlbnQlM0QlMjIxJTIyJTIwc291cmNlJTNEJTIyRmFDOFZUTTBteDNxUGJLUE8xZDYtMiUyMiUyMHRhcmdldCUzRCUyMkZhQzhWVE0wbXgzcVBiS1BPMWQ2LTQlMjIlM0UlMEElMjAlMjAlMjAlMjAlMjAlMjAlMjAlMjAlMjAlMjAlM0NteEdlb21ldHJ5JTIwcmVsYXRpdmUlM0QlMjIxJTIyJTIwYXMlM0QlMjJnZW9tZXRyeSUyMiUyMCUyRiUzRSUwQSUyMCUyMCUyMCUyMCUyMCUyMCUyMCUyMCUzQyUyRm14Q2VsbCUzRSUwQSUyMCUyMCUyMCUyMCUyMCUyMCUyMCUyMCUzQ214Q2VsbCUyMGlkJTNEJTIyRmFDOFZUTTBteDNxUGJLUE8xZDYtMiUyMiUyMHZhbHVlJTNEJTIybWludXRvcyUyQyUyMGhvcmFzJTIyJTIwc3R5bGUlM0QlMjJzaGFwZSUzRHBhcmFsbGVsb2dyYW0lM0JwZXJpbWV0ZXIlM0RwYXJhbGxlbG9ncmFtUGVyaW1ldGVyJTNCd2hpdGVTcGFjZSUzRHdyYXAlM0JodG1sJTNEMSUzQmZpeGVkU2l6ZSUzRDElM0JmaWxsQ29sb3IlM0QlMjNmZmU2Y2MlM0JzdHJva2VDb2xvciUzRCUyM2Q3OWIwMCUzQiUyMiUyMHZlcnRleCUzRCUyMjElMjIlMjBwYXJlbnQlM0QlMjIxJTIyJTNFJTBBJTIwJTIwJTIwJTIwJTIwJTIwJTIwJTIwJTIwJTIwJTNDbXhHZW9tZXRyeSUyMHglM0QlMjIxNzAlMjIlMjB5JTNEJTIyMjEwJTIyJTIwd2lkdGglM0QlMjIxMjAlMjIlMjBoZWlnaHQlM0QlMjI2MCUyMiUyMGFzJTNEJTIyZ2VvbWV0cnklMjIlMjAlMkYlM0UlMEElMjAlMjAlMjAlMjAlMjAlMjAlMjAlMjAlM0MlMkZteENlbGwlM0UlMEElMjAlMjAlMjAlMjAlMjAlMjAlMjAlMjAlM0NteENlbGwlMjBpZCUzRCUyMkZhQzhWVE0wbXgzcVBiS1BPMWQ2LTclMjIlMjB2YWx1ZSUzRCUyMiUyMiUyMHN0eWxlJTNEJTIyZWRnZVN0eWxlJTNEb3J0aG9nb25hbEVkZ2VTdHlsZSUzQnJvdW5kZWQlM0QwJTNCb3J0aG9nb25hbExvb3AlM0QxJTNCamV0dHlTaXplJTNEYXV0byUzQmh0bWwlM0QxJTNCJTIyJTIwZWRnZSUzRCUyMjElMjIlMjBwYXJlbnQlM0QlMjIxJTIyJTIwc291cmNlJTNEJTIyRmFDOFZUTTBteDNxUGJLUE8xZDYtNCUyMiUyMHRhcmdldCUzRCUyMkZhQzhWVE0wbXgzcVBiS1BPMWQ2LTYlMjIlM0UlMEElMjAlMjAlMjAlMjAlMjAlMjAlMjAlMjAlMjAlMjAlM0NteEdlb21ldHJ5JTIwcmVsYXRpdmUlM0QlMjIxJTIyJTIwYXMlM0QlMjJnZW9tZXRyeSUyMiUyMCUyRiUzRSUwQSUyMCUyMCUyMCUyMCUyMCUyMCUyMCUyMCUzQyUyRm14Q2VsbCUzRSUwQSUyMCUyMCUyMCUyMCUyMCUyMCUyMCUyMCUzQ214Q2VsbCUyMGlkJTNEJTIyRmFDOFZUTTBteDNxUGJLUE8xZDYtNCUyMiUyMHZhbHVlJTNEJTIyaHJzY29udmVydCUyMCUzRCUyMGhvcmFzKjM2MDAlMjIlMjBzdHlsZSUzRCUyMndoaXRlU3BhY2UlM0R3cmFwJTNCaHRtbCUzRDElM0JmaWxsQ29sb3IlM0QlMjNmZmU2Y2MlM0JzdHJva2VDb2xvciUzRCUyM2Q3OWIwMCUzQiUyMiUyMHZlcnRleCUzRCUyMjElMjIlMjBwYXJlbnQlM0QlMjIxJTIyJTNFJTBBJTIwJTIwJTIwJTIwJTIwJTIwJTIwJTIwJTIwJTIwJTNDbXhHZW9tZXRyeSUyMHglM0QlMjIxNDIuNSUyMiUyMHklM0QlMjIzNDAlMjIlMjB3aWR0aCUzRCUyMjE3NSUyMiUyMGhlaWdodCUzRCUyMjYwJTIyJTIwYXMlM0QlMjJnZW9tZXRyeSUyMiUyMCUyRiUzRSUwQSUyMCUyMCUyMCUyMCUyMCUyMCUyMCUyMCUzQyUyRm14Q2VsbCUzRSUwQSUyMCUyMCUyMCUyMCUyMCUyMCUyMCUyMCUzQ214Q2VsbCUyMGlkJTNEJTIyRmFDOFZUTTBteDNxUGJLUE8xZDYtOSUyMiUyMHZhbHVlJTNEJTIyJTIyJTIwc3R5bGUlM0QlMjJlZGdlU3R5bGUlM0RvcnRob2dvbmFsRWRnZVN0eWxlJTNCcm91bmRlZCUzRDAlM0JvcnRob2dvbmFsTG9vcCUzRDElM0JqZXR0eVNpemUlM0RhdXRvJTNCaHRtbCUzRDElM0IlMjIlMjBlZGdlJTNEJTIyMSUyMiUyMHBhcmVudCUzRCUyMjElMjIlMjBzb3VyY2UlM0QlMjJGYUM4VlRNMG14M3FQYktQTzFkNi02JTIyJTIwdGFyZ2V0JTNEJTIyRmFDOFZUTTBteDNxUGJLUE8xZDYtOCUyMiUzRSUwQSUyMCUyMCUyMCUyMCUyMCUyMCUyMCUyMCUyMCUyMCUzQ214R2VvbWV0cnklMjByZWxhdGl2ZSUzRCUyMjElMjIlMjBhcyUzRCUyMmdlb21ldHJ5JTIyJTIwJTJGJTNFJTBBJTIwJTIwJTIwJTIwJTIwJTIwJTIwJTIwJTNDJTJGbXhDZWxsJTNFJTBBJTIwJTIwJTIwJTIwJTIwJTIwJTIwJTIwJTNDbXhDZWxsJTIwaWQlM0QlMjJGYUM4VlRNMG14M3FQYktQTzFkNi02JTIyJTIwdmFsdWUlM0QlMjJtaW5zY29udmVydCUyMCUzRCUyMG1pbnV0b3MqNjAlMjIlMjBzdHlsZSUzRCUyMndoaXRlU3BhY2UlM0R3cmFwJTNCaHRtbCUzRDElM0JmaWxsQ29sb3IlM0QlMjNmZmU2Y2MlM0JzdHJva2VDb2xvciUzRCUyM2Q3OWIwMCUzQiUyMiUyMHZlcnRleCUzRCUyMjElMjIlMjBwYXJlbnQlM0QlMjIxJTIyJTNFJTBBJTIwJTIwJTIwJTIwJTIwJTIwJTIwJTIwJTIwJTIwJTNDbXhHZW9tZXRyeSUyMHglM0QlMjIxNDIuNSUyMiUyMHklM0QlMjI0NTAlMjIlMjB3aWR0aCUzRCUyMjE3NSUyMiUyMGhlaWdodCUzRCUyMjYwJTIyJTIwYXMlM0QlMjJnZW9tZXRyeSUyMiUyMCUyRiUzRSUwQSUyMCUyMCUyMCUyMCUyMCUyMCUyMCUyMCUzQyUyRm14Q2VsbCUzRSUwQSUyMCUyMCUyMCUyMCUyMCUyMCUyMCUyMCUzQ214Q2VsbCUyMGlkJTNEJTIyRmFDOFZUTTBteDNxUGJLUE8xZDYtMTElMjIlMjB2YWx1ZSUzRCUyMiUyMiUyMHN0eWxlJTNEJTIyZWRnZVN0eWxlJTNEb3J0aG9nb25hbEVkZ2VTdHlsZSUzQnJvdW5kZWQlM0QwJTNCb3J0aG9nb25hbExvb3AlM0QxJTNCamV0dHlTaXplJTNEYXV0byUzQmh0bWwlM0QxJTNCJTIyJTIwZWRnZSUzRCUyMjElMjIlMjBwYXJlbnQlM0QlMjIxJTIyJTIwc291cmNlJTNEJTIyRmFDOFZUTTBteDNxUGJLUE8xZDYtOCUyMiUyMHRhcmdldCUzRCUyMkZhQzhWVE0wbXgzcVBiS1BPMWQ2LTEwJTIyJTNFJTBBJTIwJTIwJTIwJTIwJTIwJTIwJTIwJTIwJTIwJTIwJTNDbXhHZW9tZXRyeSUyMHJlbGF0aXZlJTNEJTIyMSUyMiUyMGFzJTNEJTIyZ2VvbWV0cnklMjIlMjAlMkYlM0UlMEElMjAlMjAlMjAlMjAlMjAlMjAlMjAlMjAlM0MlMkZteENlbGwlM0UlMEElMjAlMjAlMjAlMjAlMjAlMjAlMjAlMjAlM0NteENlbGwlMjBpZCUzRCUyMkZhQzhWVE0wbXgzcVBiS1BPMWQ2LTglMjIlMjB2YWx1ZSUzRCUyMnRvdGFsc2VndW5kb3MlMjAlM0QlMjBtaW5zY29udmVydCUyQmhyc2NvbnZlcnQlMjIlMjBzdHlsZSUzRCUyMndoaXRlU3BhY2UlM0R3cmFwJTNCaHRtbCUzRDElM0JmaWxsQ29sb3IlM0QlMjNmZmU2Y2MlM0JzdHJva2VDb2xvciUzRCUyM2Q3OWIwMCUzQiUyMiUyMHZlcnRleCUzRCUyMjElMjIlMjBwYXJlbnQlM0QlMjIxJTIyJTNFJTBBJTIwJTIwJTIwJTIwJTIwJTIwJTIwJTIwJTIwJTIwJTNDbXhHZW9tZXRyeSUyMHglM0QlMjIxNDAlMjIlMjB5JTNEJTIyNTkwJTIyJTIwd2lkdGglM0QlMjIxODAlMjIlMjBoZWlnaHQlM0QlMjI2MCUyMiUyMGFzJTNEJTIyZ2VvbWV0cnklMjIlMjAlMkYlM0UlMEElMjAlMjAlMjAlMjAlMjAlMjAlMjAlMjAlM0MlMkZteENlbGwlM0UlMEElMjAlMjAlMjAlMjAlMjAlMjAlMjAlMjAlM0NteENlbGwlMjBpZCUzRCUyMkZhQzhWVE0wbXgzcVBiS1BPMWQ2LTE0JTIyJTIwdmFsdWUlM0QlMjIlMjIlMjBzdHlsZSUzRCUyMmVkZ2VTdHlsZSUzRG9ydGhvZ29uYWxFZGdlU3R5bGUlM0Jyb3VuZGVkJTNEMCUzQm9ydGhvZ29uYWxMb29wJTNEMSUzQmpldHR5U2l6ZSUzRGF1dG8lM0JodG1sJTNEMSUzQmV4aXRYJTNEMC41MDQlM0JleGl0WSUzRDAuODI1JTNCZXhpdER4JTNEMCUzQmV4aXREeSUzRDAlM0JleGl0UGVyaW1ldGVyJTNEMCUzQiUyMiUyMGVkZ2UlM0QlMjIxJTIyJTIwcGFyZW50JTNEJTIyMSUyMiUyMHNvdXJjZSUzRCUyMkZhQzhWVE0wbXgzcVBiS1BPMWQ2LTEwJTIyJTIwdGFyZ2V0JTNEJTIyRmFDOFZUTTBteDNxUGJLUE8xZDYtMTIlMjIlM0UlMEElMjAlMjAlMjAlMjAlMjAlMjAlMjAlMjAlMjAlMjAlM0NteEdlb21ldHJ5JTIwcmVsYXRpdmUlM0QlMjIxJTIyJTIwYXMlM0QlMjJnZW9tZXRyeSUyMiUyMCUyRiUzRSUwQSUyMCUyMCUyMCUyMCUyMCUyMCUyMCUyMCUzQyUyRm14Q2VsbCUzRSUwQSUyMCUyMCUyMCUyMCUyMCUyMCUyMCUyMCUzQ214Q2VsbCUyMGlkJTNEJTIyRmFDOFZUTTBteDNxUGJLUE8xZDYtMTAlMjIlMjB2YWx1ZSUzRCUyMnRvdGFsc2VndW5kb3MlMjIlMjBzdHlsZSUzRCUyMnNoYXBlJTNEZG9jdW1lbnQlM0J3aGl0ZVNwYWNlJTNEd3JhcCUzQmh0bWwlM0QxJTNCYm91bmRlZExibCUzRDElM0JmaWxsQ29sb3IlM0QlMjNmZmU2Y2MlM0JzdHJva2VDb2xvciUzRCUyM2Q3OWIwMCUzQiUyMiUyMHZlcnRleCUzRCUyMjElMjIlMjBwYXJlbnQlM0QlMjIxJTIyJTNFJTBBJTIwJTIwJTIwJTIwJTIwJTIwJTIwJTIwJTIwJTIwJTNDbXhHZW9tZXRyeSUyMHglM0QlMjIxNzAlMjIlMjB5JTNEJTIyNzIwJTIyJTIwd2lkdGglM0QlMjIxMjAlMjIlMjBoZWlnaHQlM0QlMjI4MCUyMiUyMGFzJTNEJTIyZ2VvbWV0cnklMjIlMjAlMkYlM0UlMEElMjAlMjAlMjAlMjAlMjAlMjAlMjAlMjAlM0MlMkZteENlbGwlM0UlMEElMjAlMjAlMjAlMjAlMjAlMjAlMjAlMjAlM0NteENlbGwlMjBpZCUzRCUyMkZhQzhWVE0wbXgzcVBiS1BPMWQ2LTEyJTIyJTIwdmFsdWUlM0QlMjJGaW0lMjIlMjBzdHlsZSUzRCUyMmVsbGlwc2UlM0J3aGl0ZVNwYWNlJTNEd3JhcCUzQmh0bWwlM0QxJTNCZmlsbENvbG9yJTNEJTIzZjhjZWNjJTNCc3Ryb2tlQ29sb3IlM0QlMjNiODU0NTAlM0IlMjIlMjB2ZXJ0ZXglM0QlMjIxJTIyJTIwcGFyZW50JTNEJTIyMSUyMiUzRSUwQSUyMCUyMCUyMCUyMCUyMCUyMCUyMCUyMCUyMCUyMCUzQ214R2VvbWV0cnklMjB4JTNEJTIyMTkwJTIyJTIweSUzRCUyMjg3MCUyMiUyMHdpZHRoJTNEJTIyODAlMjIlMjBoZWlnaHQlM0QlMjI4MCUyMiUyMGFzJTNEJTIyZ2VvbWV0cnklMjIlMjAlMkYlM0UlMEElMjAlMjAlMjAlMjAlMjAlMjAlMjAlMjAlM0MlMkZteENlbGwlM0UlMEElMjAlMjAlMjAlMjAlMjAlMjAlM0MlMkZyb290JTNFJTBBJTIwJTIwJTIwJTIwJTNDJTJGbXhHcmFwaE1vZGVsJTNFJTBBJTIwJTIwJTNDJTJGZGlhZ3JhbSUzRSUwQSUzQyUyRm14ZmlsZSUzRSUwQZ+FW2cAACAASURBVHhe7Z0JeBRV1oa/hCxkhywkhFX2TURAFFTcRh2EcYYZcUUWUQdBQAEVcED98xtEQUVFGRVZ1HFBh9ERkRk3cMFhEASRJexbICtkJwvJ/9zS6r/SJqG703W6qvvr5+EBkqp77n3PV1+dun2rKqimpqYG/LhF4HRlGU6W5uBUaS4Ky/JRUJaPovIClJQXoayyBOWVZag4U46qMxU4U30G1TVnHO0HBzVBk+AmCGkShrAm4QgPjUBEaBSiwmMQEx6HuIh4xEbEo1lkIppHJqFpaIRbfePGQBBF3bAMsouO4UTBYWSeOoSsomPIKz6BiqpyxEY0R1R4LJqGRiM8NBJNQ6MQHhKBsJCmCA0JR2hwKJoEhyI4uAmCg4IdQaprqlFdfQZnqitRqf5UlaOi6jTKq8pwWjsgSnG6shgl5YUoLDuJsJBwJESnIDmmFVKbtUNKXFu0iGlF7TZAgKJ2gnM4fy8O5u7GofwMZJ46iIiwaDSPbKG5Z2xEgvZH/UzqU1ZRjMKyvF/+5ONkaTbUz1KbtUe7+C5on9gVbeM7SXXHFnECXtTKETOytml/DubtQlxEAhJiWiE+KgUJ0S0157XaRzl7XvFx5JecQF7RMRSU5aF9Qjd0Se6t/VFnkED+BKSoyypK8FPmJvx0fBNOnDqE1OYdkRTbGslx7bQSwm4fVbpkFRxCTuFRZJ7ch5Rm7dCzZX/0TO2PiLAouw2n0f0NKFHvyf4RWw5/jb3ZP6JtQjekNDsHqc06NBqi1RrIPLUfJ04dwOG8XejU4lyc3/YSdG5xrtW6aVp//F7U6qJu06EvsfnQV1op0Tq+C9okdEWT4BDToFql4TPVVTiSvxtH8zK0i9G+7S5F/3aXaxef/vzxW1EXlxfg233/wuZD69E2oSvaJnRHfHSKP+eywbHlF5/A4bydOJy3G33bDcagjtcgOjzOL3n4nahVvbx+z2psOvgFurTsh3OSeiEyLMYvk+fJoEorinAgZzsyjn+P/u2vwODOQ/2u7vYrUSsxf7v3E3Rs0Rsdk8/T5o75qZuAmhPfl7UV+7K34eJOQ3Bp5+v8BpVfiHrXiS34bOcqxEUmonNKX8Q0be43CTJ7IEWnT2LPic0oKM3FVd2Ho1vK+WaHNL19W4u6tKIYn2x/G8cLDqN7qwuREtfedGD+GuBEwUHsPPYftIxri9/2uhmRgl8weZupbUWt5pk/2f6WVjN3Sx3gbS4B296uzI1aza2E3TP1AltysKWoP97+Fvbn/IRz21yKpJjWtgRv5U7nFB3Fj0e+QseknhjS6xYrd7XOvtlK1Go13KotSxAWEoHebS+rtVDIduQt3mG18Grr4XWorCrD8PPHaasH7fKxjagP5+/B+9+/gk7J56Fjch+78LV9P/dl/YC9WVvxp353oW18Z1uMxxai3nl8M/6++VUM6HAtWnFFmriwjuXvxcb9a/HHvneie8u+4vHdDWh5UW89sgFrd7yDizpeh0SuI3Y3v17bPrfoGL7b9zGu7XETzmsz0GvtmtGQpUX947HvsPanlRjYaSiaRyWbMX626QaBkyVZ2LB3Na7teSPObXWhG3vKbmpZUWec2IpVP7yGi7v8HvEUtKwqGoiWX5KFbzI+wPA+d6BLynmW6ZexI5YU9fGCQ1j2zVMY2HkoWsS2tSS4QO5UduFhbNizGmMufgAt49pZDoXlRF1edRqvfvW4NsOh1jzzY00Caq22mhm589KHEW6xu4MsJ+p3Ny1GkyZh6J5q3ZrNmjKT79XOzP/gzJly3Nj/HvngDUS0lKi/2/8ptmf+F4M6X28pSOxM/QS+3fMheqVegIs6/MYymCwj6vySbLz45SP4Tc9btTu3+bEHAfXck09/+hsmXP4Y4qNaWKLTlhH12/99EZHhcejEbwstIQx3OrE36weUlhfg5gsmuLObadtaQtR7srbhXzvewxU9bjJtoGzYXAJf7HgH1/S4AZ2Te5sbyIXWLSHqJV/PRZuE7mhtk7UFLnANuE2O5u/BkbydGHfJTJ+P3eeiVg+R+XzXPzC42598DoMdaByB9bvex5Xd/qA9UMeXH5+L+o3vnkVibBvOSftSBV6KreaucwuPYORF93mpRc+a8amo84qzsPTbJ3HdeXd41nvuZTkCH299DWMHPYiEaN+t1fGpqL/c/U9kFx9Hr9YXWy457JBnBLYf/QYtolvi8q6/86wBL+zlU1G/vD4N3VIv5JJSLyTSKk2oJaq7Mv+DuwfP9lmXfCbqotOnsHjdYxja506fDZ6BzSGw+odXMf6yRxDTtJk5Ac7Sqs9EvSNzEzYeXIcBHX/rk4FLBP3yX1/if2c+jrc+/huSkpMkQloixsZ9n2BA+8vQI7W/T/rjM1H/e8d7KK4oRdeW/XwycE+D/rRtB2bfPxt//dviBoVaWlKKhybOwPip49Gzd486w7nalqd99dV+u49vQnRYFK7ucYNPuuAzUb/5n+eQbMNH6fqrEL2pPvUo4axTB3DbhZO92azLbflM1Iu+mIN+5/xGe92EnT5GUWdn5WiuHRsbg/9u2KQNY9GKF3D5NZcjJysHD4x/AE8tfkpzdPX/W667FcePHUfLVi21kkTfX3d9Va5MHHWv1s4FA/vjxTdeRGRUpJ3waH1Vr/P4/sCnmHjF//ik7z4T9VNr78fVvUZa8vUTDWXCWdSjfj8KE6bdg3H3jsOsybOQeSRTE2NJcYlD1FHRUZgwcgLG3DNGE/ySF5ZgX8Y+3HbnSEcpowSu2lrw1/kYcPEAbfvUNqlIfy7dJ8JoTFD1LOx/b38DD1z7TGOa8Xhfn4n68dX34A/9JiDI8OYqj0chuKOzqCePmYznlj2n1c3KaZe9tOxXonZ2ZL27xrZ+2vqTY1/lzna+yKypqcY/vn8RDw99STAz/x/KZ6JO++jP+NMFvqm5GkO6rvLDWD7UJWol2LpmQYxtfbjyQ3z12VeOksPutfv7/30Os4f9tTGoPd7XZ6L2F6c2zoTQqX/WYcA6tb/U1K6IWiVaXST+Ze7DjppaufKkGZPx+KzHtelB1tQeG/OvdvSZU/vT7MfZyg81+6HKCXUheLrsNGc/vKffOlvymajf/M9CJDfr4JevfDM5Z5Zv/ud56v247cIpPumrz0T98zeKJeja0jdfpfqEdoAEDdhvFANh7UeAaPhXwwzYtR9cpee/kg/YVXoqpX9dn6Y9iYmP6PUfgQf0emqVxnUZ/0RWEe988R9JA+rOl+SYlrisS4De+cJ7FP1Jzj+PJeDvUVQQeDe5/wibd5P/kks+98N/RM3nfhhyySc02V/YfEKTUw75LD37i5rP0qsjh+/890VEhMeiU7L9X/huf4m6N4K9WVtQVl6Im/jU09rg+Hxq94Rkla35fOqzZIJvErCKVF3vB98k4AKrdze9hCZNwvnOFxdY+XoTvvPFxQzw7VwugvLxZnw7l5sJ4HsU3QQmvDnfo+gh8IysrVi1hW+89RCfabs53nh7/h3oksw33roNetvR7/CvHXw3udvgTNpBfzf5NT1HoHeri0yK0vhmfXbni6td33Z0Az756R1c1PE6LlF1FZoJ26klpd/t+xjX9rwJ57UeaEIE7zVpeVGroe48vhl/3/wqBnS8Fq2ad/Le6NmSSwSOndyLjfvW4o9970T3ln1d2seXG9lC1ArQ4fw9eP/7V9Ax+Ty+a1FQMer943uztuJP/e5CW5u8Pc02olZ5LCjLx6otSxAWEoHebS9DsM0eWSaoxUaHqq6pxrbD61BRVYbh549DnI3eQmwrUeuZWrP9LezL+QnntrkUSTGtG51ANlCbQE7RUfx45Ct0TOqJIb1usR0eW4paUf4p87/4ZPvbOCepF7qlDrAdeKt2eNfxjTiQvR2/7XUzeqZeYNVuNtgv24pajaq0olgT9vGCw+je6kKkxLW3ZRKs0OkTBQex89h/0DKurSboyLBoK3TLoz7YWtT6iHcd34LPdq1CXGQiOqf0RUzT5h7BCMSdik6fxJ4Tm1FQmourug1Ht5b2X/rrF6LWxfjVno/xzd416NiitzZL0jQ0KhB16tKYT1eWYF/WVuzL3oaLOw3BpZ2vc2k/O2zkV6JWwMsqSrB+z2psOvgFurTsp9XckWExdsiFSB9LK4pwIGc7Mo5/j/7tr8DgzkMREeZfB7/fiVpXRnF5Ab7d9y9sPrQebRO6om1Cd8RHp4gIx4pB8otP4HDeThzO242+7QZjUMdrEB0eZ8WuNrpPfitqnUxFVTk2HfoSmw99pb1fpnVCF7SJ74omwSGNhmf1Bs5UV+FI/m4czcuAeg9L33aXon+7yxEWEm71rjeqf34vaiOdPdk/Ysvhr7E3+0e0TeiGFBu+8s6VbKtH6Z44dQBqzXOnFufi/LaXoHOLc13Z1S+2CShR6xlTdfdPmZvw0/FNOHHqEFKbd0RSbGskx7VDeEiE7RJbXlWGrIJDyCk8isyT+5DSrB16tuyPnqn9/a5ediU5ASlqI5iS8kJkZG9DxoltOJi3C3ERCUiIaYX4qBQkRLe05CvxVCmRV3wc+SUnkFd0DAVleWif0A1dUnqjS4veiAqPdSX3frtNwIvaObOH8/fiYO4uHMrfg8xTBxERFo3mUS0Q2zRee5Gp+qN+JvUpqyjWXrb58598nCzNhvpZarP2aBffGe0Tu6FtPFcuGvNBUZ9FndlFx3Ci4DAyTx1GVtFR5BWfgLr4jI1orjli09BohIdGanPiqnRRF6OhIeEIDQ5Fk+BQBAc3qbXwSi0Uqq4+gzPVlahUf6rKtYs4VUKouePyylKcriyGOoMUlp3ULuoSolOQHNMaqc3aIiWuLVrEtJI6pmwZh6L2IG2nK8twsjQHp0pzNfdUqweLygtQUl6EMk2YZag4U46qMxU4U30G1TVnHFGCg5qgSXAThDQJQ1iTcISHRiAiNApR4TGICY/TVsPFRsSjWWQimkcmoWmo/Wp8D5B6dReK2qs4628sKCgINTU1QtECOwxFLZR/iloINACKWog1RS0EmqIWBM3yQww2nVoINZ1aCDSdWhA0nVoMNp1aCDWdWgg0nVoQNJ1aDDadWgg1nVoINJ1aEDSdWgw2nVoINZ1aCDSdWhA0nVoMNp1aCDWdWgg0nVoQNJ1aDDadWgg1nVoINJ1aEDSdWgw2nVoINZ1aCDSdWhA0nVoMNp1aCDWdWgg0nVoQNJ1aDDadWgg1nVoINJ1aEDSdWgw2nVoINZ1aCDSdWhA0nVoMNp1aCDWdWgg0nVoQNJ1aDDadWgg1nVoINJ1aEDSdWgw2nVoINZ1aCDSdWhA0nVoMNp1aCDWdWgg0nVoQNJ1aDDadWgg1nVoINJ1aEDSdWgw2nVoINZ1aCDSdWhA0nVoMNp1aCDWdWgg0nVoQNJ1aDDadWgg1nVoINJ1aEDSdWgw2nVoINZ1aCDSdWhA0nVoMNp1aCDWdWgg0nVoQNJ1aDDadWgg1nVoINJ1aEDSdWgw2nVoINZ1aCDSdWhA0nVoMNp1aCDWdWgg0nVoQNJ1aDDadWgg1nVoINJ1aEDSdWgw2nVoINZ1aCDSdWhA0nVoMNp1aCDWdWgg0nVoQNJ1aDDadWgg1nVoINJ1aEDSdWgw2nVoINZ1aCDSdWhA0nVoMNp1aCDWdWgg0nVoQNJ1aDDadWgg1nVoINJ1aEDSdWgw2nVoINZ1aCDSdWhA0nVoMNp1aCDWdWgg0nVoQNJ1aDDadWgg1nVoINJ1aEDSdWgw2nVoINZ1aCDSdWhA0nVoMNp1aCDWdWgg0nVoQNJ1aDDadWgg1nVoINJ1aEDSdWgw2nVoINZ1aCDSdWhA0nVoMNp1aCDWdWgg0nVoQNJ1aDDadWgg1nVoINJ3aPNALFizAnDlzkJ6ejilTpkAX9cKFCzFz5kykpaVh2rRp5nUggFumU5uU/KKiIiQkJCA6OhphYWHIyspCcnIyKioqUFxcjLy8PMTExJgUPbCbpahNzL9y5Pnz56OqqkoTsBJ6SEgIpk+fjrlz55oYObCbpqhNzL8ScVJSEsrLyx1RwsPDkZOTQ5c2kTtFbSJc1bRya1VfV1ZWIjQ0VKuj6dLmQqeozeWrlRy6W9OlTYb9S/MUtQBnvbZmLS0Am1N6MpCVW48dOxZLly5lLS2A3C+curqyCEfXXIvS7A0CyBjCFQKRLQai9ZC1CA6Vn7b0C1EX7HkdxRnL0arvPFd4cxuTCRQcW43i/O/R6poPTI5Ud/N+Iepj//o9opv3Q1zroT6ByKC1CRzbPAPRXW5HXOdRPkFje1Gr0iNjeSy6XLsewSGRPoHIoP9PoLqqFBlrB6PL6EKflB6qJ7YXNUsPax1Svi49/ELULD2sJWpflx62FzVLD2sJ2gqlh+1FzdLDWqK2Qulhe1Gz9LCWqK1Qetha1Cw9rCVoq5QethY1Sw9ridoqpYetRc3Sw1qitkrpYVtRs/SwlqCtVHrYVtQsPawlaiuVHrYVNUsPa4naSqWHLUXN0sNagrZa6WFLUbP0sJaorVZ62FLULD2sJWqrlR62EzVLD2sJ2oqlh+1EXbBnBYozVvAOF4to24qlh+1EzdLDImr+pRtWLD1sJWqWHtYStFVLD1uJmqWHtURt1dLDVqLWSo/4fohrxZtrrSBvq5YethE1Sw8ryPj/+2Dl0sM2ovZ26fHPf6/HgsVv4KMVzyI6yv070L/fthPjpqZhzZvPoWVyotcUV1xSimGj7sO08SPxu6sHe61dbzdk5dLDNqK2WukR6KK2culhC1G7U3roDtwsNgYfrF2Htq1S8EL6g7h5/CyUlp3GEw9PwkMTR0Pf7p3Fc3HT+Jlo17olVqxcrRnaqBFDsXzhY3AWrr7Pqwtm46oR9+DwsRNa+999tAyZWTkYPPwuLYb+M+XguvOu27BZa1uPX59z6ttfMqAPnnn5b7X6rPZRfaorjurbxJnzkHeyABf06aGdgRYtW4kZjz+vhYqMaIr1q15Bv97dtbFfP3qq9nNjX111c6uXHrYQtTulh56wD5c/jSsG9ddO5QcOZ2rC27RtB+6d9aTj36r80EWtQCghfPHtJu0AUAJQH2OJYSxZdu875Pid2u6iYWMwYcwI7YAZPeURHDp63CGsHRn7tYPkeFYubpkwC2+9mF5vyaKLuq7+pCYn1RvH2G9duPpY1cGl+qQdVLMmYchtk7Hk6dmawOctWq79XPXb1Y/VSw9biNqd0kMJzzmZPbp00JJmdF4lcKOoh1x5sbaNEp6edFdFrVzaKH4VZ/gd07Hqtfn49KuN0EXtimh0UbvSH2Mc1QfjuJ1jKfGqfjiL2pU+OW9j9dLD8qJ2p/RQg3G+AFQO5Yqo9QszT0RtPAMoVzS2odxQ9UEvbdQZpKELQOcLRWNbzsJ1/p3xwte57HEuq/QS5rKBfd26WLZD6WF5Uf9ceryOVn2fcMlUzBS1crs1n3+jicBYfjTk1ErU+sdZ7HUNqCFRO585nJ3aKGpjX9Xsju7Uqgwyfur7eX2w7VB6WF7U7pQeZji1crS3F6c76nO91nW1pp44a57jTOFOTV3XmeNsNXV9oi4qLtVq8csH9cPkcTfXKpXcramPbX4I0V1G+exppi45m5UfEOlu6eFtUesXUmoGQc0e3H/3rfh64w+aU+tCUTEbmv1QQlaCUjMl6qOXH/VNCTbk1Ko/Dc1+GEVtjKtmOGZOGou3P1j7q1kRd8oPu5QelnZqd0sPV49iq2w3+8mXMGH0CK9+eWPm2OxSelha1O6WHmYm1NttKyd9cflKpD14j7ebNq09u5QelhW1J6WHadlkw7BT6WFZUft76WG348ROpYdlRe3PpYfdBK36a6fSw5KiZulhLdnbrfSwpKhZelhL1AVHV6P4pO9eH+cJDcu9yIilhydpNG8fu5UelnNqlh7midOTlu1YelhO1Cw9PJGeefvYsfSwnKhZepgnUE9a/rn0GI24zrd7srvP9rFMTc3Sw2caqDOwXUsPSzk1Sw9ridqupYelRM3Sw1qitmvpYRlRs/SwlqDtXHpYRtQsPawlajuXHpYRNUsPa4nazqWHJUTN0sNagrZ76WEJUbP0sJao7V56WELULD2sJWq7lx4+FzVLD2sJ2h9KD5+LmqWHtUTtD6WHz0XN0sNaovaH0sOnombpYS1B+0vp4VNRs/Swlqj9pfTwqahZelhL1P5SevhM1Kr0OLrmWpRmb7BWZgO4N5EtBqL1kLUIDo2xPQXLrKe2PcmzDCAoKAg1NTX+PkxLjI+iFkoDRS0E2spPPZVDIBOJopbh7LOaWm541olEUcvlguWHEGuKWgg0yw9B0LxQFINNpxZCTacWAk2nFgRNpxaDTacWQk2nFgJNpxYETacWg02nFkJNpxYCTacWBE2nFoNNpxZCTacWAk2nFgRNpxaDTacWQk2nFgJNpxYETacWg02nFkJNpxYCTacWBE2nFoNNpxZCTacWAk2nFgRNpxaDTacWQk2nFgJNpxYETacWg02nFkJNpxYCTacWBE2nFoNNpxZCTacWAk2nFgRNpxaDTacWQk2nFgJNpxYETacWg02nFkJNpxYCTacWBE2nFoNNpxZCTacWAk2nFgRNpxaDTacWQk2nFgJNpxYETacWg02nFkJNpxYCTacWBE2nFoNNpxZCTacWAk2nFgRNpxaDTacWQk2nFgJNpxYETacWg02nFkJNpxYCTacWBE2nFoNNpxZCTacWAk2nFgRNpxaDTacWQk2nFgJNpxYETacWg02nFkJNpxYCTacWBE2nFoNNpxZCTacWAk2nFgRNpxaDTacWQk2nFgJNpxYETacWg02nFkJNpxYCTacWBE2nFoNNpxZCTacWAk2nFgRNpxaDTacWQk2nFgJNpxYETacWg02nFkJNpxYCTacWBE2nFoNNpxZCTacWAk2nNg/0ggULMGfOHKSnp2PKlCnQRb1w4ULMnDkTaWlpmDZtmnkdCOCW6dQmJb+oqAgJCQmIjo5GWFgYsrKykJycjIqKChQXFyMvLw8xMTEmRQ/sZilqE/OvHHn+/PmoqqrSBKyEHhISgunTp2Pu3LkmRg7spilqE/OvRJyUlITy8nJHlPDwcOTk5NClTeROUZsIVzWt3FrV15WVlQgNDdXqaLq0udApanP5aiWH7tZ0aZNh/9I8RS3AWa+tWUsLwOaUngxk5dZjx47F0qVLWUsLIHc4de7mx5C7+VGBkAxBAt4nkNj3UST2fURruJaoUZSJxC53ez8iWyQBEwnkZrwMxKRS1CYyZtPCBChqYeAMZz4Bitp8xowgTICiFgbOcOYToKjNZ8wIwgQoamHgDGc+AYrafMaMIEyAohYGznDmE6CozWfMCMIEKGph4AxnPgGK2nzGjCBMgKIWBs5w5hOgqM1nzAjCBChqYeAMZz4Bitp8xowgTICiFgbOcOYToKjNZ8wIwgQoamHgDGc+AYrafMaMIEyAohYGznDmE6CozWfMCMIEKGph4AxnPgGK2nzGjCBMwCei/n7bToybmoY1bz6HlsmJwkM2J5w3xvTPf6/HgsVv4KMVzyI6KtKcjtbTqur/snf+iecff1DbQv1/8PC7UFp2Gm1bpeC7j5Y5cnU8KxcXDRuDw8dOIDKiKdavegX9enf/1X6jRgzF8oWPOSKOnvIIVqxc/at9vD1QitpLRO0saiW2gsJixMVGY+tPe/DeK/Mw/X+exez779TEOm/Rcqz5/BvtYFOfYaPuw5ArL8ZDE0fDeCAWFZdqYn8h/UFcMah/re2MbXzx7SbcO+vJWgeKl9KgNeNTUV96YR+8sPTdWkeugjRx5jzknSzABX16IO3Be/DbWydpjuHsCgrUjMef1wbyxMOTNMjqozuC8efFJaUa5HatW2puoT66k6jte3Tp4NhftbsjY7/mMvU5lrGf5/XojKPHs3EkM+tXruZOsnSBNIuNwQdr19VqS+//ug2btSY/XP40fnf1YK1/w++Yrv1MvXJDOeqmbTtw/eipjtD6ts5tGJkZRed8ljAesJlZOUh75lW88ULar84mzge2sc2Js+Y5GOtOr8SvxuDtj89ErU5tc6bepQlJierQ0eOaE6ij+Obxs7RTWteO7TQhThs/Uhu8Svp7H32mic3ZIYbcNhlLnp6NT7/aiBeXrdSSqxKg4ry9ON3hHAqgcxy1nX7a151Ixezfu4fDeVT8+vqp3Kw+pzaeqo3Jcz41q9+pMSkxKhHqTqcOQjXe+mKr/fQxGkW+6rX5v3LZRctWOg5W1a9bJszCWy+maweB4nrDsKscfI19dXbZJX/7AKcKi6AOMKPROJdP6v/KkT979yXcOT3NkUf94NLd3m9ErdxFB2+EYTw1xURH1hK1cfDO7qr/zvnn6v/qsyj9oVqnQ5VU/UBQv9f7o/6t1/sq2cbTpFG4Df3O0+sEXQR6/aqfMfS+6we3URS/uXSAo+96XWvkZGRrFLUrQjIekLrbGw88dRAZBa/a18sU5fb6eD5Y9jR+P2aqVpaoffxW1MYLRWdRGy+WjGD1CxZd7M5Hel2w6hOGUdTGM8KOjAMON9MTaBSA7kxGd1cJNKOm1vv+xKxJtc4YeomlSiYlaueLbmP5pba9bGBfx8Wn8Xe6UM8mcGO5oLY15kcvf5RBOTMJOKd2VdT1uY6xRmvIwZ2dWnc7o6j1iyFVR6uPOg3r5U59sxHOp1pvlR/GeK46tTNL49mlvhkV5/E3JGznM4MxnlHUxrOcOlsFXE3tiqjV1bReIijhGWtqIzDjVbdy2oZq6vpErV8QJsY3c1yVO1/QqJh626r8cHasxk5TOgvQeMHaUE1dn6j1M5p+HeF8sabX1M7lkrPgjcJ1vs4x9ouzH4Z56obKD2MJ4DxfWtcsh35q1mc49Ct83W3qE7VxdsQ4t2qc/Wjookg/AFR845zu2U7t9Z2JVEljFHVDsx9GURu3U/1d8Mj9WLzife07AfXR55fVvxsqP4zjdt62rpJQPzCMwg1iawAAIABJREFU+wXUPLU7iea2JOAuAZ9M6bnbSW5PAu4QoKjdocVtbUGAorZFmthJdwhQ1O7Q4ra2IEBR2yJN7KQ7BChqd2hxW1sQoKhtkSZ20h0CFLU7tLitLQhQ1LZIEzvpDgGK2h1a3NYWBChqW6SJnXSHAEXtDi1uawsCFLUt0sROukOAonaHFre1BQGK2hZpYifdIUBRu0OL29qCAEVtizSxk+4QoKjdocVtbUGAorZFmthJdwhQ1O7Q4ra2IEBR2yJN7KQ7BChqd2hxW1sQoKhtkSZ20h0CFLU7tLitLQhQ1LZIEzvpDoEGRZ27+VF32uK2JGAZAol9H0Vi358f4xxUU1NTY5me+XFH1FP/iVomwRS1DGftVRYUtQxsilqGM0UtxJnlhyRoOrUYbTq1EGqWH0KgeaEoCJpOLQabTi2Emk4tBJpOLQiaTi0Gm04thJpOLQSaTi0Imk4tBptOLYSaTi0Emk4tCJpOLQabTi2Emk4tBJpOLQiaTi0Gm04thJpOLQSaTi0Imk4tBptOLYSaTi0Emk4tCJpOLQabTi2Emk4tBJpOLQiaTi0Gm04thJpOLQSaTi0Imk4tBptOLYSaTi0Emk4tCJpOLQabTi2Emk4tBJpOLQiaTi0Gm04thJpOLQSaTi0Imk4tBptOLYSaTi0Emk4tCJpOLQabTi2Emk4tBJpOLQiaTi0Gm04thJpOLQSaTi0Imk4tBptOLYSaTi0Emk4tCJpOLQabTi2Emk4tBJpOLQiaTi0Gm04thJpOLQSaTi0Imk4tBptOLYSaTi0Emk5tHugFCxZgzpw5SE9Px5QpUxyvnFu4cCFmzpyJtLQ0TJs2zbwOBHDLdGqTkl9UVISEhARER0cjLCwMWVlZSE5ORkVFBYqLi5GXl4eYmBiTogd2sxS1iflXjjx//nxUVVVpAlZCDwkJwfTp0zF37lwTIwd20xS1iflXIk5KSkJ5ebkjSnh4OHJycujSJnKnqE2Eq5pWbq3q68rKSoSGhmp1NF3aXOgUtbl8tZJDd2u6tMmwf2meohbgrNfWrKUFYHNKTwaycuuxY8di6dKlrKUFkDucOnfzY8jd/KhASIYgAe8TSOz7KBL7PqI1XEvUKMpEYpe7vR+RLZKAiQRyM14GYlIpahMZs2lhAhS1MHCGM58ARW0+Y0YQJkBRCwNnOPMJUNTmM2YEYQIUtTBwhjOfAEVtPmNGECZAUQsDZzjzCVDU5jNmBGECFLUwcIYznwBFbT5jRhAmQFELA2c48wlQ1OYzZgRhAhS1MHCGM58ARW0+Y0YQJkBRCwNnOPMJUNTmM2YEYQIUtTBwhjOfAEVtPmNGECZAUQsDZzjzCVDU5jNmBGECFLUwcIYznwBFbT5jRhAmYClRF5eUYtio+zBt/Ej87urBwii8H+77bTsxbmoa1rz5HFomJ3o/gKHFf/57PRYsfgMfrXgW0VGRbsfyRl9VG8ve+Seef/xBR/zRUx7BipWrtf8/8fAkPDRxtPbv41m5uGjYGBw+dgKXDezrcb/rGqilRO12Jiy+gzeEIjXExvZVibegsBhxsdHY+tMe7UBe8d5qrPn8G02wRcWlGHLbZCx5eja6dmynmdeQKy/WRK72VZ/lCx/zynBFRK078CUD+uCZl/+G0rLT2lG7I2O/dhS3bZWC7z5ahpjoSIdTpyYnaS7XLC4a6zZs1gb74fKnNQfX29N/bnQAlZzBw+/SYhgdQDnZ9aOnau3oP1f/VnDbtW7pcJNRI4ZqcBXoHl06OJxl3qLlWn/V74wx9L4rJ1YxJs6ch7yTBTivR2ccPZ6NI5lZjvF54ta6AzeLjcEHa9dpbb2Q/iBuHj/LwVEJQ9/uncVzcdP4mXWOyVm4+j6vLpiNq0bco7mmPp7MrBwHR+MYG2KvGOkiVmxH3jsbs++/E/16d68lVuXSusDV71Q/7p31pKYBTxg5HwmiolbB1VH7xbebNIEpMU4cM8Jx1Or/VuWHErUS55ypdzmO5kNHj2v7L1q20iEwBeiWCbPw1ovp2tiMsHRh/ubSAVpbby9OxxWD+juEvCj9Ie3fxn4psaxf9QpUUvXTuS5+1a/+vXtop00lLHWAqRh6v9S49P1VsupzP+Op15gQ/YAy/kw/GNUBrff9wOFMTQCbtu1wiEH9W/VXF3VdY1I/M5ZDxpJl975Djt+p7dQYJ4wZ4TJ7Ff+9jz7DDcOu0v5+YtYkLS/nduuEF5a+W6v8cOai/j/8julY9dr8Xx0Anli3qKj1043zoHTxOYvaOFBjAoyidhZAXXWlc72pO8Nn776EO6enOU6DRgdR7erxjWIwCkm5inEsDf3OUwdydjHjGcQ5tlHUOmvnMbkianVAG7cziu7TrzY6DKUhwekH7uWD+jnObjpP1b7RmW0tav0C0FVR15cAdSFkvADRyxLj6c94seT8cz3+e6/M00St98soAL3uU7/bkXHAkUhjGaMnNTKi6a/cXcVvbJ2q2nc+IF0VdV1jctWpnQ9O53KhLvbOAnfeRy9b1MGmzpz1HTTOpYrlndqbotYHa4RnLBmMoj6bU9clAAVXr6NVLHVaVeVGQ7MMzr/zVvlhPPt4U9TGg91YfjTk1EbROQvXKEDnmSyjqEfdMNR/ampviXrirHmOizhjTa2SYSxZ9KvqyeNubrCmrk/U+gVhYnwzx0WMflrVa2oljBeXrXTUuEYBWtGpna8t9Nrb1Zq6PvZ1lVfGi2t1wOvXG341++EtUavpIX2OUyVFLz/007XzLIdy7YZmP+oTte4uanbEON1knP3QSw/9Kt4oav0AUP3y9Mrem+WHfvaZ8fjzUP2+/+5b8fXGHxxTboqp3tf6Zj+cL3KN7OsqFeorVThP7UlhxX0CloDI7EfA0uXAfUKAovYJdgY1kwBFbSZdtu0TAhS1T7AzqJkEKGoz6bJtnxCgqH2CnUHNJEBRm0mXbfuEAEXtE+wMaiYBitpMumzbJwQoap9gZ1AzCVDUZtJl2z4hQFH7BDuDmkmAojaTLtv2CQGK2ifYGdRMAhS1mXTZtk8IUNQ+wc6gZhKgqM2ky7Z9QoCi9gl2BjWTAEVtJl227RMCFLVPsDOomQQoajPpsm2fEKCofYKdQc0kQFGbSZdt+4QARe0T7AxqJgGK2ky6bNsnBBoUde7mR33SKQYlgcYSSOz7KBL7/vyGgqCampqaxjbI/c9OICgoCER9dk7e2IKi9gZFF9qgqF2A5KVNKGovgTxbMxT12Qh57/cUtfdYNtgSRS0EmjW1IGjW1GKw6dRCqOnUQqDp1IKg6dRisOnUQqjp1EKg6dSCoOnUYrDp1EKo6dRCoOnUgqDp1GKw6dRCqOnUQqDp1IKg6dRisOnUQqjp1EKg6dSCoOnUYrDp1EKo6dRCoOnUgqDp1GKw6dRCqOnUQqDp1IKg6dRisOnUQqjp1EKg6dSCoOnUYrDp1EKo6dRCoOnUgqDp1GKw6dRCqOnUQqDp1IKg6dRisOnUQqjp1EKg6dSCoOnUYrDp1EKo6dRCoOnUgqDp1GKw6dRCqOnUQqDp1IKg6dRisOnUQqjp1EKg6dSCoOnUYrDp1EKo6dRCoOnUgqDp1GKw6dRCqOnUQqDp1IKg6dRisOnUQqjp1EKg6dSCoOnUYrDp1EKo6dRCoOnUgqDp1GKw6dRCqOnUQqDp1IKg6dRisOnUQqjp1EKg6dSCoOnUYrDp1EKo6dRCoOnUgqDp1GKw6dRCqOnUQqDp1IKg6dRisOnUQqjp1EKg6dSCoOnUYrDp1EKo6dRCoOnUgqDp1GKw6dRCqOnUQqDp1IKg6dRisOnUQqjp1EKg6dSCoOnUYrDp1EKo6dRCoOnUgqDp1GKw6dRCqOnUQqDp1IKg6dRisOnUQqjp1EKg6dSCoOnUYrDp1EKo6dRCoOnUgqDp1GKw6dRCqOnUQqDp1IKg6dRisOnUQqjp1EKg6dSCoOnUYrDp1EKo6dRCoOnUgqDp1GKw6dQmoV6wYAHmzJmD9PR0TJkyBbpTL1y4EDNnzkRaWhqmTZtmUvTAbpaiNin/RUVFSEhIQHR0NMLCwpCVlYXk5GRUVFSguLgYeXl5iImJMSl6YDdLUZuYf+XI8+fPR1VVlSZgJfSQkBBMnz4dc+fONTFyYDdNUZuYfyXipKQklJeXO6KEh4cjJyeHLm0id4raRLiqaeXWqr6urKxEaGioVkfTpc2FTlGby1crOXS3pkubDPuX5ilqAc56bc1aWgA256llICu3Hjt2LJYuXcpaWgB50M5XUCMQhyFIQIyAJupuQzeJBWQgEjCTwK7V/UFRm0mYbYsToKjFkTOg2QQoarMJs31xAhS1OHIGNJsARW02YbYvToCiFkfOgGYToKjNJsz2xQlQ1OLIGdBsAhS12YTZvjgBilocOQOaTYCiNpsw2xcnQFGLI2dAswlQ1GYTZvviBChqceQMaDYBitpswmxfnABFLY6cAc0m4BeinrdoOXZk7MfyhY81yMvV7UZPeQQ9unTAQxNHm83f7fbVGNZ8/g0+WvEsoqMi3d4/EHagqOvIMkVtb+nbXtT//Pd6XD96qpaFUSOGam5t/NllA/tqrvbFt5t+tZ1yvRmPP6/tGxnRFOtXvYJ+vbvDKGpjW21bpeC7j5ahZXIiiktKMWzUfVi3YbO2/4fLn8bvrh6s/VtvV7V59eALERcbrfXL2K6+/7TxI3HFoP5aW+1at8SKlatrjUX9R++D3t6pwiKHU6s29X2eeHiS4+xSX7/tLVfXem97Uesi0suP77ftxODhd+Htxem1xKJEZSw/VNLvnfWkQ6RKHOpjFN+oG4ZiyG2TseTp2ZrY1f7qo8oS4/aqrZvHz9IOCvUZfsd0rHptPlKTk3DRsDG4fFA/l0St9tUPQGN7zuPRt1u0bCVeXLZSG0NmVo5j3P1796i337osnA9K/ee6Cdi5tPE7USuBLVj8hsPJjOJd8d7qemtvo+B1R3UWtZ7441m5mlhfSH9Qc2ej6+7IOFArRl3tqoOiLqcecuXF2gGj2tcPJiVW5/Ho/584a16t2l8/0J6YNamWqF3zN//Zyu9E7XwhpZx73NQ0rHnzORhFXZdT6eWLsUzQnb+07DR0FysqLtVEffjYiVpKUKd/dcbQHd/5LHK28kOVIuogMYr606821row1A/adxbPxU3jZ0I/EOo7Yxn7bWf3deeQ8ztRu+rUzuKvz1GNMPVtGnJC5xmW+to1ur1eU9clak+c2nkWqK5ZH5Yf7hwmPtjWmDRXa2qjqHXnda59f3PpAIfLq4vD+mpqY0xVRzdUUx86erzWhau6wGxI1Hpdrkodfbuz1dRqH/3s5NxvH6RHPKRfOLV+pd/Q7Ic69Rq3U26rlxBqVmPmpLF4+4O1muCMtapxhsR4EeXsdMaZB30f1e711wxGYXGJdqGou7MqW35/7WVQsxjG2Y+6nFpdoBpnMh6ecge279qHN15I0+ap65v9qK/f4grzQUC/ELUPuLkUUhe+se51aUdu1CgCFHWj8P16Z6Orqt/qZw8vh2FzDRCgqCkPvyNAUftdSjkgipoa8DsCFLXfpZQDsqSojV8h64uE7JwqV5e8On9xZOcx6313dezeHKslRe3NAVqhLVcTS1F7J1uiotYd+JIBffDMy3+DWpegr5dQyyf1pZ0x0ZHaUkz1ZYT6zJ63WPt7646MWktEjesyjEtH1bbGLx+MX4zU9WWF3i/npZ+L0h9y9EM/Y9S3LNX4xYza5oftGdi2cw9G3zgMy9/9SOu/cXpP9T3tmVcdX6Ko3+uibhYbgw/WrnPwUN8KGttU41HfdqrVe4qh3cbuHenW34pPRK26Y1zjrJI0ccwITUDqiwr937qo1Xpp49fJSnzOglOCeO+jzxzrqfWVbOorcH3Fm1ocVNdSTeevn9Xaa33pp9pHX9ZqXGikxqB/Hd61YzvHemh96ar+dbj61q8up65P1HWN1blNFVs/6NXBZrex+6Wo9W/YjCvodDdSt1E5i9q47lkXSF0uqsOq784V55/rSzX1tupb+qnH37Rth2MZqFrLbLytylg6qK/Z1UdfWGQUtfEMYkyuOmjVp66x6qLW22zomsPKYzdbzHr7PnFqfY2Dq6I2ric2CsS4lsK5dHH+arqur6zrO0CMjqwWB+lO/9yStx3rl+sSp96HGenP11rn7I5T1zdWZ7Haeexmi9vWojbCcXbKum6cPZtT17egSO3XJjVZW0g0+/47HXfB1Hezr3McM0Rt57FT1ECtOz/qW9NsrCvrWlaqlm6qu1IaqqnPtkrOeDGozjJ6Ta3f16jX0c53pHg6+9HQWmzjbWb+MHZvCt3WTt3QzaX1LclsaPajPlHrp/oJY0bUemxCffGdndp5aWx9CXSe0mvoxgV/G7ttRe3NjrMtEqiPgKhTMw0kIEGAopagzBiiBChqUdwMJkGAopagzBiiBChqUdwMJkGAopagzBiiBChqUdwMJkGAopagzBiiBChqUdwMJkGAopagzBiiBChqUdwMJkGAopagzBiiBChqUdwMJkGAopagzBiiBChqUdwMJkGAopagzBiiBChqUdwMJkHAIWqJYIxBAlIEgmpqamqkggVynKCgIBC1jAIoahnOoKiFQAOgqIVYU9RCoClqQdAsP8Rg06mFUNOphUDTqQVB06nFYNOphVDTqYVA06kFQdOpxWDTqYVQ06mFQNOpBUHTqcVg06mFUNOphUDTqQVB06nFYNOphVDTqYVA06kFQdOpxWDTqYVQ06mFQNOpBUHTqcVg06mFUNOphUDTqQVB06nFYNOphVDTqYVA06kFQdOpxWDTqYVQ06mFQNOpBUHTqcVg06mFUNOphUDTqQVB06nFYNOphVDTqYVA06kFQdOpxWDTqYVQ06mFQNOpBUHTqcVg06mFUNOphUDTqQVB06nFYNOphVDTqYVA06kFQdOpxWDTqYVQ06mFQNOpBUHTqcVg06mFUNOphUDTqQVB06nFYNOphVDTqYVA06kFQdOpxWDTqYVQ06mFQNOpBUHTqcVg06mFUNOphUDTqQVB06nFYNOphVDTqYVA06kFQdOpxWDTqYVQ06mFQNOpBUHTqcVg06mFUNOphUDTqQVB06nFYNOphVDTqYVA06kFQdOpxWDTqYVQ06mFQNOpBUHTqcVg06mFUNOphUDTqQVB06nFYNOphVDTqYVA06kFQdOpxWDTqYVQ06mFQNOpBUHTqcVg06mFUNOphUDTqQVB06nFYNOphVDTqYVA06nNA71gwQLMmTMH6enpmDJlCnRRL1y4EDNnzkRaWhqmTZtmXgcCuGU6tUnJLyoqQkJCAqKjoxEWFoasrCwkJyejoqICxcXFyMvLQ0xMjEnRA7tZitrE/CtHnj9/PqqqqjQBK6GHhIRg+vTpmDt3romRA7tpitrE/CsRJyUloby83BElPDwcOTk5dGkTuVPUJsJVTSu3VvV1ZWUlQkNDtTqaLm0udIraXL5ayaG7NV3aZNi/NE9RC3DWa2vW0gKwOaUnA1m59dixY7F06VLW0gLIfebUhz8chNLsDQJDZAhfEIhsMRBtr//WF6HhM1HvejUI3YZu8smgGdR8ArtW90e3O2vMD1RHBIraJ9j9PyhF7f85DrgRUtQBl3L/HzBF7f85DrgRUtQBl3L/HzBF7f85DrgRUtQBl3L/HzBF7f85DrgRUtQBl3L/HzBF7f85DrgRBqSo1dqPthc8H3DJDpQBB6SoufbDv+VNUft3fgNydBR1QKbdvwdNUft3fgNydBR1QKbdvwdNUft3fgNydBR1QKbdvwdNUft3fgNydBR1QKbdvwdNUft3fgNydBS1l9P+/badGDc1DWvefA4tkxPrbd3V7f757/VYsPgNfLTiWURHRXq5t41rTvXt3llP4ruPljU41sZFcX9vitp9Zg3u4apYXd2OonY/QRS1+8zq3eN4Vi4uGjYGh4+dQNtWKZqDZWblYPDwu1BadtrxM9WA83abtu3A9aOnOtr+cPnT+N3Vg2EU9RffbnJso7evzgbFJaUYNuo+rNuwWdtf31f9W+2vtztqxFAcOnpcc33VlvEMMG/RcuzI2I9F6Q9pbbVr3RIrVq7W2lP7LV/4mPZvdTDq41E///Lb7x1ObYx12cC+jrOL8efGfnsRfa2mKGovkzU6sC7eCWNG4KGJozF6yiMOUe3ed8hRpijhD79jOla9Nh/9eneHEtiaz7+pJb5XF8zGDXc+hCVPz3Zso9rX21X/VsJTArp5/CysX/UKUpOTtIPnhfQHccWg/ppY1ccVURu3c27POB5d1PrB+/bidEcsdWA8MWsShtw2uc5+exm9ozmK2stkjaJWiTbW1+p3unhV2Ppqb2d3Vo7qLGq92/rZQQlXObvu2tPGj9Q2MbpxXe3qtbqzUw+58mLtgFHt66J07rNxrOpM4xxL1dsfLHsaY6Y86hC1l3HX2RxF7WXKzok2Xkg1JBDl4vrpXnVJP30bywTl7vqpX/99UXGpo5QxDuWJhydp/9UdX11kuiNqdVCog8TYZ3WQGsdjHOuK91bXiuV8cDv328yLXoraRFG76tTK5YxiaUh8end1Z3U+vRuH43yR2VC76qBSH72mrkvUnji188yI3m+9Rvcyfq05itrLVD2pqY2ijomOrLP2TXvwHkx6+CnHVKESR101tX4hp2rb/r17NFhTO9fKlw/q16Cou3Zsp/VNL03UgXC2mnryuJtrlVnGfnsZPWtqs556qte4inB9sx9qxsK43WfvvoQ7p6dpsxeREU2x4JH7sXjF+5qAjbXqomUrMePxn29DM84uOM9+qNJD1cPqo888qHbvv/tWfL3xB8eshF7yqBmJ668ZjMLikgZFrS5ijbMf9469ET/u2ou3XkzX5qnrm/1QQq6r3xS1FwkE6u1ceolh5qnfi2nyuCmWHx6js/6ORld1dnfr997zHlLUnrPjnhYlQFFbNDHslucEKGrP2XFPixKgqC2aGHbLcwIUtefsuKdFCVDUFk0Mu+U5AYrac3bc06IEKGqLJobd8pwARe05O+5pUQIUtUUTw255ToCi9pwd97QoAYraoolhtzwnQFF7zo57WpQARW3RxLBbnhOgqD1nxz0tSoCitmhi2C3PCVDUnrPjnhYlQFFbNDHslucEKGrP2XFPixKgqC2aGHbLcwIUtefsuKdFCVDUFk0Mu+U5AYrac3bc06IEKGqLJsYO3aquKkV50V5UlBxCZWkmqk5no6riFKqrilB9phyoqQaCghHcJBzBITEICWuGkKYtEBqZirCodgiP6YTgEO+/HYGitoN6LNJHJdqS3I0oy9+CslM/oqL0GMLjuiE8ritC4zojJKY9QpomITisGYJDIoCgJkDNGVRXlaG64hSqTuegquggKgv2orxgN8oLdiIssjUimvVCRPz5iEocoIm+sR+KurEE/Xz/iuJDKDrxOYqzv9YcOTLlMkS2vBwRqZejaUKfRo/+dN4PKMv8EqXHv0TpiXWag0e3uAQxKVciLLqdR+1T1B5h8/+dCo58iIJjH2tCjmk/HNEdbkRU6lWmD7w08zMU7X8XRQdXaQKPa3Ud4tpc71ZcitotXP69cVV5Lk4eXIlTh/+OiKQBiOt6B2I63OizQStxF+x+DWU5G9Gs7R/RvP0IhITX/8YzvaMUtc9SZp3AqlbO3/8m8g+8iebd7kazXvchvFl3y3Sw/NROnNr+LE7uehnx59yG+A63NVh7U9SWSZ18R2rOlCN37xLk7VuG+J5TEN/7AYREtpTviIsRq0qPI3/bU8j/aSESOo5BYqdxCGoS/qu9KWoXgfrbZqcOr0LunpcR3WYoEvo9ilAPL8p8waWy+BDyvn8UxUdWI7Hz3WjWdnitblDUvsiKD2OeLtiBnF2LUNMkFEkDnkBE8sU+7E3jQpdlfYOcjTMQVF2FpK4T0DSuh9YgRd04rrbaO3fPK8jf/zqS+s9F816TbdX3hjp7cvtC5GyahfgOtyOx810Utd9ktoGBnC7MwJEf5iKy+TloMeh5hEa39bthVxYfRva3k3CmJBOleZvQ7c4an4wxqKamxieR1Ttfkns9hObtRvhk4JJBTx5aiazt87Ct+HrceN8HkqF9EuvkjudxpvAQEi+a75P4PhO1+hYr+9t70SQkBi263ovQiBSfADAzaGXZCWTvfgFnqgqxcksPnG7SHg8//LCZIdk2AJ+JWqefu/l/kL9tHpK634fmbf/oN0k5eWQVcnY8g/jeDyGx7xz85S9/QUREBEUtkGGfi1qN8XTuJu0KuqbqNJI63YGI5ucJDN2cEGUntyJn7xIEhTRF0oB5aJrYXwtEUZvDu65WLSFqvWOndr2M3O8fQXTyYCR0uB2hEdb9EsIZZmXZceTtfx3FWeuR2O8xNOt2d61NKOoAFbUadk1VGXJ/eBx5W+dq00Px59zi0loDOWS1I6m1GvkH3tKm6RLOm4nEPg8jSC35dPpQ1HIZspRTG4ddVXIM+T8+hfztC9G84+1o1vp6hEefI0fmLJHKiw/g1NEPcXLf64jvNQXx5z6AkKhW9e5FUculzrKi1hGotQYndyzCqV1/RUR8X8S1GoKYFpfKEXKKVJT9FQqOrUFZ/mY06/ZnNO8x0aW1GhS1XMosL2ojioKMpSjYswIVp3YgJvVaxCQORGTiANNpleZuRFHuBhRlrkVYsx6I6zwKcV3GuhV39uzZCA8P1y4Y+TGXgK1EraOoKNiNogPvo/jQP1BRsAeRyZcgMv58RMR2Q9PYro0mdrpwN8oKd6M0fzNKs75GWFxnRLf7A2LO+RPC4jxrn6JudFpcbsCWoq5dex9FSebnKDuxHmXZG1BRuF9bhxwe3R6hTVMQEpaAkPDmCA6JRnCTptpNqOpm1Oozp1FdVYyq8pOoqshD5ekTKC8+CLVuOCy2AyJaDEREymBEpV6JkKjWLgOtb0OKutEIXW7A9qJ2Hml1ZRGPrYx9AAAPh0lEQVTKT25HxandqCw+AHXBqW42ra4o0G4+VTehqptR1U2pwWFx2k2q6gIvNPochDXrivDmvRAcGuMyQFc3pKhdJdX47fxO1I1HYk4LFLU5XOtqlaIWYk1RC4G2wtoPuaH6NhJFLcefTi3EmqIWAk2nlgNNUcuxplMLsaaohUDTqeVAz5kzB6GhoVDi5sdcAnRqc/k6WqeohUDTqeVAU9RyrOnUQqwpaiHQdGo50BS1HGs6tRBriloINJ1aDjRFLceaTi3EmqIWAk2nlgNNUcuxplMLsaaohUDTqeVAP/LII2jSpAmUuPkxlwCd2ly+jtYpaiHQdGo50BS1HGs6tRBriloINJ1aDjRFLceaTi3EmqIWAk2nlgNNUcuxplMLsaaohUDTqeVAU9RyrOnUQqwpaiHQdGo50I8++iiCgoKgxM2PuQTo1ObydbROUQuBplPLgaao5VjTqYVYU9RCoOnUcqApajnWdGoh1hS1EGg6tRxoilqONZ1aiDVFLQSaTi0HmqKWY02nFmJ9xRVXaF++fP7550IRAzcMRS2Uez7KVwg0yw850DNnzkRcXBxmzJghFzRAI9GphRL/wAMPoEWLFlB/82MuAYraXL6O1qdOnYo2bdrg/vvvF4oYuGEoaqHcT548GZ07d8akSZOEIgZuGIpaKPcTJkxAr169oP7mx1wCFLW5fB2t//nPf0a/fv1w9913C0UM3DAUtVDux40bh4svvhh33HGHUMTADUNRC+V+9OjRuPLKK6H+5sdcAhS1uXwdrY8cORJDhgzBbbfdJhQxcMNQ1EK5v/nmmzF8+HDcdNNNQhEDNwxFLZT7ESNGaIK+4YYbhCIGbhiKWij3yqVVPf2HP/xBKGLghqGohXL/u9/9Dmpab9iwYUIRAzcMRS2U++uuu077NlFdLPJjLgGK2ly+jtavueYabTHT1VdfLRQxcMNQ1EK5V3PUak21ulmAH3MJUNTm8nW0ftlllyEtLQ2DBw8Wihi4YShqodyrr8ifeuopDBo0SChi4IahqIVyf+GFF+L555/HgAEDhCIGbhiKWij3/fv3x1//+ldtpR4/5hKgqM3l62i9T58+WL58Oc477zyhiIEbhqIWyv25556Lt99+Gz179hSKGLhhKGqh3Hfv3h2rVq1Ct27dhCIGbhiKWij36v7ENWvWoFOnTkIRAzcMRW1i7rOyspCcnKxF6NChg/Z0pvbt25sYkU0rAhS1STpYsmQJxo8fD/VohIcffli76fabb77BunXrMH36dG1x02OPPWZS9MBulqI2Mf+tWrVCXl4egoODUVNTg5SUFBQVFaGgoABbtmzRhM6P9wlQ1N5n6mjx5Zdf1lxZCTk6OhrFxcWawG+99Va8/vrrJkYO7KYpapPzr2rq7OxsR5QmTZpg165dvGA0kTtFbSJc1fSzzz6LWbNmoaysDCEhIRgzZgxeeeUVk6MGdvMUtUD+mzVrptXR6vnUhw8fRuvWrQWiBm4Iilog948//jjUmwTUI8cWLlwoEDGwQ1DUAvk/ffo01HM/Fi9ejMTERIGIgR2CovZS/gv27kXRoQMoOXIEpcczcTovDxWFBagsLUN1ZQVqqqsRFByM4NAwhEZGICw2Dk0TEhDZMhVRbdogpt05iOO3jV7JBkXtIcbC/fuR+8Nm5G39AacydiOyRQvEtEhGZHw8Ipo3R3hsHMKiohDStCmCQ0I0QSthV1dVoer0aVSUlKC8sABlJ0+iND8fRdlZKM3ORrMuXZFwXh8knt8Xsed08LB3gb0bRe1G/pUDZ361Hie+/go1VZWI79ARzdu1R7O2bdEkLMyNlure9ExFBU4dPoyThw4if/8+BIWEIuWSS5F66WDN0flxjQBF7QKn3B+24Mia1Ti5exeSe52LFt27Iza1lQt7Nm6TwsxjyN65E1nbf0Tzrt3QZshQJPY5v3GNBsDeFHUDSc7ZvAkHVr2PysJCtOpzPlr6UFDHf9iCYz9sQWhsLM4Z/ick9e0fAPL0bIgUdR3cig4exN633kBpZibaDLgQyRZao5G1fTuObPwPIlNT0enWkYhpx1V/zimkqJ2I7H33bRz8YBXaD75ME7RVP0rYB9evQ/vfD0enG2+2ajd90i+K+hfsajZjx8svITwiAh0vvwLhsbE+SYg7QcsLC7Hvyy9QXlaGHnffg9gOnC1R/ChqAEc/+zd+Wvwiuvz2OqT27euOriyxbebmzcj45GP0HD8Bra/iY80CXtQZry9DzsaN6DrkOsS0bGkJkXrSiaLjx7F7zcdIGjAAXW4f40kTfrNPQIt627MLUJmXi+7DrvfKPLOvVaHmuXd+9CFCExLR+75pvu6Oz+IHrKi3zP1fNKmuRtfrhvoMvlmBd3+8GmeCg3H+zL+YFcLS7QakqJWgQ4KC0OXa31o6OY3pXMbaT1BVUxOQwg44UauSAyUlfunQzgeBcmxERQVcKRJQolYXhUUZu9Hrj4HzMqHtf38PMV26BtTFY8CIWk3bHfrHKpw/8na/uCh0tTRRF49b3ngd7f4wPGCm+wJC1OqLlQ0PTUO/seNsPW3nqpCdt1PTfd8vXYKB8xYExBc0ASHq72Y8gOTOXWz5xYqnQnbeT31Bk7UnAxc98ZS3mrRsO34varWWo2jnDvS4/veWTYJUx3Z8+AFiuvfw+7Uifi3qokMH8Z9ZD2HA3eNtsZbDbHGrtSIbX16MCx+fhxg/fqafX4tazUfHxMdberWd2UJ2bl+t7ivKz/fr+Wu/FbVa4J+x9DX0v2OctG4sH2/Ta0vQZewdfnujgd+KeuPsmUjp0s1SC/ytonZ1o8GJjF0YkDbXKl3yaj/8UtTqnsLdS19F/zF3eBWWPzW2adlr6Dr2Tr+859EvRa1q6eYpKT69p9DqB4C65/HkiRN+WVv7najVYwy+m/kgLp5yv9V15fP+fbPwGVw090m/e/yC34lazUuXHz6ETlf9xueisXoH9n72KcLbtvO7eWu/E/XXkyei67XXijyXw+qiPVv/1HNFdq9di0ueW3S2TW31e78SdeGB/dj61BMYcNefbZUEX3Z24yt/xXnTZ/jVmhC/EvX+v7+Hsv37WHq4cZSoEiSiQ0d08KPluH4l6v8+8he06nUuEvj0UJdlnbd3L45t/xEXPPa/Lu9j9Q39StT/vmUELr5vakCtl26swNR662+efRpXv7WysU1ZZn+/EbV6PvT255/hFy4eSEt9EdNr0v1+83xsvxG1urMl/7sNAXHvoQe6bXAXdS9j/EUD/ebOGL8R9e5lr6FJWSnaXDTQ2zn3+/aOfLcBZyIi0dVPlhX4jajVV+MtzjkHiV27iYrwRG4uLh01BkdOnKgV99J+ffHGE3MxcsZM3Hf7SAwdPFi0X+4Ey929C9kHDvjNV+Z+I+oN0+9H5yuvEr8HURf1szMetLRwGxK5uodxz+efYeD8Z9w5Fiy7rd+Iet3dd+D8224Xv8OlIVEXl5Zi+JT7NKdumZSE8Y+l4eLz++Cld95FZNOmeP2JdNz3xJOay982bCiW/M9jPhGKuiNmy5uv47KXX/NJfG8H9RtRfzryFgyaNFl8Os8dUf9m3F2YdfddmD5mNMbNeQSrPv0Mny75+e23N06djnefno++3bt7O8dnbU9N6337/HP4zRtvnXVbO2zgN6L+101/wuAHZ2hvwZL81FVTt0lJwVcrliE6MrKWUxuFO3/Zcuzcv19zZ9XG9fdOxuJHZvtE1OqtYeuffALXvPO+JDrTYvmNqNeOGI7LZ8k/ENEdp1blx4cvPIeUxERYSdRKXV+m/y+uXbnKNKFJNuw3ova1U9d1oVhXTW1FUdOpJQ85N2LZoaa2qlOzpnZDaJKb2mX2w4pOzdkPSaW6EctX89RudNGym3Ke2qKp8dU3ihbF4Va3+I2iW7jkNubaD89Zc+2H5+xM3ZOr9DzHy1V6nrMzdU+up/YcL9dTe87O9D1554v7iHnni/vMRPfgPYru4+Y9iu4zE92Dd5O7j5t3k7vPTHQP9W6XrfP53A93oGvP/XhgBmLP6eDObpbe1m/WfuiU+YQm1/XGJzS5zsqnW/JZeq7j57P0XGfl0y351FPX8fOpp66z8vmWfD712VPA51OfnZGltuCbBM6eDr5J4OyMLLcF3/lSf0r4zhfLydW1DvHtXPVz4tu5XNOQJbfiexR/nRa+R9GSUnW9U0UHD+I/D/ONtzoxxxtv0+chpl1710HabEu/+/LFmT/fTf7/RPhucpsdnQ1197sZDyC5cxek9u3rR6NybyiZmzcja08GLnriKfd2tOHWfu/UKidqTciGh6ah39hx4s/as4Im1D2I3y9dgoHzFvjVu13qYxsQolaDV3fGHPrHKpw/8nbxR5P5UthqvfSWN15Huz8M95vnT5+NZ8CIWoHIeH0ZijJ2o5cfvbTnbAne/vf3ENOlK7rcPuZsm/rN7wNK1Cpr255dAJSUBMQbB9S9h4iKQu/7pvmNYF0ZSMCJWkFR89chQUHocu1vXWFky20y1n6Cqpoav3mQujtJCEhR68JuUl3tl46tHPpMcHBAClrlNmBFrZcilXm56D7ser+4eFQXhTs/+hChCYkBV3IYnTygRa1fPOZs3IiuQ66z9XSfmrbbveZjJA0YEFAXhXWVJQEvan2676fFL6LLb6+z5Rc06ouVjE8+Rs/xEwJm2q6hGpui/oWO+oJmx8svITwiAh0vv0L83THuXAjp26q1HPu+/ALlZWXocfc9AfHFiiucKGonSmqtyMEPVqH94MvQZsCFrjD0yTZqtd3B9evQ/vfD0enGm33SB6sGpajryEzRoYPY+7c3UJqZqQk7uVcvy+RPLfBXgo5MTUWnW0Yipr3/rrbzFDpF3QA5daPBgVXvo7KwEK36nI+Wfc73lHOj91P3FB77YQtCY2NxzvA/Ialv/0a36a8NUNQuZFbd83hkzWqc3L0Lyb3ORYvu3RGb2sqFPRu3iXouR/bOncja/iOad+2GNkOGItGHB1bjRiO3N0XtBmv1+IXMr9bjxNdfoaaqEvEdOqJ5u/Zo1ratV+a51TzzqcOHcfLQQeTv34egkFCkXHIpUi8djMiWqW70NLA3pag9zH/hgf3I3bIZeVt/wKmM3Yhs0QIxLZIRGR+PiObNER4bh7CoKIQ0bYrgkBDt/Y7qLVjVVVWoOn0aFSUlKC8sQNnJkyjNz0dRdhZKs7PRrEtXJJzXB4l9+nI2w8PcUNQegnPeTT0fu+jQAZQcOQLl6Kfz8lBRWIDK0jJUV1ZoglbCDg4NQ2hkBMJi49A0IUFz4Kg2bRDT7hzEderkpd4EdjP/B+CjlfUXPJPaAAAAAElFTkSuQmCC)"
      ]
    },
    {
      "cell_type": "code",
      "execution_count": 3,
      "metadata": {
        "colab": {
          "base_uri": "https://localhost:8080/"
        },
        "id": "O9EO7I4v9cBo",
        "outputId": "7557fce5-74e6-440c-ce70-18da3ab20cf9"
      },
      "outputs": [
        {
          "name": "stdout",
          "output_type": "stream",
          "text": [
            "Digite a quantidade de horas12\n",
            "Digite a quantidade de minutos58\n"
          ]
        }
      ],
      "source": [
        "horas = int(input(\"Digite a quantidade de horas\"))\n",
        "minutos = int(input(\"Digite a quantidade de minutos\"))"
      ]
    },
    {
      "cell_type": "code",
      "execution_count": 4,
      "metadata": {
        "id": "ieLU_3b2FzoM"
      },
      "outputs": [],
      "source": [
        "hrsconvert = horas*3600"
      ]
    },
    {
      "cell_type": "code",
      "execution_count": 5,
      "metadata": {
        "id": "0tj_-rCoGRLd"
      },
      "outputs": [],
      "source": [
        "minsconvert = minutos*60"
      ]
    },
    {
      "cell_type": "code",
      "execution_count": 6,
      "metadata": {
        "id": "jZ5H1Fz2GXtM"
      },
      "outputs": [],
      "source": [
        "totalsegundos = hrsconvert+minsconvert"
      ]
    },
    {
      "cell_type": "code",
      "execution_count": 7,
      "metadata": {
        "colab": {
          "base_uri": "https://localhost:8080/"
        },
        "id": "Pj-MoXyKGfR1",
        "outputId": "26a8b56b-5e62-4381-a203-a11243f9d81d"
      },
      "outputs": [
        {
          "output_type": "stream",
          "name": "stdout",
          "text": [
            "O total de segundos é: 46680\n"
          ]
        }
      ],
      "source": [
        "print(f\"O total de segundos é: {totalsegundos}\")"
      ]
    },
    {
      "cell_type": "markdown",
      "metadata": {
        "id": "C3EdVG-JGq6X"
      },
      "source": [
        "##Exercício 3:\n",
        "  Continuando do exercício anterior, um funcionário trabalha em determinada empresa e quer saber quanto irá ganhar de hora extra. Você deverá fazer um algoritmo que solicite quantas horas e quantos minutos ele trabalhou, solicite horas e minutos de forma separada. Depois pergunte quanto ele ganha por hora e informe quanto ele irá ganhar. Sabendo que nessa empresa o funcionário ganha 70% a mais pelas horas trabalhadas."
      ]
    },
    {
      "cell_type": "markdown",
      "metadata": {
        "id": "ep1fP_SY9Kkb"
      },
      "source": [
        "![conversão.drawio (1).png](data:image/png;base64,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)"
      ]
    },
    {
      "cell_type": "code",
      "execution_count": null,
      "metadata": {
        "id": "BdKgoxwlG-pe"
      },
      "outputs": [],
      "source": [
        "hrstrab = int(input(\"Digite a quantidade de horas trabalhalhadas:\"))\n",
        "mintrab = int(input(\"Digite a quantidade de minutos trabalhados:\""
      ]
    },
    {
      "cell_type": "code",
      "execution_count": null,
      "metadata": {
        "colab": {
          "base_uri": "https://localhost:8080/"
        },
        "id": "78ixbLkaII7r",
        "outputId": "7aa4a06f-75d6-4a3f-9c74-65ab879747cb"
      },
      "outputs": [
        {
          "name": "stdout",
          "output_type": "stream",
          "text": [
            "Digite o quanto você recebe por hora:25\n"
          ]
        }
      ],
      "source": [
        "valorhora = float(input(\"Digite o quanto você recebe por hora:\"))"
      ]
    },
    {
      "cell_type": "code",
      "execution_count": null,
      "metadata": {
        "id": "wpZO0zjoI8l6"
      },
      "outputs": [],
      "source": [
        "conv = hrstrab + (minstrab/60)"
      ]
    },
    {
      "cell_type": "code",
      "execution_count": null,
      "metadata": {
        "id": "McY1Ogl1JxW6"
      },
      "outputs": [],
      "source": [
        "salario = (conv*valorhora)"
      ]
    },
    {
      "cell_type": "code",
      "execution_count": null,
      "metadata": {
        "id": "Sei7tBCHDDMx"
      },
      "outputs": [],
      "source": [
        "salario2 = (salario*70/100)+salario"
      ]
    },
    {
      "cell_type": "code",
      "execution_count": null,
      "metadata": {
        "colab": {
          "base_uri": "https://localhost:8080/"
        },
        "id": "GGqLKpHFKIyF",
        "outputId": "c96a5804-46e5-49ac-a5a4-1edcccab3759"
      },
      "outputs": [
        {
          "name": "stdout",
          "output_type": "stream",
          "text": [
            "Você ganhará R$669.38 pelas horas extras trabalhadas.\n"
          ]
        }
      ],
      "source": [
        "print(f\"Você ganhará R${salarioadicional:.2f} pelas horas extras trabalhadas.\")"
      ]
    }
  ],
  "metadata": {
    "colab": {
      "provenance": [],
      "authorship_tag": "ABX9TyP3kofrC0yJBI2cPNb06yJ2",
      "include_colab_link": true
    },
    "kernelspec": {
      "display_name": "Python 3",
      "name": "python3"
    },
    "language_info": {
      "name": "python"
    }
  },
  "nbformat": 4,
  "nbformat_minor": 0
}