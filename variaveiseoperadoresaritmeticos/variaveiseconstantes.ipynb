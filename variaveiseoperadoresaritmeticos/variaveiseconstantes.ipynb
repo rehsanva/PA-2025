{
  "nbformat": 4,
  "nbformat_minor": 0,
  "metadata": {
    "colab": {
      "provenance": [],
      "authorship_tag": "ABX9TyMOjzTBBPjolj6lbxXz+ScJ",
      "include_colab_link": true
    },
    "kernelspec": {
      "name": "python3",
      "display_name": "Python 3"
    },
    "language_info": {
      "name": "python"
    }
  },
  "cells": [
    {
      "cell_type": "markdown",
      "metadata": {
        "id": "view-in-github",
        "colab_type": "text"
      },
      "source": [
        "<a href=\"https://colab.research.google.com/github/rehsanva/PA-2025/blob/main/variaveiseoperadoresaritmeticos/variaveiseconstantes.ipynb\" target=\"_parent\"><img src=\"https://colab.research.google.com/assets/colab-badge.svg\" alt=\"Open In Colab\"/></a>"
      ]
    },
    {
      "cell_type": "markdown",
      "source": [
        "#Variavéis e Constantes\n",
        "\n"
      ],
      "metadata": {
        "id": "xp2dpK7agRJO"
      }
    },
    {
      "cell_type": "code",
      "execution_count": 22,
      "metadata": {
        "id": "ApNtEdlFf9TP"
      },
      "outputs": [],
      "source": [
        "idade= 15\n",
        "altura = 1.70\n",
        "nome = \"Rebeca Santos\"\n",
        "vai = True"
      ]
    },
    {
      "cell_type": "code",
      "source": [
        "nomes= [\"Rebeca Santos\",\"Priscila\",\"Ricardo\"]\n",
        "nomes2= (\"Rebeca Santos\",\"Priscila\",\"Ricardo\")\n",
        "tudo={nome:\"Rebeca Santos\",idade: 15,altura:1.70,vai:True}"
      ],
      "metadata": {
        "id": "z1WQIjp6iY6d"
      },
      "execution_count": 21,
      "outputs": []
    },
    {
      "cell_type": "code",
      "source": [
        "print(nome)\n",
        "print(nomes)\n",
        "print(nomes2)"
      ],
      "metadata": {
        "id": "0ljyggpLjLvm",
        "colab": {
          "base_uri": "https://localhost:8080/"
        },
        "outputId": "9cad8c3b-fdd9-4b97-bfef-c16d1a99ec40"
      },
      "execution_count": 11,
      "outputs": [
        {
          "output_type": "stream",
          "name": "stdout",
          "text": [
            "Rebeca Santos\n",
            "['Rebeca Santos', 'Priscila', 'Ricardo']\n",
            "('Rebeca Santos', 'Priscila', 'Ricardo')\n"
          ]
        }
      ]
    },
    {
      "cell_type": "code",
      "source": [
        "print(type(idade))\n",
        "print(type(altura))\n",
        "print(type(vai))\n",
        "print(type(nome))\n",
        "print(type(nomes))\n",
        "print(type(nomes2))\n",
        "print(type(tudo))"
      ],
      "metadata": {
        "id": "pSWILtvXkKfp",
        "colab": {
          "base_uri": "https://localhost:8080/"
        },
        "outputId": "492d513c-8b59-46d1-e937-547cda8e827a"
      },
      "execution_count": 23,
      "outputs": [
        {
          "output_type": "stream",
          "name": "stdout",
          "text": [
            "<class 'int'>\n",
            "<class 'float'>\n",
            "<class 'bool'>\n",
            "<class 'str'>\n",
            "<class 'list'>\n",
            "<class 'tuple'>\n",
            "<class 'dict'>\n"
          ]
        }
      ]
    },
    {
      "cell_type": "code",
      "source": [
        "print(\"O nome dela é:\", nome, \"sua idade é:\", idade,\"anos\" \",e ele tem\", altura,\"metros.\")"
      ],
      "metadata": {
        "id": "CyZWitZ1pPK6",
        "colab": {
          "base_uri": "https://localhost:8080/"
        },
        "outputId": "1927d1f3-3c1d-4050-e18d-bb6201c69061"
      },
      "execution_count": 13,
      "outputs": [
        {
          "output_type": "stream",
          "name": "stdout",
          "text": [
            "O nome dela é: Rebeca Santos sua idade é: 15 anos,e ele tem 1.7 metros.\n"
          ]
        }
      ]
    },
    {
      "cell_type": "code",
      "source": [
        "print(f\"O nome dela é:{nome}. A altura é:{altura}\")\n"
      ],
      "metadata": {
        "id": "isoO9WRhtoKn",
        "colab": {
          "base_uri": "https://localhost:8080/"
        },
        "outputId": "85239bc3-ec84-4e4e-db11-71843f3d0c4a"
      },
      "execution_count": 14,
      "outputs": [
        {
          "output_type": "stream",
          "name": "stdout",
          "text": [
            "O nome dela é:Rebeca Santos. A altura é:1.7\n"
          ]
        }
      ]
    },
    {
      "cell_type": "markdown",
      "source": [
        "Área do Circulo"
      ],
      "metadata": {
        "id": "g1abelrTvbwr"
      }
    },
    {
      "cell_type": "code",
      "source": [
        "\n",
        "PI = 3.14159\n",
        "raio = float(input(\"Digite o valor do raio do circulo:\" ))\n"
      ],
      "metadata": {
        "id": "vl3xXTcLvsWE",
        "colab": {
          "base_uri": "https://localhost:8080/"
        },
        "outputId": "766f4840-78e6-44f3-ca68-bd551e1e1b3a"
      },
      "execution_count": 15,
      "outputs": [
        {
          "name": "stdout",
          "output_type": "stream",
          "text": [
            "Digite o valor do raio do circulo:5\n"
          ]
        }
      ]
    },
    {
      "cell_type": "code",
      "source": [
        "areacir = PI * (raio**2)"
      ],
      "metadata": {
        "id": "6LjqQk3QwYoo"
      },
      "execution_count": 16,
      "outputs": []
    },
    {
      "cell_type": "code",
      "source": [
        "print(\"A área do circulo é:\", areacir)"
      ],
      "metadata": {
        "id": "OUDqOIvVyg3q",
        "colab": {
          "base_uri": "https://localhost:8080/"
        },
        "outputId": "a39f0f53-c3f2-4b70-eac8-56f5c33e2ca7"
      },
      "execution_count": 17,
      "outputs": [
        {
          "output_type": "stream",
          "name": "stdout",
          "text": [
            "A área do circulo é: 78.53975\n"
          ]
        }
      ]
    },
    {
      "cell_type": "markdown",
      "source": [
        "Área do Quadrado"
      ],
      "metadata": {
        "id": "y79FX5RKzrlU"
      }
    },
    {
      "cell_type": "code",
      "source": [
        "lado=float(input(\"Digite o valor do lado do quadrado\"))"
      ],
      "metadata": {
        "id": "lsMtZxOtzv6f",
        "colab": {
          "base_uri": "https://localhost:8080/"
        },
        "outputId": "9dc1fc2c-6605-48c3-f9b1-59f0cbe0e0db"
      },
      "execution_count": 18,
      "outputs": [
        {
          "name": "stdout",
          "output_type": "stream",
          "text": [
            "Digite o valor do lado do quadrado8\n"
          ]
        }
      ]
    },
    {
      "cell_type": "code",
      "source": [
        "areaqua= lado * lado"
      ],
      "metadata": {
        "id": "nApB_BUFz885"
      },
      "execution_count": 19,
      "outputs": []
    },
    {
      "cell_type": "code",
      "source": [
        "print(\"A area do quadradao é:\", areaqua)"
      ],
      "metadata": {
        "colab": {
          "base_uri": "https://localhost:8080/"
        },
        "id": "gmxncJN90I5B",
        "outputId": "301422e2-84d6-46ae-f5c6-d066ed6ea66d"
      },
      "execution_count": 20,
      "outputs": [
        {
          "output_type": "stream",
          "name": "stdout",
          "text": [
            "A area do quadradao é: 64.0\n"
          ]
        }
      ]
    },
    {
      "cell_type": "markdown",
      "source": [
        "#Exercícios"
      ],
      "metadata": {
        "id": "HlfN9HKfo_fn"
      }
    },
    {
      "cell_type": "markdown",
      "source": [
        "##Exercício 1 - Área do Retângulo\n",
        "\n",
        "Crie um programa que calcule a área de um retângulo usando uma constante para representar a base.\n",
        "\n",
        " Fórmula: A = base × altura"
      ],
      "metadata": {
        "id": "Ajeg-Ofwp4Q-"
      }
    },
    {
      "cell_type": "code",
      "source": [
        "base = float(input(\"Digite o valor da base do retangulo:\"))"
      ],
      "metadata": {
        "colab": {
          "base_uri": "https://localhost:8080/"
        },
        "id": "KxL9HN8rp8g4",
        "outputId": "28092c21-4fce-4517-d7b3-2162d2097165"
      },
      "execution_count": 28,
      "outputs": [
        {
          "name": "stdout",
          "output_type": "stream",
          "text": [
            "Digite o valor da base do retangulo:5\n"
          ]
        }
      ]
    },
    {
      "cell_type": "code",
      "source": [
        "altura = float(input(\"Digite o valor da altura:\"))"
      ],
      "metadata": {
        "colab": {
          "base_uri": "https://localhost:8080/"
        },
        "id": "21O-R2FqqZtn",
        "outputId": "61f09723-b6ce-44e8-be3e-61161eda6217"
      },
      "execution_count": 29,
      "outputs": [
        {
          "name": "stdout",
          "output_type": "stream",
          "text": [
            "Digite o valor da altura:4\n"
          ]
        }
      ]
    },
    {
      "cell_type": "code",
      "source": [
        "arearet = base * altura"
      ],
      "metadata": {
        "id": "95D5ZjveqmMI"
      },
      "execution_count": 32,
      "outputs": []
    },
    {
      "cell_type": "code",
      "source": [
        "print(\"A área do retangulo é:\", arearet)"
      ],
      "metadata": {
        "colab": {
          "base_uri": "https://localhost:8080/"
        },
        "id": "vcOCxUJrq8DX",
        "outputId": "aea2c98e-ca76-4faa-edae-66247a031bfd"
      },
      "execution_count": 33,
      "outputs": [
        {
          "output_type": "stream",
          "name": "stdout",
          "text": [
            "A área do retangulo é: 320.0\n"
          ]
        }
      ]
    },
    {
      "cell_type": "markdown",
      "source": [
        "##Exercício 2 – Perímetro do Círculo\n",
        "\n",
        "Crie um programa que calcule o perímetro de um círculo usando a constante π.\n",
        "\n",
        " Fórmula: P = 2 × π × r"
      ],
      "metadata": {
        "id": "Niqq4ZcCrFTA"
      }
    },
    {
      "cell_type": "code",
      "source": [
        "raio = float(input(\"Digite o valor do raio do círculo:\"))"
      ],
      "metadata": {
        "colab": {
          "base_uri": "https://localhost:8080/"
        },
        "id": "Bl4dBhqlrKG3",
        "outputId": "c8edab4a-0d3c-4511-a8dc-2f79bdaab6b6"
      },
      "execution_count": 35,
      "outputs": [
        {
          "name": "stdout",
          "output_type": "stream",
          "text": [
            "Digite o valor do raio do círculo:2\n"
          ]
        }
      ]
    },
    {
      "cell_type": "code",
      "source": [
        "perímetro = 2 * 3.1416 * raio"
      ],
      "metadata": {
        "id": "iiDvlUAHriOA"
      },
      "execution_count": 41,
      "outputs": []
    },
    {
      "cell_type": "code",
      "source": [
        "print(f\"O valor do perímetro do circulo é:{perímetro:.2f}\")"
      ],
      "metadata": {
        "colab": {
          "base_uri": "https://localhost:8080/"
        },
        "id": "n9HknlQgrzCv",
        "outputId": "42ba2d04-9da0-4be5-8914-207dbf4521ea"
      },
      "execution_count": 45,
      "outputs": [
        {
          "output_type": "stream",
          "name": "stdout",
          "text": [
            "O valor do perímetro do circulo é:12.57\n"
          ]
        }
      ]
    },
    {
      "cell_type": "markdown",
      "source": [
        "##Exercício 3 – Conversão de Temperatura\n",
        "\n",
        "Crie um programa que converta uma temperatura de Fahrenheit para Celsius.\n",
        "\n",
        " Fórmula: C = (F - 32) × 5/9\n",
        "\n",
        " Desafio:\n",
        "\n",
        "Peça ao usuário para inserir a temperatura em Fahrenheit.\n",
        "\n",
        "Exiba o resultado formatado com duas casas decimais."
      ],
      "metadata": {
        "id": "kdJmTqGBsNKw"
      }
    },
    {
      "cell_type": "code",
      "source": [
        "Fahrenheit = float(input(\"Digite a temperatura atual dos EUA:\"))"
      ],
      "metadata": {
        "colab": {
          "base_uri": "https://localhost:8080/"
        },
        "id": "rYA3gU43sY5m",
        "outputId": "36d514b4-0cbe-43dc-db69-87372e34d23b"
      },
      "execution_count": 51,
      "outputs": [
        {
          "name": "stdout",
          "output_type": "stream",
          "text": [
            "Digite a temperatura atual dos EUA:15.6\n"
          ]
        }
      ]
    },
    {
      "cell_type": "code",
      "source": [
        "Celcius = ((Fahrenheit - 32) * 5/9)"
      ],
      "metadata": {
        "id": "BtEA0hiwtnRH"
      },
      "execution_count": 52,
      "outputs": []
    },
    {
      "cell_type": "code",
      "source": [
        "print(f\"O resultado da conversão de Fahrenheit para Celcius é:{Celcius:.2f}\")"
      ],
      "metadata": {
        "colab": {
          "base_uri": "https://localhost:8080/"
        },
        "id": "kpTQYFWTt5n-",
        "outputId": "8c7c7df0-5f0e-46aa-bef8-f5600fc5ff7d"
      },
      "execution_count": 60,
      "outputs": [
        {
          "output_type": "stream",
          "name": "stdout",
          "text": [
            "O resultado da conversão de Fahrenheit para Celcius é:-9.11\n"
          ]
        }
      ]
    },
    {
      "cell_type": "markdown",
      "source": [
        "##Exercício 4 – Cálculo do IMC\n",
        "\n",
        "Crie um programa que calcule o Índice de Massa Corporal (IMC) de uma pessoa.\n",
        "\n",
        " Fórmula: IMC = peso / altura²\n",
        "\n",
        " Desafio:\n",
        "\n",
        "Peça ao usuário para informar peso e altura.\n",
        "\n",
        "Exiba o IMC calculado."
      ],
      "metadata": {
        "id": "YTlHFMCJvTbH"
      }
    },
    {
      "cell_type": "code",
      "source": [
        "peso = float(input(\"Digite seu peso\"))"
      ],
      "metadata": {
        "colab": {
          "base_uri": "https://localhost:8080/"
        },
        "id": "u2nSh36QvsXG",
        "outputId": "873dcbd0-c28d-470f-c294-663e4cb63b2e"
      },
      "execution_count": 63,
      "outputs": [
        {
          "name": "stdout",
          "output_type": "stream",
          "text": [
            "Digite seu peso45\n"
          ]
        }
      ]
    },
    {
      "cell_type": "code",
      "source": [
        "altura = float(input(\"Digite sua altura\"))"
      ],
      "metadata": {
        "colab": {
          "base_uri": "https://localhost:8080/"
        },
        "id": "vzxTbbtnwF-G",
        "outputId": "cb8f13f2-8590-434d-8caa-6280c89375fa"
      },
      "execution_count": 65,
      "outputs": [
        {
          "name": "stdout",
          "output_type": "stream",
          "text": [
            "Digite sua altura1.70\n"
          ]
        }
      ]
    },
    {
      "cell_type": "code",
      "source": [
        " IMC = peso / altura**2"
      ],
      "metadata": {
        "id": "kgCun5XqwnzF"
      },
      "execution_count": 67,
      "outputs": []
    },
    {
      "cell_type": "code",
      "source": [
        "print(f\"O seu IMC é:{IMC:.2f}\")"
      ],
      "metadata": {
        "colab": {
          "base_uri": "https://localhost:8080/"
        },
        "id": "D1x60XKawxhv",
        "outputId": "da6b9900-4136-423b-ae0c-80378254739f"
      },
      "execution_count": 70,
      "outputs": [
        {
          "output_type": "stream",
          "name": "stdout",
          "text": [
            "O seu IMC é:15.57\n"
          ]
        }
      ]
    }
  ]
}