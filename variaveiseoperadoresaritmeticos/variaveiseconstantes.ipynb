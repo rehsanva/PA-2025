{
  "nbformat": 4,
  "nbformat_minor": 0,
  "metadata": {
    "colab": {
      "provenance": [],
      "authorship_tag": "ABX9TyPpaQa6krMy+v6Z/JP8u5Qb",
      "include_colab_link": true
    },
    "kernelspec": {
      "name": "python3",
      "display_name": "Python 3"
    },
    "language_info": {
      "name": "python"
    }
  },
  "cells": [
    {
      "cell_type": "markdown",
      "metadata": {
        "id": "view-in-github",
        "colab_type": "text"
      },
      "source": [
        "<a href=\"https://colab.research.google.com/github/rehsanva/PA-2025/blob/main/variaveiseoperadoresaritmeticos/variaveiseconstantes.ipynb\" target=\"_parent\"><img src=\"https://colab.research.google.com/assets/colab-badge.svg\" alt=\"Open In Colab\"/></a>"
      ]
    },
    {
      "cell_type": "markdown",
      "source": [],
      "metadata": {
        "id": "SVEhV7h80pxi"
      }
    },
    {
      "cell_type": "markdown",
      "source": [
        "#Variavéis e Constantes\n",
        "\n"
      ],
      "metadata": {
        "id": "xp2dpK7agRJO"
      }
    },
    {
      "cell_type": "code",
      "execution_count": 1,
      "metadata": {
        "id": "ApNtEdlFf9TP"
      },
      "outputs": [],
      "source": [
        "idade= 15\n",
        "altura = 1.70\n",
        "nome = \"Rebeca Santos\"\n",
        "vai = True"
      ]
    },
    {
      "cell_type": "code",
      "source": [
        "nomes= [\"Rebeca Santos\",\"Priscila\",\"Ricardo\"]\n",
        "nomes2= (\"Rebeca Santos\",\"Priscila\",\"Ricardo\")\n",
        "tudo={nome:\"Rebeca Santos\",idade: 15,altura:1.70,vai:True}"
      ],
      "metadata": {
        "id": "z1WQIjp6iY6d"
      },
      "execution_count": 2,
      "outputs": []
    },
    {
      "cell_type": "code",
      "source": [
        "print(nome)\n",
        "print(nomes)\n",
        "print(nomes2)"
      ],
      "metadata": {
        "id": "0ljyggpLjLvm",
        "colab": {
          "base_uri": "https://localhost:8080/"
        },
        "outputId": "319a89a4-1eaf-475f-8395-b4cf1a382d29"
      },
      "execution_count": 3,
      "outputs": [
        {
          "output_type": "stream",
          "name": "stdout",
          "text": [
            "Rebeca Santos\n",
            "['Rebeca Santos', 'Priscila', 'Ricardo']\n",
            "('Rebeca Santos', 'Priscila', 'Ricardo')\n"
          ]
        }
      ]
    },
    {
      "cell_type": "code",
      "source": [
        "print(type(idade))\n",
        "print(type(altura))\n",
        "print(type(vai))\n",
        "print(type(nome))\n",
        "print(type(nomes))\n",
        "print(type(nomes2))\n",
        "print(type(tudo))"
      ],
      "metadata": {
        "id": "pSWILtvXkKfp",
        "colab": {
          "base_uri": "https://localhost:8080/"
        },
        "outputId": "b870ee21-273f-426b-b1df-49445a73f982"
      },
      "execution_count": 4,
      "outputs": [
        {
          "output_type": "stream",
          "name": "stdout",
          "text": [
            "<class 'int'>\n",
            "<class 'float'>\n",
            "<class 'bool'>\n",
            "<class 'str'>\n",
            "<class 'list'>\n",
            "<class 'tuple'>\n",
            "<class 'dict'>\n"
          ]
        }
      ]
    },
    {
      "cell_type": "code",
      "source": [
        "print(\"O nome dela é:\", nome, \"sua idade é:\", idade,\"anos\" \",e ele tem\", altura,\"metros.\")"
      ],
      "metadata": {
        "id": "CyZWitZ1pPK6",
        "colab": {
          "base_uri": "https://localhost:8080/"
        },
        "outputId": "ed3aff0b-9eae-4b8b-fc28-87885e9c913b"
      },
      "execution_count": 5,
      "outputs": [
        {
          "output_type": "stream",
          "name": "stdout",
          "text": [
            "O nome dela é: Rebeca Santos sua idade é: 15 anos,e ele tem 1.7 metros.\n"
          ]
        }
      ]
    },
    {
      "cell_type": "code",
      "source": [
        "print(f\"O nome dela é:{nome}. A altura é:{altura}\")\n"
      ],
      "metadata": {
        "id": "isoO9WRhtoKn",
        "colab": {
          "base_uri": "https://localhost:8080/"
        },
        "outputId": "9a93468d-3415-4009-c91c-92e4b35f3623"
      },
      "execution_count": 6,
      "outputs": [
        {
          "output_type": "stream",
          "name": "stdout",
          "text": [
            "O nome dela é:Rebeca Santos. A altura é:1.7\n"
          ]
        }
      ]
    },
    {
      "cell_type": "markdown",
      "source": [
        "Área do Circulo"
      ],
      "metadata": {
        "id": "g1abelrTvbwr"
      }
    },
    {
      "cell_type": "code",
      "source": [
        "\n",
        "PI = 3.14159\n",
        "raio = float(input(\"Digite o valor do raio do circulo:\" ))\n"
      ],
      "metadata": {
        "id": "vl3xXTcLvsWE",
        "colab": {
          "base_uri": "https://localhost:8080/"
        },
        "outputId": "e13f4fd0-7e79-402d-edb1-155a8d0c5d8d"
      },
      "execution_count": 7,
      "outputs": [
        {
          "name": "stdout",
          "output_type": "stream",
          "text": [
            "Digite o valor do raio do circulo:20\n"
          ]
        }
      ]
    },
    {
      "cell_type": "code",
      "source": [
        "areacir = PI * (raio**2)"
      ],
      "metadata": {
        "id": "6LjqQk3QwYoo"
      },
      "execution_count": 8,
      "outputs": []
    },
    {
      "cell_type": "code",
      "source": [
        "print(\"A área do circulo é:\", areacir)"
      ],
      "metadata": {
        "id": "OUDqOIvVyg3q",
        "colab": {
          "base_uri": "https://localhost:8080/"
        },
        "outputId": "3db9ed65-e55f-4d11-cb21-a2ea0771ce80"
      },
      "execution_count": 9,
      "outputs": [
        {
          "output_type": "stream",
          "name": "stdout",
          "text": [
            "A área do circulo é: 1256.636\n"
          ]
        }
      ]
    },
    {
      "cell_type": "markdown",
      "source": [
        "Área do Quadrado"
      ],
      "metadata": {
        "id": "y79FX5RKzrlU"
      }
    },
    {
      "cell_type": "code",
      "source": [
        "lado=float(input(\"Digite o valor do lado do quadrado em cm\"))"
      ],
      "metadata": {
        "id": "lsMtZxOtzv6f",
        "colab": {
          "base_uri": "https://localhost:8080/"
        },
        "outputId": "9f0a89a3-a745-4d8c-f1d4-973704346ed1"
      },
      "execution_count": 10,
      "outputs": [
        {
          "name": "stdout",
          "output_type": "stream",
          "text": [
            "Digite o valor do lado do quadrado em cm15\n"
          ]
        }
      ]
    },
    {
      "cell_type": "code",
      "source": [
        "areaqua= lado * lado"
      ],
      "metadata": {
        "id": "nApB_BUFz885"
      },
      "execution_count": 11,
      "outputs": []
    },
    {
      "cell_type": "code",
      "source": [
        "print(\"A area do quadrado é:\", areaqua)"
      ],
      "metadata": {
        "id": "gmxncJN90I5B",
        "colab": {
          "base_uri": "https://localhost:8080/"
        },
        "outputId": "074522fc-2226-44de-c53b-d62360ed3d4d"
      },
      "execution_count": 12,
      "outputs": [
        {
          "output_type": "stream",
          "name": "stdout",
          "text": [
            "A area do quadrado é: 225.0\n"
          ]
        }
      ]
    },
    {
      "cell_type": "markdown",
      "source": [
        "#Exercícios"
      ],
      "metadata": {
        "id": "HlfN9HKfo_fn"
      }
    },
    {
      "cell_type": "markdown",
      "source": [
        "##Exercício 1 - Área do Retângulo\n",
        "\n",
        "Crie um programa que calcule a área de um retângulo usando uma constante para representar a base.\n",
        "\n",
        " Fórmula: A = base × altura"
      ],
      "metadata": {
        "id": "Ajeg-Ofwp4Q-"
      }
    },
    {
      "cell_type": "code",
      "source": [
        "base = float(input(\"Digite o valor da base do retangulo:\"))"
      ],
      "metadata": {
        "id": "KxL9HN8rp8g4",
        "colab": {
          "base_uri": "https://localhost:8080/"
        },
        "outputId": "7af21938-f28f-4a48-dd65-74e5dd6c5562"
      },
      "execution_count": 136,
      "outputs": [
        {
          "name": "stdout",
          "output_type": "stream",
          "text": [
            "Digite o valor da base do retangulo:5\n"
          ]
        }
      ]
    },
    {
      "cell_type": "code",
      "source": [
        "altura = float(input(\"Digite o valor da altura:\"))"
      ],
      "metadata": {
        "colab": {
          "base_uri": "https://localhost:8080/"
        },
        "id": "21O-R2FqqZtn",
        "outputId": "9c948ea1-5ea3-401e-c111-85ceea067c4f"
      },
      "execution_count": 137,
      "outputs": [
        {
          "name": "stdout",
          "output_type": "stream",
          "text": [
            "Digite o valor da altura:2\n"
          ]
        }
      ]
    },
    {
      "cell_type": "code",
      "source": [
        "arearet = base * altura"
      ],
      "metadata": {
        "id": "95D5ZjveqmMI"
      },
      "execution_count": 138,
      "outputs": []
    },
    {
      "cell_type": "code",
      "source": [
        "print(\"A área do retangulo é:\", arearet)"
      ],
      "metadata": {
        "colab": {
          "base_uri": "https://localhost:8080/"
        },
        "id": "vcOCxUJrq8DX",
        "outputId": "83135670-9bbc-4d77-e950-23bebfa97d89"
      },
      "execution_count": 139,
      "outputs": [
        {
          "output_type": "stream",
          "name": "stdout",
          "text": [
            "A área do retangulo é: 10.0\n"
          ]
        }
      ]
    },
    {
      "cell_type": "markdown",
      "source": [
        "##Exercício 2 – Perímetro do Círculo\n",
        "\n",
        "Crie um programa que calcule o perímetro de um círculo usando a constante π.\n",
        "\n",
        " Fórmula: P = 2 × π × r"
      ],
      "metadata": {
        "id": "Niqq4ZcCrFTA"
      }
    },
    {
      "cell_type": "code",
      "source": [
        "raio = float(input(\"Digite o valor do raio do círculo:\"))"
      ],
      "metadata": {
        "colab": {
          "base_uri": "https://localhost:8080/"
        },
        "id": "Bl4dBhqlrKG3",
        "outputId": "cbe86595-1a9e-4088-f442-237b49925e01"
      },
      "execution_count": 17,
      "outputs": [
        {
          "name": "stdout",
          "output_type": "stream",
          "text": [
            "Digite o valor do raio do círculo:7\n"
          ]
        }
      ]
    },
    {
      "cell_type": "code",
      "source": [
        "perímetro = 2 * 3.1416 * raio"
      ],
      "metadata": {
        "id": "iiDvlUAHriOA"
      },
      "execution_count": 18,
      "outputs": []
    },
    {
      "cell_type": "code",
      "source": [
        "print(f\"O valor do perímetro do circulo é:{perímetro:.2f}\")"
      ],
      "metadata": {
        "colab": {
          "base_uri": "https://localhost:8080/"
        },
        "id": "n9HknlQgrzCv",
        "outputId": "897ad454-79b5-4828-c21a-36d9f2858824"
      },
      "execution_count": 19,
      "outputs": [
        {
          "output_type": "stream",
          "name": "stdout",
          "text": [
            "O valor do perímetro do circulo é:43.98\n"
          ]
        }
      ]
    },
    {
      "cell_type": "markdown",
      "source": [
        "##Exercício 3 – Conversão de Temperatura\n",
        "\n",
        "Crie um programa que converta uma temperatura de Fahrenheit para Celsius.\n",
        "\n",
        " Fórmula: C = (F - 32) × 5/9\n",
        "\n",
        " Desafio:\n",
        "\n",
        "Peça ao usuário para inserir a temperatura em Fahrenheit.\n",
        "\n",
        "Exiba o resultado formatado com duas casas decimais."
      ],
      "metadata": {
        "id": "kdJmTqGBsNKw"
      }
    },
    {
      "cell_type": "code",
      "source": [
        "Fahrenheit = float(input(\"Digite a temperatura atual dos EUA:\"))"
      ],
      "metadata": {
        "colab": {
          "base_uri": "https://localhost:8080/"
        },
        "id": "rYA3gU43sY5m",
        "outputId": "9c46dc5c-f33f-46cc-9828-e5c9ab9869b2"
      },
      "execution_count": 140,
      "outputs": [
        {
          "name": "stdout",
          "output_type": "stream",
          "text": [
            "Digite a temperatura atual dos EUA:35\n"
          ]
        }
      ]
    },
    {
      "cell_type": "code",
      "source": [
        "Celcius = ((Fahrenheit - 32) * 5/9)"
      ],
      "metadata": {
        "id": "BtEA0hiwtnRH"
      },
      "execution_count": 141,
      "outputs": []
    },
    {
      "cell_type": "code",
      "source": [
        "print(f\"O resultado da conversão de graus Fahrenheit para graus Celcius é:{Celcius:.2f}\")"
      ],
      "metadata": {
        "colab": {
          "base_uri": "https://localhost:8080/"
        },
        "id": "kpTQYFWTt5n-",
        "outputId": "7a0f37f4-0ed8-4607-d3e1-d1f7b2c6ade8"
      },
      "execution_count": 142,
      "outputs": [
        {
          "output_type": "stream",
          "name": "stdout",
          "text": [
            "O resultado da conversão de graus Fahrenheit para graus Celcius é:1.67\n"
          ]
        }
      ]
    },
    {
      "cell_type": "markdown",
      "source": [
        "##Exercício 4 – Cálculo do IMC\n",
        "\n",
        "Crie um programa que calcule o Índice de Massa Corporal (IMC) de uma pessoa.\n",
        "\n",
        " Fórmula: IMC = peso / altura²\n",
        "\n",
        " Desafio:\n",
        "\n",
        "Peça ao usuário para informar peso e altura.\n",
        "\n",
        "Exiba o IMC calculado."
      ],
      "metadata": {
        "id": "YTlHFMCJvTbH"
      }
    },
    {
      "cell_type": "code",
      "source": [
        "peso = float(input(\"Digite seu peso\"))"
      ],
      "metadata": {
        "colab": {
          "base_uri": "https://localhost:8080/"
        },
        "id": "u2nSh36QvsXG",
        "outputId": "02f0f266-b374-442f-8991-a9531d96fe84"
      },
      "execution_count": 23,
      "outputs": [
        {
          "name": "stdout",
          "output_type": "stream",
          "text": [
            "Digite seu peso78\n"
          ]
        }
      ]
    },
    {
      "cell_type": "code",
      "source": [
        "altura = float(input(\"Digite sua altura\"))"
      ],
      "metadata": {
        "id": "vzxTbbtnwF-G",
        "colab": {
          "base_uri": "https://localhost:8080/"
        },
        "outputId": "da6848ff-887d-4c48-f9c5-d4d8b592670f"
      },
      "execution_count": 25,
      "outputs": [
        {
          "name": "stdout",
          "output_type": "stream",
          "text": [
            "Digite sua altura1.72\n"
          ]
        }
      ]
    },
    {
      "cell_type": "code",
      "source": [
        " IMC = peso / altura**2"
      ],
      "metadata": {
        "id": "kgCun5XqwnzF"
      },
      "execution_count": 26,
      "outputs": []
    },
    {
      "cell_type": "code",
      "source": [
        "print(f\"O seu IMC é:{IMC:.2f}\")"
      ],
      "metadata": {
        "id": "D1x60XKawxhv",
        "colab": {
          "base_uri": "https://localhost:8080/"
        },
        "outputId": "414fad03-7a65-4c87-a6e4-f73a2b0061f6"
      },
      "execution_count": 27,
      "outputs": [
        {
          "output_type": "stream",
          "name": "stdout",
          "text": [
            "O seu IMC é:26.37\n"
          ]
        }
      ]
    },
    {
      "cell_type": "markdown",
      "source": [
        "##Exercícios 14/03"
      ],
      "metadata": {
        "id": "oZYtyyIFuoOc"
      }
    },
    {
      "cell_type": "markdown",
      "source": [
        "##Exercício 1:\n",
        "\n",
        "O custo ao consumidor de um carro novo é a soma do custo de fábrica com a percentagem do distribuidor e dos impostos (aplicados, primeiro os impostos sobre o custo de fábrica, e depois a percentagem do distribuidor sobre o resultado). Supondo que a percentagem do distribuidor seja de 28% e os impostos 45%. Escrever um algoritmo que leia o custo de fábrica de um carro e informe o custo ao consumidor do mesmo."
      ],
      "metadata": {
        "id": "JwldaV6cu4Ig"
      }
    },
    {
      "cell_type": "code",
      "source": [
        "custofab = float(input(\"Insira o custo de fabrica do carro:\"))"
      ],
      "metadata": {
        "id": "OOySkA8FwLJp",
        "colab": {
          "base_uri": "https://localhost:8080/"
        },
        "outputId": "6bb5dab8-7602-4dee-d368-a498a6173a02"
      },
      "execution_count": 28,
      "outputs": [
        {
          "name": "stdout",
          "output_type": "stream",
          "text": [
            "Insira o custo de fabrica do carro:25000\n"
          ]
        }
      ]
    },
    {
      "cell_type": "code",
      "source": [
        "result1= (custofab*45)/100"
      ],
      "metadata": {
        "id": "sJ7jtGfgwUhl"
      },
      "execution_count": 66,
      "outputs": []
    },
    {
      "cell_type": "code",
      "source": [
        "custocomimp = custofab+result1"
      ],
      "metadata": {
        "id": "Owvo9SLsw13-"
      },
      "execution_count": 73,
      "outputs": []
    },
    {
      "cell_type": "code",
      "source": [
        "custodistr = (custocomimp*28)/100"
      ],
      "metadata": {
        "id": "7-OiPjPx6DJS"
      },
      "execution_count": 74,
      "outputs": []
    },
    {
      "cell_type": "code",
      "source": [
        "custofinal = custodistr+custocomimp"
      ],
      "metadata": {
        "id": "Q6JqCKpN6oNK"
      },
      "execution_count": 77,
      "outputs": []
    },
    {
      "cell_type": "code",
      "source": [
        "print(f\"O carro custará ao consumidor final: {custofinal}\")"
      ],
      "metadata": {
        "colab": {
          "base_uri": "https://localhost:8080/"
        },
        "id": "wCFUhSj46w7T",
        "outputId": "12e29b0b-b9ef-4972-84fb-3466cc571f8a"
      },
      "execution_count": 78,
      "outputs": [
        {
          "output_type": "stream",
          "name": "stdout",
          "text": [
            "O carro custará ao consumidor final: 46400.0\n"
          ]
        }
      ]
    },
    {
      "cell_type": "markdown",
      "source": [
        "##Exercício 2:\n",
        "\n",
        " Faça um algoritmo que faça conversão de minutos e horas em segundos. Solicite ao usuário a hora e os minutos separado."
      ],
      "metadata": {
        "id": "OT3_23Wd8YX1"
      }
    },
    {
      "cell_type": "code",
      "source": [
        "horas = float(input(\"Digite a quantidade de horas\"))\n",
        "minutos = float(input(\"Digite a quantidade de minutos\"))"
      ],
      "metadata": {
        "colab": {
          "base_uri": "https://localhost:8080/"
        },
        "id": "O9EO7I4v9cBo",
        "outputId": "ad95f62a-279f-4437-8eb5-37c750b6baf9"
      },
      "execution_count": 143,
      "outputs": [
        {
          "name": "stdout",
          "output_type": "stream",
          "text": [
            "Digite a quantidade de horas4\n",
            "Digite a quantidade de minutos23\n"
          ]
        }
      ]
    },
    {
      "cell_type": "code",
      "source": [
        "result1 = horas*3600"
      ],
      "metadata": {
        "id": "ieLU_3b2FzoM"
      },
      "execution_count": 144,
      "outputs": []
    },
    {
      "cell_type": "code",
      "source": [
        "result2 = minutos*60"
      ],
      "metadata": {
        "id": "0tj_-rCoGRLd"
      },
      "execution_count": 145,
      "outputs": []
    },
    {
      "cell_type": "code",
      "source": [
        "totalsegund = result1+result2"
      ],
      "metadata": {
        "id": "jZ5H1Fz2GXtM"
      },
      "execution_count": 146,
      "outputs": []
    },
    {
      "cell_type": "code",
      "source": [
        "print(f\"O total de segundos é: {totalsegund}\")"
      ],
      "metadata": {
        "colab": {
          "base_uri": "https://localhost:8080/"
        },
        "id": "Pj-MoXyKGfR1",
        "outputId": "e49a0378-6e2f-4308-9a8f-94f45628498a"
      },
      "execution_count": 147,
      "outputs": [
        {
          "output_type": "stream",
          "name": "stdout",
          "text": [
            "O total de segundos é: 15780.0\n"
          ]
        }
      ]
    },
    {
      "cell_type": "markdown",
      "source": [
        "##Exercício 3:\n",
        "  Continuando do exercício anterior, um funcionário trabalha em determinada empresa e quer saber quanto irá ganhar de hora extra. Você deverá fazer um algoritmo que solicite quantas horas e quantos minutos ele trabalhou, solicite horas e minutos de forma separada. Depois pergunte quanto ele ganha por hora e informe quanto ele irá ganhar. Sabendo que nessa empresa o funcionário ganha 70% a mais pelas horas trabalhadas."
      ],
      "metadata": {
        "id": "C3EdVG-JGq6X"
      }
    },
    {
      "cell_type": "code",
      "source": [
        "hrstrabalhadas = float(input(\"Digite a quantidade de horas trabalhalhadas:\"))\n",
        "mintrabalhados = float(input(\"Digite a quantidade de minutos trabalhados:\"))"
      ],
      "metadata": {
        "colab": {
          "base_uri": "https://localhost:8080/"
        },
        "id": "BdKgoxwlG-pe",
        "outputId": "0de0f236-456c-4940-ffd3-740fbd5b1565"
      },
      "execution_count": 124,
      "outputs": [
        {
          "name": "stdout",
          "output_type": "stream",
          "text": [
            "Digite a quantidade de horas trabalhalhadas:15\n",
            "Digite a quantidade de minutos trabalhados:45\n"
          ]
        }
      ]
    },
    {
      "cell_type": "code",
      "source": [
        "salariohr = float(input(\"Digite o quanto você recebe por hora:\"))"
      ],
      "metadata": {
        "colab": {
          "base_uri": "https://localhost:8080/"
        },
        "id": "78ixbLkaII7r",
        "outputId": "7aa4a06f-75d6-4a3f-9c74-65ab879747cb"
      },
      "execution_count": 125,
      "outputs": [
        {
          "name": "stdout",
          "output_type": "stream",
          "text": [
            "Digite o quanto você recebe por hora:25\n"
          ]
        }
      ]
    },
    {
      "cell_type": "code",
      "source": [
        "totalhrs = hrstrabalhadas + (mintrabalhados/60)"
      ],
      "metadata": {
        "id": "wpZO0zjoI8l6"
      },
      "execution_count": 134,
      "outputs": []
    },
    {
      "cell_type": "code",
      "source": [
        "salarioadicional= (salariohr*totalhrs)*1.7"
      ],
      "metadata": {
        "id": "McY1Ogl1JxW6"
      },
      "execution_count": 131,
      "outputs": []
    },
    {
      "cell_type": "code",
      "source": [
        "print(f\"Você ganhará R${salarioadicional:.2f} pelas horas extras trabalhadas.\")"
      ],
      "metadata": {
        "colab": {
          "base_uri": "https://localhost:8080/"
        },
        "id": "GGqLKpHFKIyF",
        "outputId": "c96a5804-46e5-49ac-a5a4-1edcccab3759"
      },
      "execution_count": 135,
      "outputs": [
        {
          "output_type": "stream",
          "name": "stdout",
          "text": [
            "Você ganhará R$669.38 pelas horas extras trabalhadas.\n"
          ]
        }
      ]
    }
  ]
}