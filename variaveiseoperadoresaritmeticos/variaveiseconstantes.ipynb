{
  "nbformat": 4,
  "nbformat_minor": 0,
  "metadata": {
    "colab": {
      "provenance": [],
      "authorship_tag": "ABX9TyP0pyY75suZzJNFBAfo0nDS",
      "include_colab_link": true
    },
    "kernelspec": {
      "name": "python3",
      "display_name": "Python 3"
    },
    "language_info": {
      "name": "python"
    }
  },
  "cells": [
    {
      "cell_type": "markdown",
      "metadata": {
        "id": "view-in-github",
        "colab_type": "text"
      },
      "source": [
        "<a href=\"https://colab.research.google.com/github/rehsanva/PA-2025/blob/main/variaveiseoperadoresaritmeticos/variaveiseconstantes.ipynb\" target=\"_parent\"><img src=\"https://colab.research.google.com/assets/colab-badge.svg\" alt=\"Open In Colab\"/></a>"
      ]
    },
    {
      "cell_type": "markdown",
      "source": [
        "#Variavéis e Constantes\n",
        "\n"
      ],
      "metadata": {
        "id": "xp2dpK7agRJO"
      }
    },
    {
      "cell_type": "code",
      "execution_count": null,
      "metadata": {
        "id": "ApNtEdlFf9TP"
      },
      "outputs": [],
      "source": [
        "idade= 15\n",
        "altura = 1.70\n",
        "nome = \"Rebeca Santos\"\n",
        "vai = True"
      ]
    },
    {
      "cell_type": "code",
      "source": [
        "nomes= [\"Rebeca Santos\",\"Priscila\",\"Ricardo\"]\n",
        "nomes2= (\"Rebeca Santos\",\"Priscila\",\"Ricardo\")\n",
        "tudo={nome:\"Rebeca Santos\",idade: 15,altura:1.70,vai:True}"
      ],
      "metadata": {
        "id": "z1WQIjp6iY6d"
      },
      "execution_count": null,
      "outputs": []
    },
    {
      "cell_type": "code",
      "source": [
        "print(nome)\n",
        "print(nomes)\n",
        "print(nomes2)"
      ],
      "metadata": {
        "id": "0ljyggpLjLvm",
        "colab": {
          "base_uri": "https://localhost:8080/"
        },
        "outputId": "63d80663-086e-4e80-8fbf-33d4866c1932"
      },
      "execution_count": null,
      "outputs": [
        {
          "metadata": {
            "tags": null
          },
          "name": "stdout",
          "output_type": "stream",
          "text": [
            "Rebeca Santos\n",
            "['Rebeca Santos', 'Priscila', 'Ricardo']\n",
            "('Rebeca Santos', 'Priscila', 'Ricardo')\n"
          ]
        }
      ]
    },
    {
      "cell_type": "code",
      "source": [
        "print(type(idade))\n",
        "print(type(altura))\n",
        "print(type(vai))\n",
        "print(type(nome))\n",
        "print(type(nomes))\n",
        "print(type(nomes2))\n",
        "print(type(tudo))"
      ],
      "metadata": {
        "id": "pSWILtvXkKfp",
        "colab": {
          "base_uri": "https://localhost:8080/"
        },
        "outputId": "47a94612-0279-4615-aa50-623e2177918a"
      },
      "execution_count": null,
      "outputs": [
        {
          "output_type": "stream",
          "name": "stdout",
          "text": [
            "<class 'int'>\n",
            "<class 'float'>\n",
            "<class 'bool'>\n",
            "<class 'str'>\n",
            "<class 'list'>\n",
            "<class 'tuple'>\n",
            "<class 'dict'>\n"
          ]
        }
      ]
    },
    {
      "cell_type": "code",
      "source": [
        "print(\"O nome dela é:\", nome, \"sua idade é:\", idade,\"anos\" \",e ele tem\", altura,\"metros.\")"
      ],
      "metadata": {
        "id": "CyZWitZ1pPK6",
        "colab": {
          "base_uri": "https://localhost:8080/"
        },
        "outputId": "7cbb9bc5-dd3b-4bcc-ebe5-2968b8df2ece"
      },
      "execution_count": null,
      "outputs": [
        {
          "output_type": "stream",
          "name": "stdout",
          "text": [
            "O nome dela é: Rebeca Santos sua idade é: 15 anos,e ele tem 1.7 metros.\n"
          ]
        }
      ]
    },
    {
      "cell_type": "code",
      "source": [
        "print(f\"O nome dela é : {nome}. A altura é: {altura}\")\n"
      ],
      "metadata": {
        "id": "isoO9WRhtoKn",
        "colab": {
          "base_uri": "https://localhost:8080/",
          "height": 141
        },
        "outputId": "e5756c5e-32bb-4ab4-cf8b-8ca5c24c6eac"
      },
      "execution_count": null,
      "outputs": [
        {
          "output_type": "error",
          "ename": "NameError",
          "evalue": "name 'nome' is not defined",
          "traceback": [
            "\u001b[0;31m---------------------------------------------------------------------------\u001b[0m",
            "\u001b[0;31mNameError\u001b[0m                                 Traceback (most recent call last)",
            "\u001b[0;32m<ipython-input-1-905c1063e32e>\u001b[0m in \u001b[0;36m<cell line: 0>\u001b[0;34m()\u001b[0m\n\u001b[0;32m----> 1\u001b[0;31m \u001b[0mprint\u001b[0m\u001b[0;34m(\u001b[0m\u001b[0;34mf\"O nome dela é : {nome}. A altura é: {altura}\"\u001b[0m\u001b[0;34m)\u001b[0m\u001b[0;34m\u001b[0m\u001b[0;34m\u001b[0m\u001b[0m\n\u001b[0m",
            "\u001b[0;31mNameError\u001b[0m: name 'nome' is not defined"
          ]
        }
      ]
    },
    {
      "cell_type": "markdown",
      "source": [
        "Área do Circulo"
      ],
      "metadata": {
        "id": "g1abelrTvbwr"
      }
    },
    {
      "cell_type": "code",
      "source": [
        "PI = 3.14159\n",
        "raio = float(input(\"Digite o valor do raio do circulo:\" ))\n"
      ],
      "metadata": {
        "id": "vl3xXTcLvsWE",
        "colab": {
          "base_uri": "https://localhost:8080/"
        },
        "outputId": "d9636297-2d64-4fac-b2c2-c6470cf08630"
      },
      "execution_count": null,
      "outputs": [
        {
          "name": "stdout",
          "output_type": "stream",
          "text": [
            "Digite o valor do raio do circulo:5\n"
          ]
        }
      ]
    },
    {
      "cell_type": "code",
      "source": [
        "areacir = PI * (raio**2)"
      ],
      "metadata": {
        "id": "6LjqQk3QwYoo"
      },
      "execution_count": null,
      "outputs": []
    },
    {
      "cell_type": "code",
      "source": [
        "print(\"A área do circulo é:\", areacir)"
      ],
      "metadata": {
        "id": "OUDqOIvVyg3q",
        "colab": {
          "base_uri": "https://localhost:8080/"
        },
        "outputId": "f167d27f-33f2-4447-8e3f-982a5e7363c5"
      },
      "execution_count": null,
      "outputs": [
        {
          "output_type": "stream",
          "name": "stdout",
          "text": [
            "A área do circulo é: 78.53975\n"
          ]
        }
      ]
    },
    {
      "cell_type": "markdown",
      "source": [
        "Área do Quadrado"
      ],
      "metadata": {
        "id": "y79FX5RKzrlU"
      }
    },
    {
      "cell_type": "code",
      "source": [
        "lado=float(input(\"Digite o valor do lado do quadrado\"))"
      ],
      "metadata": {
        "id": "lsMtZxOtzv6f",
        "colab": {
          "base_uri": "https://localhost:8080/"
        },
        "outputId": "20d8ccdf-573f-4718-d0df-0f1796c76fd7"
      },
      "execution_count": null,
      "outputs": [
        {
          "name": "stdout",
          "output_type": "stream",
          "text": [
            "Digite o valor do lado do quadrado5\n"
          ]
        }
      ]
    },
    {
      "cell_type": "code",
      "source": [
        "areaqua= lado * lado"
      ],
      "metadata": {
        "id": "nApB_BUFz885"
      },
      "execution_count": null,
      "outputs": []
    },
    {
      "cell_type": "code",
      "source": [
        "print(\"A area do quadradao é:\", areaqua)"
      ],
      "metadata": {
        "colab": {
          "base_uri": "https://localhost:8080/"
        },
        "id": "gmxncJN90I5B",
        "outputId": "195c1ce5-9078-4e0a-86d3-954b6002276a"
      },
      "execution_count": null,
      "outputs": [
        {
          "output_type": "stream",
          "name": "stdout",
          "text": [
            "A area do quadradao é: 16.0\n"
          ]
        }
      ]
    }
  ]
}